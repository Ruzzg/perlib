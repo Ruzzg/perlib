{
 "cells": [
  {
   "cell_type": "code",
   "execution_count": 1,
   "metadata": {
    "collapsed": true
   },
   "outputs": [
    {
     "name": "stderr",
     "output_type": "stream",
     "text": [
      "2023-01-09 10:28:58.021212: I tensorflow/core/platform/cpu_feature_guard.cc:193] This TensorFlow binary is optimized with oneAPI Deep Neural Network Library (oneDNN) to use the following CPU instructions in performance-critical operations:  SSE4.1 SSE4.2\n",
      "To enable them in other operations, rebuild TensorFlow with the appropriate compiler flags.\n"
     ]
    }
   ],
   "source": [
    "from perlib.forecaster import *\n",
    "from perlib.datasets import *\n",
    "import pandas as pd\n",
    "dataset = load_wineind()\n",
    "data = pd.DataFrame(dataset)\n",
    "data.index = pd.date_range(start=\"2022-01-01\",periods=len(data),freq=\"d\")"
   ]
  },
  {
   "cell_type": "code",
   "execution_count": 2,
   "outputs": [],
   "source": [
    "data.columns = [\"Values\"]"
   ],
   "metadata": {
    "collapsed": false
   }
  },
  {
   "cell_type": "code",
   "execution_count": 3,
   "outputs": [
    {
     "data": {
      "text/plain": "             Values\n2022-01-01 15136.00\n2022-01-02 16733.00\n2022-01-03 20016.00\n2022-01-04 17708.00\n2022-01-05 18019.00\n...             ...\n2022-06-21 26323.00\n2022-06-22 23779.00\n2022-06-23 27549.00\n2022-06-24 29660.00\n2022-06-25 23356.00\n\n[176 rows x 1 columns]",
      "text/html": "<div>\n<style scoped>\n    .dataframe tbody tr th:only-of-type {\n        vertical-align: middle;\n    }\n\n    .dataframe tbody tr th {\n        vertical-align: top;\n    }\n\n    .dataframe thead th {\n        text-align: right;\n    }\n</style>\n<table border=\"1\" class=\"dataframe\">\n  <thead>\n    <tr style=\"text-align: right;\">\n      <th></th>\n      <th>Values</th>\n    </tr>\n  </thead>\n  <tbody>\n    <tr>\n      <th>2022-01-01</th>\n      <td>15136.00</td>\n    </tr>\n    <tr>\n      <th>2022-01-02</th>\n      <td>16733.00</td>\n    </tr>\n    <tr>\n      <th>2022-01-03</th>\n      <td>20016.00</td>\n    </tr>\n    <tr>\n      <th>2022-01-04</th>\n      <td>17708.00</td>\n    </tr>\n    <tr>\n      <th>2022-01-05</th>\n      <td>18019.00</td>\n    </tr>\n    <tr>\n      <th>...</th>\n      <td>...</td>\n    </tr>\n    <tr>\n      <th>2022-06-21</th>\n      <td>26323.00</td>\n    </tr>\n    <tr>\n      <th>2022-06-22</th>\n      <td>23779.00</td>\n    </tr>\n    <tr>\n      <th>2022-06-23</th>\n      <td>27549.00</td>\n    </tr>\n    <tr>\n      <th>2022-06-24</th>\n      <td>29660.00</td>\n    </tr>\n    <tr>\n      <th>2022-06-25</th>\n      <td>23356.00</td>\n    </tr>\n  </tbody>\n</table>\n<p>176 rows × 1 columns</p>\n</div>"
     },
     "execution_count": 3,
     "metadata": {},
     "output_type": "execute_result"
    }
   ],
   "source": [
    "data"
   ],
   "metadata": {
    "collapsed": false
   }
  },
  {
   "cell_type": "code",
   "execution_count": 9,
   "outputs": [],
   "source": [
    "from perlib.core.models.smodels import models as armodels\n",
    "aR_info.modelname = \"arima\"\n",
    "aR_info.forcastingStartDate = \"2022-6-10\"\n",
    "ar = armodels(aR_info)"
   ],
   "metadata": {
    "collapsed": false
   }
  },
  {
   "cell_type": "code",
   "execution_count": 10,
   "outputs": [
    {
     "name": "stderr",
     "output_type": "stream",
     "text": [
      "100%|██████████| 400/400 [00:24<00:00, 16.24it/s]\n"
     ]
    }
   ],
   "source": [
    "from perlib.core.train import  sTrain\n",
    "train = sTrain(dataFrame=data,object=ar)\n",
    "res = train.fit()"
   ],
   "metadata": {
    "collapsed": false
   }
  },
  {
   "cell_type": "code",
   "execution_count": 6,
   "outputs": [],
   "source": [
    "from perlib.core.tester import sTester\n",
    "r = sTester(dataFrame=data,object=ar,path=\"Data-arima-2023-01-08-09-52-38.pkl\",metric=[\"mape\",\"mae\",\"mse\"])"
   ],
   "metadata": {
    "collapsed": false
   }
  },
  {
   "cell_type": "code",
   "execution_count": 7,
   "outputs": [
    {
     "data": {
      "text/plain": "            Predicts   Actual\n2022-06-02  22389.19 25156.00\n2022-06-03  27551.55 25650.00\n2022-06-04  27288.96 30923.00\n2022-06-05  21326.78 37240.00\n2022-06-06  22800.10 17466.00\n2022-06-07  27763.71 19463.00\n2022-06-08  27342.77 24352.00\n2022-06-09  21351.74 26805.00\n2022-06-10  22820.40 25236.00\n2022-06-11  27782.71 24735.00\n2022-06-12  27319.80 29356.00\n2022-06-13  21352.45 31234.00\n2022-06-14  22830.39 22724.00\n2022-06-15  27796.37 28496.00\n2022-06-16  27294.94 32857.00\n2022-06-17  21352.47 37198.00\n2022-06-18  22840.22 13652.00\n2022-06-19  27809.67 22784.00\n2022-06-20  27270.16 23565.00\n2022-06-21  21352.44 26323.00\n2022-06-22  22850.16 23779.00\n2022-06-23  27822.76 27549.00\n2022-06-24  27245.52 29660.00\n2022-06-25  21352.39 23356.00",
      "text/html": "<div>\n<style scoped>\n    .dataframe tbody tr th:only-of-type {\n        vertical-align: middle;\n    }\n\n    .dataframe tbody tr th {\n        vertical-align: top;\n    }\n\n    .dataframe thead th {\n        text-align: right;\n    }\n</style>\n<table border=\"1\" class=\"dataframe\">\n  <thead>\n    <tr style=\"text-align: right;\">\n      <th></th>\n      <th>Predicts</th>\n      <th>Actual</th>\n    </tr>\n  </thead>\n  <tbody>\n    <tr>\n      <th>2022-06-02</th>\n      <td>22389.19</td>\n      <td>25156.00</td>\n    </tr>\n    <tr>\n      <th>2022-06-03</th>\n      <td>27551.55</td>\n      <td>25650.00</td>\n    </tr>\n    <tr>\n      <th>2022-06-04</th>\n      <td>27288.96</td>\n      <td>30923.00</td>\n    </tr>\n    <tr>\n      <th>2022-06-05</th>\n      <td>21326.78</td>\n      <td>37240.00</td>\n    </tr>\n    <tr>\n      <th>2022-06-06</th>\n      <td>22800.10</td>\n      <td>17466.00</td>\n    </tr>\n    <tr>\n      <th>2022-06-07</th>\n      <td>27763.71</td>\n      <td>19463.00</td>\n    </tr>\n    <tr>\n      <th>2022-06-08</th>\n      <td>27342.77</td>\n      <td>24352.00</td>\n    </tr>\n    <tr>\n      <th>2022-06-09</th>\n      <td>21351.74</td>\n      <td>26805.00</td>\n    </tr>\n    <tr>\n      <th>2022-06-10</th>\n      <td>22820.40</td>\n      <td>25236.00</td>\n    </tr>\n    <tr>\n      <th>2022-06-11</th>\n      <td>27782.71</td>\n      <td>24735.00</td>\n    </tr>\n    <tr>\n      <th>2022-06-12</th>\n      <td>27319.80</td>\n      <td>29356.00</td>\n    </tr>\n    <tr>\n      <th>2022-06-13</th>\n      <td>21352.45</td>\n      <td>31234.00</td>\n    </tr>\n    <tr>\n      <th>2022-06-14</th>\n      <td>22830.39</td>\n      <td>22724.00</td>\n    </tr>\n    <tr>\n      <th>2022-06-15</th>\n      <td>27796.37</td>\n      <td>28496.00</td>\n    </tr>\n    <tr>\n      <th>2022-06-16</th>\n      <td>27294.94</td>\n      <td>32857.00</td>\n    </tr>\n    <tr>\n      <th>2022-06-17</th>\n      <td>21352.47</td>\n      <td>37198.00</td>\n    </tr>\n    <tr>\n      <th>2022-06-18</th>\n      <td>22840.22</td>\n      <td>13652.00</td>\n    </tr>\n    <tr>\n      <th>2022-06-19</th>\n      <td>27809.67</td>\n      <td>22784.00</td>\n    </tr>\n    <tr>\n      <th>2022-06-20</th>\n      <td>27270.16</td>\n      <td>23565.00</td>\n    </tr>\n    <tr>\n      <th>2022-06-21</th>\n      <td>21352.44</td>\n      <td>26323.00</td>\n    </tr>\n    <tr>\n      <th>2022-06-22</th>\n      <td>22850.16</td>\n      <td>23779.00</td>\n    </tr>\n    <tr>\n      <th>2022-06-23</th>\n      <td>27822.76</td>\n      <td>27549.00</td>\n    </tr>\n    <tr>\n      <th>2022-06-24</th>\n      <td>27245.52</td>\n      <td>29660.00</td>\n    </tr>\n    <tr>\n      <th>2022-06-25</th>\n      <td>21352.39</td>\n      <td>23356.00</td>\n    </tr>\n  </tbody>\n</table>\n</div>"
     },
     "execution_count": 7,
     "metadata": {},
     "output_type": "execute_result"
    }
   ],
   "source": [
    "r.forecast()"
   ],
   "metadata": {
    "collapsed": false
   }
  },
  {
   "cell_type": "code",
   "execution_count": 8,
   "outputs": [
    {
     "data": {
      "text/plain": "{'mean_absolute_percentage_error': 18.633826914205752,\n 'mean_absolute_error': 4766.643139759654,\n 'mean_squared_error': 40503143.57563014}"
     },
     "execution_count": 8,
     "metadata": {},
     "output_type": "execute_result"
    }
   ],
   "source": [
    "r.evaluate()"
   ],
   "metadata": {
    "collapsed": false
   }
  },
  {
   "cell_type": "code",
   "execution_count": null,
   "outputs": [],
   "source": [],
   "metadata": {
    "collapsed": false
   }
  }
 ],
 "metadata": {
  "kernelspec": {
   "display_name": "Python 3",
   "language": "python",
   "name": "python3"
  },
  "language_info": {
   "codemirror_mode": {
    "name": "ipython",
    "version": 2
   },
   "file_extension": ".py",
   "mimetype": "text/x-python",
   "name": "python",
   "nbconvert_exporter": "python",
   "pygments_lexer": "ipython2",
   "version": "2.7.6"
  }
 },
 "nbformat": 4,
 "nbformat_minor": 0
}
