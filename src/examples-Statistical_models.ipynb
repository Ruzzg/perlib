{
 "cells": [
  {
   "cell_type": "code",
   "execution_count": 1,
   "metadata": {
    "collapsed": true
   },
   "outputs": [
    {
     "name": "stderr",
     "output_type": "stream",
     "text": [
      "2023-01-11 19:47:51.027186: I tensorflow/core/platform/cpu_feature_guard.cc:193] This TensorFlow binary is optimized with oneAPI Deep Neural Network Library (oneDNN) to use the following CPU instructions in performance-critical operations:  SSE4.1 SSE4.2\n",
      "To enable them in other operations, rebuild TensorFlow with the appropriate compiler flags.\n"
     ]
    }
   ],
   "source": [
    "from perlib.forecaster import *\n",
    "from perlib.datasets import *\n",
    "import pandas as pd\n",
    "dataset = load_wineind()\n",
    "data = pd.DataFrame(dataset)\n",
    "data.index = pd.date_range(start=\"2022-01-01\",periods=len(data),freq=\"h\")"
   ]
  },
  {
   "cell_type": "code",
   "execution_count": 2,
   "outputs": [],
   "source": [
    "data.columns = [\"Values\"]"
   ],
   "metadata": {
    "collapsed": false
   }
  },
  {
   "cell_type": "code",
   "execution_count": 3,
   "outputs": [
    {
     "data": {
      "text/plain": "                      Values\n2022-01-01 00:00:00 15136.00\n2022-01-01 01:00:00 16733.00\n2022-01-01 02:00:00 20016.00\n2022-01-01 03:00:00 17708.00\n2022-01-01 04:00:00 18019.00\n...                      ...\n2022-01-08 03:00:00 26323.00\n2022-01-08 04:00:00 23779.00\n2022-01-08 05:00:00 27549.00\n2022-01-08 06:00:00 29660.00\n2022-01-08 07:00:00 23356.00\n\n[176 rows x 1 columns]",
      "text/html": "<div>\n<style scoped>\n    .dataframe tbody tr th:only-of-type {\n        vertical-align: middle;\n    }\n\n    .dataframe tbody tr th {\n        vertical-align: top;\n    }\n\n    .dataframe thead th {\n        text-align: right;\n    }\n</style>\n<table border=\"1\" class=\"dataframe\">\n  <thead>\n    <tr style=\"text-align: right;\">\n      <th></th>\n      <th>Values</th>\n    </tr>\n  </thead>\n  <tbody>\n    <tr>\n      <th>2022-01-01 00:00:00</th>\n      <td>15136.00</td>\n    </tr>\n    <tr>\n      <th>2022-01-01 01:00:00</th>\n      <td>16733.00</td>\n    </tr>\n    <tr>\n      <th>2022-01-01 02:00:00</th>\n      <td>20016.00</td>\n    </tr>\n    <tr>\n      <th>2022-01-01 03:00:00</th>\n      <td>17708.00</td>\n    </tr>\n    <tr>\n      <th>2022-01-01 04:00:00</th>\n      <td>18019.00</td>\n    </tr>\n    <tr>\n      <th>...</th>\n      <td>...</td>\n    </tr>\n    <tr>\n      <th>2022-01-08 03:00:00</th>\n      <td>26323.00</td>\n    </tr>\n    <tr>\n      <th>2022-01-08 04:00:00</th>\n      <td>23779.00</td>\n    </tr>\n    <tr>\n      <th>2022-01-08 05:00:00</th>\n      <td>27549.00</td>\n    </tr>\n    <tr>\n      <th>2022-01-08 06:00:00</th>\n      <td>29660.00</td>\n    </tr>\n    <tr>\n      <th>2022-01-08 07:00:00</th>\n      <td>23356.00</td>\n    </tr>\n  </tbody>\n</table>\n<p>176 rows × 1 columns</p>\n</div>"
     },
     "execution_count": 3,
     "metadata": {},
     "output_type": "execute_result"
    }
   ],
   "source": [
    "data"
   ],
   "metadata": {
    "collapsed": false
   }
  },
  {
   "cell_type": "code",
   "execution_count": null,
   "outputs": [],
   "source": [],
   "metadata": {
    "collapsed": false
   }
  },
  {
   "cell_type": "code",
   "execution_count": 9,
   "outputs": [],
   "source": [
    "from perlib.core.models.smodels import models as armodels\n",
    "aR_info.modelname = \"arima\"\n",
    "aR_info.forecastNumber = 7\n",
    "aR_info.period = \"hourly\"\n",
    "aR_info.forecastingStartDate = \"2022-01-08 01:00:00\"\n",
    "ar = armodels(aR_info)"
   ],
   "metadata": {
    "collapsed": false
   }
  },
  {
   "cell_type": "code",
   "execution_count": 5,
   "outputs": [
    {
     "name": "stderr",
     "output_type": "stream",
     "text": [
      "100%|██████████| 400/400 [00:50<00:00,  7.86it/s]\n"
     ]
    }
   ],
   "source": [
    "from perlib.core.train import  sTrain\n",
    "train = sTrain(dataFrame=data,object=ar)\n",
    "res = train.fit()"
   ],
   "metadata": {
    "collapsed": false
   }
  },
  {
   "cell_type": "code",
   "execution_count": 10,
   "outputs": [],
   "source": [
    "from perlib.core.tester import sTester\n",
    "r = sTester(dataFrame=data,object=ar,path=\"models/Data-arima-2023-01-11-19-49-05.pkl\",metric=[\"mape\",\"mae\",\"mse\"])"
   ],
   "metadata": {
    "collapsed": false
   }
  },
  {
   "cell_type": "code",
   "execution_count": 11,
   "outputs": [
    {
     "data": {
      "text/plain": "                     Predicts   Actual\n2022-01-08 02:00:00  22365.78 23565.00\n2022-01-08 03:00:00  27034.07 26323.00\n2022-01-08 04:00:00  21494.69 23779.00\n2022-01-08 05:00:00  22687.86 27549.00\n2022-01-08 06:00:00  28727.81 29660.00\n2022-01-08 07:00:00  27198.53 23356.00",
      "text/html": "<div>\n<style scoped>\n    .dataframe tbody tr th:only-of-type {\n        vertical-align: middle;\n    }\n\n    .dataframe tbody tr th {\n        vertical-align: top;\n    }\n\n    .dataframe thead th {\n        text-align: right;\n    }\n</style>\n<table border=\"1\" class=\"dataframe\">\n  <thead>\n    <tr style=\"text-align: right;\">\n      <th></th>\n      <th>Predicts</th>\n      <th>Actual</th>\n    </tr>\n  </thead>\n  <tbody>\n    <tr>\n      <th>2022-01-08 02:00:00</th>\n      <td>22365.78</td>\n      <td>23565.00</td>\n    </tr>\n    <tr>\n      <th>2022-01-08 03:00:00</th>\n      <td>27034.07</td>\n      <td>26323.00</td>\n    </tr>\n    <tr>\n      <th>2022-01-08 04:00:00</th>\n      <td>21494.69</td>\n      <td>23779.00</td>\n    </tr>\n    <tr>\n      <th>2022-01-08 05:00:00</th>\n      <td>22687.86</td>\n      <td>27549.00</td>\n    </tr>\n    <tr>\n      <th>2022-01-08 06:00:00</th>\n      <td>28727.81</td>\n      <td>29660.00</td>\n    </tr>\n    <tr>\n      <th>2022-01-08 07:00:00</th>\n      <td>27198.53</td>\n      <td>23356.00</td>\n    </tr>\n  </tbody>\n</table>\n</div>"
     },
     "execution_count": 11,
     "metadata": {},
     "output_type": "execute_result"
    }
   ],
   "source": [
    "r.forecast()"
   ],
   "metadata": {
    "collapsed": false
   }
  },
  {
   "cell_type": "code",
   "execution_count": 12,
   "outputs": [
    {
     "data": {
      "text/plain": "{'mean_absolute_percentage_error': 9.106182791838012,\n 'mean_absolute_error': 2305.077206398791,\n 'mean_squared_error': 7737754.055168868}"
     },
     "execution_count": 12,
     "metadata": {},
     "output_type": "execute_result"
    }
   ],
   "source": [
    "r.evaluate()"
   ],
   "metadata": {
    "collapsed": false
   }
  },
  {
   "cell_type": "code",
   "execution_count": null,
   "outputs": [],
   "source": [],
   "metadata": {
    "collapsed": false
   }
  }
 ],
 "metadata": {
  "kernelspec": {
   "display_name": "Python 3",
   "language": "python",
   "name": "python3"
  },
  "language_info": {
   "codemirror_mode": {
    "name": "ipython",
    "version": 2
   },
   "file_extension": ".py",
   "mimetype": "text/x-python",
   "name": "python",
   "nbconvert_exporter": "python",
   "pygments_lexer": "ipython2",
   "version": "2.7.6"
  }
 },
 "nbformat": 4,
 "nbformat_minor": 0
}
