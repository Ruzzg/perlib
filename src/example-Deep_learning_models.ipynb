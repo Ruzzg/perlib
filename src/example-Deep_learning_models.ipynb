{
 "cells": [
  {
   "cell_type": "code",
   "execution_count": 1,
   "metadata": {},
   "outputs": [
    {
     "name": "stderr",
     "output_type": "stream",
     "text": [
      "2023-01-09 09:12:37.108280: I tensorflow/core/platform/cpu_feature_guard.cc:193] This TensorFlow binary is optimized with oneAPI Deep Neural Network Library (oneDNN) to use the following CPU instructions in performance-critical operations:  SSE4.1 SSE4.2\n",
      "To enable them in other operations, rebuild TensorFlow with the appropriate compiler flags.\n"
     ]
    }
   ],
   "source": [
    "import pandas as pd\n",
    "from perlib.forecaster import *\n",
    "from perlib.datasets import *\n",
    "\"\"\"\n",
    "You can call different datasets from datasets.\n",
    "\"\"\"\n",
    "dataset = load_airpassengers()\n",
    "data = pd.DataFrame(dataset)\n",
    "data.index = pd.date_range(start=\"2022-01-01\",periods=len(data),freq=\"d\")"
   ]
  },
  {
   "cell_type": "code",
   "execution_count": 2,
   "metadata": {},
   "outputs": [],
   "source": [
    "data.columns = [\"Values\"]"
   ]
  },
  {
   "cell_type": "code",
   "execution_count": 3,
   "metadata": {},
   "outputs": [
    {
     "data": {
      "text/plain": "            Values\n2022-01-01  112.00\n2022-01-02  118.00\n2022-01-03  132.00\n2022-01-04  129.00\n2022-01-05  121.00\n...            ...\n2022-05-20  606.00\n2022-05-21  508.00\n2022-05-22  461.00\n2022-05-23  390.00\n2022-05-24  432.00\n\n[144 rows x 1 columns]",
      "text/html": "<div>\n<style scoped>\n    .dataframe tbody tr th:only-of-type {\n        vertical-align: middle;\n    }\n\n    .dataframe tbody tr th {\n        vertical-align: top;\n    }\n\n    .dataframe thead th {\n        text-align: right;\n    }\n</style>\n<table border=\"1\" class=\"dataframe\">\n  <thead>\n    <tr style=\"text-align: right;\">\n      <th></th>\n      <th>Values</th>\n    </tr>\n  </thead>\n  <tbody>\n    <tr>\n      <th>2022-01-01</th>\n      <td>112.00</td>\n    </tr>\n    <tr>\n      <th>2022-01-02</th>\n      <td>118.00</td>\n    </tr>\n    <tr>\n      <th>2022-01-03</th>\n      <td>132.00</td>\n    </tr>\n    <tr>\n      <th>2022-01-04</th>\n      <td>129.00</td>\n    </tr>\n    <tr>\n      <th>2022-01-05</th>\n      <td>121.00</td>\n    </tr>\n    <tr>\n      <th>...</th>\n      <td>...</td>\n    </tr>\n    <tr>\n      <th>2022-05-20</th>\n      <td>606.00</td>\n    </tr>\n    <tr>\n      <th>2022-05-21</th>\n      <td>508.00</td>\n    </tr>\n    <tr>\n      <th>2022-05-22</th>\n      <td>461.00</td>\n    </tr>\n    <tr>\n      <th>2022-05-23</th>\n      <td>390.00</td>\n    </tr>\n    <tr>\n      <th>2022-05-24</th>\n      <td>432.00</td>\n    </tr>\n  </tbody>\n</table>\n<p>144 rows × 1 columns</p>\n</div>"
     },
     "execution_count": 3,
     "metadata": {},
     "output_type": "execute_result"
    }
   ],
   "source": [
    "data"
   ]
  },
  {
   "cell_type": "code",
   "execution_count": 4,
   "metadata": {},
   "outputs": [],
   "source": [
    "#To read your own dataset;\n",
    "#dataPrepration.read_data(\"../datasets/winequality-white.csv\",delimiter=\";\")"
   ]
  },
  {
   "cell_type": "code",
   "execution_count": 5,
   "metadata": {},
   "outputs": [
    {
     "name": "stdout",
     "output_type": "stream",
     "text": [
      "Parameters created\n",
      "The model training process has been started.\n"
     ]
    },
    {
     "name": "stderr",
     "output_type": "stream",
     "text": [
      "100%|██████████| 400/400 [01:14<00:00,  5.37it/s]\n"
     ]
    },
    {
     "name": "stdout",
     "output_type": "stream",
     "text": [
      "Model training process completed\n",
      "The model is being saved\n"
     ]
    }
   ],
   "source": [
    "\"\"\"\n",
    "Model training operations are performed with different parameters.\n",
    "\"\"\"\n",
    "\n",
    "forecast,evaluate =  get_result(dataFrame=data,\n",
    "                                y=\"Values\",\n",
    "                                modelName=\"ARIMA\",\n",
    "                                dateColumn=False,\n",
    "                                process=False,\n",
    "                                forecastNumber=24,\n",
    "                                metric=[\"mape\",\"mae\",\"mse\"],\n",
    "                                #epoch=1,\n",
    "                                forecastingStartDate=False,\n",
    "                                verbose=1\n",
    "                                )"
   ]
  },
  {
   "cell_type": "code",
   "execution_count": 6,
   "metadata": {},
   "outputs": [
    {
     "data": {
      "text/plain": "            Predicts  Actual\n2022-05-01    228.23  360.00\n2022-05-02    228.23  342.00\n2022-05-03    228.23  406.00\n2022-05-04    228.23  396.00\n2022-05-05    228.23  420.00\n2022-05-06    228.23  472.00\n2022-05-07    228.23  548.00\n2022-05-08    228.23  559.00\n2022-05-09    228.23  463.00\n2022-05-10    228.23  407.00\n2022-05-11    228.23  362.00\n2022-05-12    228.23  405.00\n2022-05-13    228.23  417.00\n2022-05-14    228.23  391.00\n2022-05-15    228.23  419.00\n2022-05-16    228.23  461.00\n2022-05-17    228.23  472.00\n2022-05-18    228.23  535.00\n2022-05-19    228.23  622.00\n2022-05-20    228.23  606.00\n2022-05-21    228.23  508.00\n2022-05-22    228.23  461.00\n2022-05-23    228.23  390.00\n2022-05-24    228.23  432.00",
      "text/html": "<div>\n<style scoped>\n    .dataframe tbody tr th:only-of-type {\n        vertical-align: middle;\n    }\n\n    .dataframe tbody tr th {\n        vertical-align: top;\n    }\n\n    .dataframe thead th {\n        text-align: right;\n    }\n</style>\n<table border=\"1\" class=\"dataframe\">\n  <thead>\n    <tr style=\"text-align: right;\">\n      <th></th>\n      <th>Predicts</th>\n      <th>Actual</th>\n    </tr>\n  </thead>\n  <tbody>\n    <tr>\n      <th>2022-05-01</th>\n      <td>228.23</td>\n      <td>360.00</td>\n    </tr>\n    <tr>\n      <th>2022-05-02</th>\n      <td>228.23</td>\n      <td>342.00</td>\n    </tr>\n    <tr>\n      <th>2022-05-03</th>\n      <td>228.23</td>\n      <td>406.00</td>\n    </tr>\n    <tr>\n      <th>2022-05-04</th>\n      <td>228.23</td>\n      <td>396.00</td>\n    </tr>\n    <tr>\n      <th>2022-05-05</th>\n      <td>228.23</td>\n      <td>420.00</td>\n    </tr>\n    <tr>\n      <th>2022-05-06</th>\n      <td>228.23</td>\n      <td>472.00</td>\n    </tr>\n    <tr>\n      <th>2022-05-07</th>\n      <td>228.23</td>\n      <td>548.00</td>\n    </tr>\n    <tr>\n      <th>2022-05-08</th>\n      <td>228.23</td>\n      <td>559.00</td>\n    </tr>\n    <tr>\n      <th>2022-05-09</th>\n      <td>228.23</td>\n      <td>463.00</td>\n    </tr>\n    <tr>\n      <th>2022-05-10</th>\n      <td>228.23</td>\n      <td>407.00</td>\n    </tr>\n    <tr>\n      <th>2022-05-11</th>\n      <td>228.23</td>\n      <td>362.00</td>\n    </tr>\n    <tr>\n      <th>2022-05-12</th>\n      <td>228.23</td>\n      <td>405.00</td>\n    </tr>\n    <tr>\n      <th>2022-05-13</th>\n      <td>228.23</td>\n      <td>417.00</td>\n    </tr>\n    <tr>\n      <th>2022-05-14</th>\n      <td>228.23</td>\n      <td>391.00</td>\n    </tr>\n    <tr>\n      <th>2022-05-15</th>\n      <td>228.23</td>\n      <td>419.00</td>\n    </tr>\n    <tr>\n      <th>2022-05-16</th>\n      <td>228.23</td>\n      <td>461.00</td>\n    </tr>\n    <tr>\n      <th>2022-05-17</th>\n      <td>228.23</td>\n      <td>472.00</td>\n    </tr>\n    <tr>\n      <th>2022-05-18</th>\n      <td>228.23</td>\n      <td>535.00</td>\n    </tr>\n    <tr>\n      <th>2022-05-19</th>\n      <td>228.23</td>\n      <td>622.00</td>\n    </tr>\n    <tr>\n      <th>2022-05-20</th>\n      <td>228.23</td>\n      <td>606.00</td>\n    </tr>\n    <tr>\n      <th>2022-05-21</th>\n      <td>228.23</td>\n      <td>508.00</td>\n    </tr>\n    <tr>\n      <th>2022-05-22</th>\n      <td>228.23</td>\n      <td>461.00</td>\n    </tr>\n    <tr>\n      <th>2022-05-23</th>\n      <td>228.23</td>\n      <td>390.00</td>\n    </tr>\n    <tr>\n      <th>2022-05-24</th>\n      <td>228.23</td>\n      <td>432.00</td>\n    </tr>\n  </tbody>\n</table>\n</div>"
     },
     "execution_count": 6,
     "metadata": {},
     "output_type": "execute_result"
    }
   ],
   "source": [
    "forecast"
   ]
  },
  {
   "cell_type": "code",
   "execution_count": 7,
   "metadata": {},
   "outputs": [
    {
     "data": {
      "text/plain": "{'mean_absolute_percentage_error': 48.24388951662431,\n 'mean_absolute_error': 224.0213789032509,\n 'mean_squared_error': 55762.26570571391}"
     },
     "execution_count": 7,
     "metadata": {},
     "output_type": "execute_result"
    }
   ],
   "source": [
    "evaluate"
   ]
  },
  {
   "cell_type": "code",
   "execution_count": 4,
   "outputs": [],
   "source": [],
   "metadata": {
    "collapsed": false
   }
  },
  {
   "cell_type": "code",
   "execution_count": 4,
   "metadata": {},
   "outputs": [],
   "source": [
    "#The Time Series module helps to create many basic models without using much code and helps to understand which models work better without any parameter adjustments.\n",
    "from perlib.piplines.dpipline import Timeseries\n",
    "pipline = Timeseries(dataFrame=data,\n",
    "                       y=\"Values\",\n",
    "                       dateColumn=False,\n",
    "                       process=False,\n",
    "                       epoch=1,\n",
    "                       forecastNumber= 7,\n",
    "                       models=[\"arima\",\"convlstm\"])"
   ]
  },
  {
   "cell_type": "code",
   "execution_count": 5,
   "outputs": [
    {
     "data": {
      "text/plain": "  0%|          | 0/2 [00:00<?, ?it/s]",
      "application/vnd.jupyter.widget-view+json": {
       "version_major": 2,
       "version_minor": 0,
       "model_id": "1e4723dd00dd4b09844b9c9bfad62524"
      }
     },
     "metadata": {},
     "output_type": "display_data"
    },
    {
     "name": "stdout",
     "output_type": "stream",
     "text": [
      "Parameters created\n",
      "The model training process has been started.\n"
     ]
    },
    {
     "name": "stderr",
     "output_type": "stream",
     "text": [
      "\n",
      "  0%|          | 0/400 [00:00<?, ?it/s]\u001B[A\n",
      "  0%|          | 2/400 [00:00<00:22, 17.51it/s]\u001B[A\n",
      "  1%|▏         | 5/400 [00:00<00:18, 20.81it/s]\u001B[A\n",
      "  2%|▏         | 8/400 [00:00<00:17, 22.00it/s]\u001B[A\n",
      "  3%|▎         | 11/400 [00:00<00:19, 20.07it/s]\u001B[A\n",
      "  4%|▎         | 14/400 [00:00<00:20, 18.55it/s]\u001B[A\n",
      "  4%|▍         | 16/400 [00:00<00:20, 18.30it/s]\u001B[A\n",
      "  4%|▍         | 18/400 [00:00<00:22, 17.18it/s]\u001B[A\n",
      "  5%|▌         | 20/400 [00:01<00:22, 16.58it/s]\u001B[A\n",
      "  6%|▌         | 22/400 [00:01<00:23, 15.97it/s]\u001B[A\n",
      "  6%|▌         | 24/400 [00:01<00:24, 15.60it/s]\u001B[A\n",
      "  6%|▋         | 26/400 [00:01<00:31, 11.93it/s]\u001B[A\n",
      "  7%|▋         | 28/400 [00:01<00:36, 10.19it/s]\u001B[A\n",
      "  8%|▊         | 30/400 [00:02<00:39,  9.28it/s]\u001B[A\n",
      "  8%|▊         | 32/400 [00:02<00:41,  8.83it/s]\u001B[A\n",
      "  8%|▊         | 33/400 [00:02<00:47,  7.80it/s]\u001B[A\n",
      "  8%|▊         | 34/400 [00:02<00:52,  7.03it/s]\u001B[A\n",
      "  9%|▉         | 35/400 [00:03<00:57,  6.35it/s]\u001B[A\n",
      "  9%|▉         | 36/400 [00:03<01:04,  5.67it/s]\u001B[A\n",
      "  9%|▉         | 37/400 [00:03<01:07,  5.40it/s]\u001B[A\n",
      " 10%|▉         | 38/400 [00:03<01:08,  5.25it/s]\u001B[A\n",
      " 10%|▉         | 39/400 [00:03<01:10,  5.14it/s]\u001B[A\n",
      " 10%|█         | 40/400 [00:04<01:10,  5.09it/s]\u001B[A\n",
      " 11%|█         | 43/400 [00:04<00:40,  8.71it/s]\u001B[A\n",
      " 12%|█▏        | 46/400 [00:04<00:30, 11.73it/s]\u001B[A\n",
      " 12%|█▏        | 48/400 [00:04<00:26, 13.32it/s]\u001B[A\n",
      " 13%|█▎        | 51/400 [00:04<00:20, 16.85it/s]\u001B[A\n",
      " 14%|█▎        | 54/400 [00:04<00:18, 19.17it/s]\u001B[A\n",
      " 14%|█▍        | 57/400 [00:04<00:17, 19.24it/s]\u001B[A\n",
      " 15%|█▌        | 60/400 [00:05<00:19, 17.35it/s]\u001B[A\n",
      " 16%|█▌        | 62/400 [00:05<00:20, 16.44it/s]\u001B[A\n",
      " 16%|█▌        | 64/400 [00:05<00:21, 15.89it/s]\u001B[A\n",
      " 16%|█▋        | 66/400 [00:05<00:24, 13.38it/s]\u001B[A\n",
      " 17%|█▋        | 68/400 [00:05<00:26, 12.52it/s]\u001B[A\n",
      " 18%|█▊        | 70/400 [00:05<00:27, 11.95it/s]\u001B[A\n",
      " 18%|█▊        | 72/400 [00:06<00:28, 11.69it/s]\u001B[A\n",
      " 18%|█▊        | 74/400 [00:06<00:31, 10.44it/s]\u001B[A\n",
      " 19%|█▉        | 76/400 [00:06<00:33,  9.80it/s]\u001B[A\n",
      " 20%|█▉        | 78/400 [00:06<00:33,  9.52it/s]\u001B[A\n",
      " 20%|█▉        | 79/400 [00:06<00:34,  9.32it/s]\u001B[A\n",
      " 20%|██        | 80/400 [00:07<00:34,  9.15it/s]\u001B[A\n",
      " 20%|██        | 82/400 [00:07<00:31, 10.21it/s]\u001B[A\n",
      " 21%|██        | 84/400 [00:07<00:28, 10.98it/s]\u001B[A\n",
      " 22%|██▏       | 86/400 [00:07<00:27, 11.60it/s]\u001B[A\n",
      " 22%|██▏       | 88/400 [00:07<00:26, 11.98it/s]\u001B[A\n",
      " 22%|██▎       | 90/400 [00:07<00:26, 11.53it/s]\u001B[A\n",
      " 23%|██▎       | 92/400 [00:08<00:27, 11.22it/s]\u001B[A\n",
      " 24%|██▎       | 94/400 [00:08<00:26, 11.35it/s]\u001B[A\n",
      " 24%|██▍       | 96/400 [00:08<00:26, 11.38it/s]\u001B[A\n",
      " 24%|██▍       | 98/400 [00:08<00:30,  9.88it/s]\u001B[A\n",
      " 25%|██▌       | 100/400 [00:08<00:32,  9.20it/s]\u001B[A\n",
      " 25%|██▌       | 101/400 [00:09<00:33,  8.86it/s]\u001B[A\n",
      " 26%|██▌       | 102/400 [00:09<00:34,  8.58it/s]\u001B[A\n",
      " 26%|██▌       | 103/400 [00:09<00:35,  8.31it/s]\u001B[A\n",
      " 26%|██▌       | 104/400 [00:09<00:37,  7.86it/s]\u001B[A\n",
      " 26%|██▋       | 105/400 [00:09<00:46,  6.39it/s]\u001B[A\n",
      " 26%|██▋       | 106/400 [00:09<00:51,  5.66it/s]\u001B[A\n",
      " 27%|██▋       | 107/400 [00:10<00:56,  5.14it/s]\u001B[A\n",
      " 27%|██▋       | 108/400 [00:10<01:01,  4.77it/s]\u001B[A\n",
      " 27%|██▋       | 109/400 [00:10<01:03,  4.57it/s]\u001B[A\n",
      " 28%|██▊       | 110/400 [00:10<01:04,  4.47it/s]\u001B[A\n",
      " 28%|██▊       | 111/400 [00:11<01:05,  4.40it/s]\u001B[A\n",
      " 28%|██▊       | 112/400 [00:11<01:06,  4.35it/s]\u001B[A\n",
      " 28%|██▊       | 113/400 [00:11<01:17,  3.72it/s]\u001B[A\n",
      " 28%|██▊       | 114/400 [00:12<01:21,  3.50it/s]\u001B[A\n",
      " 29%|██▉       | 115/400 [00:12<01:25,  3.35it/s]\u001B[A\n",
      " 29%|██▉       | 116/400 [00:12<01:27,  3.26it/s]\u001B[A\n",
      " 29%|██▉       | 117/400 [00:13<01:27,  3.23it/s]\u001B[A\n",
      " 30%|██▉       | 118/400 [00:13<01:28,  3.18it/s]\u001B[A\n",
      " 30%|██▉       | 119/400 [00:13<01:29,  3.15it/s]\u001B[A\n",
      " 30%|███       | 120/400 [00:13<01:29,  3.12it/s]\u001B[A\n",
      " 31%|███       | 123/400 [00:14<00:44,  6.17it/s]\u001B[A\n",
      " 32%|███▏      | 126/400 [00:14<00:29,  9.37it/s]\u001B[A\n",
      " 32%|███▏      | 129/400 [00:14<00:23, 11.34it/s]\u001B[A\n",
      " 33%|███▎      | 131/400 [00:14<00:24, 11.19it/s]\u001B[A\n",
      " 33%|███▎      | 133/400 [00:14<00:23, 11.26it/s]\u001B[A\n",
      " 34%|███▍      | 135/400 [00:14<00:23, 11.33it/s]\u001B[A\n",
      " 34%|███▍      | 137/400 [00:15<00:24, 10.86it/s]\u001B[A\n",
      " 35%|███▍      | 139/400 [00:15<00:25, 10.08it/s]\u001B[A\n",
      " 35%|███▌      | 141/400 [00:15<00:26,  9.81it/s]\u001B[A\n",
      " 36%|███▌      | 143/400 [00:15<00:27,  9.34it/s]\u001B[A\n",
      " 36%|███▌      | 144/400 [00:15<00:27,  9.15it/s]\u001B[A\n",
      " 36%|███▋      | 145/400 [00:16<00:29,  8.68it/s]\u001B[A\n",
      " 36%|███▋      | 146/400 [00:16<00:30,  8.29it/s]\u001B[A\n",
      " 37%|███▋      | 147/400 [00:16<00:31,  7.98it/s]\u001B[A\n",
      " 37%|███▋      | 148/400 [00:16<00:32,  7.73it/s]\u001B[A\n",
      " 37%|███▋      | 149/400 [00:16<00:33,  7.52it/s]\u001B[A\n",
      " 38%|███▊      | 150/400 [00:16<00:33,  7.37it/s]\u001B[A\n",
      " 38%|███▊      | 151/400 [00:16<00:34,  7.29it/s]\u001B[A\n",
      " 38%|███▊      | 152/400 [00:17<00:34,  7.16it/s]\u001B[A\n",
      " 38%|███▊      | 153/400 [00:17<00:38,  6.47it/s]\u001B[A\n",
      " 38%|███▊      | 154/400 [00:17<00:40,  6.03it/s]\u001B[A\n",
      " 39%|███▉      | 155/400 [00:17<00:42,  5.76it/s]\u001B[A\n",
      " 39%|███▉      | 156/400 [00:17<00:43,  5.60it/s]\u001B[A\n",
      " 39%|███▉      | 157/400 [00:18<00:44,  5.46it/s]\u001B[A\n",
      " 40%|███▉      | 158/400 [00:18<00:45,  5.37it/s]\u001B[A\n",
      " 40%|███▉      | 159/400 [00:18<00:45,  5.27it/s]\u001B[A\n",
      " 40%|████      | 160/400 [00:18<00:45,  5.24it/s]\u001B[A\n",
      " 40%|████      | 161/400 [00:18<00:40,  5.94it/s]\u001B[A\n",
      " 40%|████      | 162/400 [00:18<00:36,  6.58it/s]\u001B[A\n",
      " 41%|████      | 163/400 [00:18<00:33,  7.16it/s]\u001B[A\n",
      " 41%|████      | 164/400 [00:19<00:30,  7.66it/s]\u001B[A\n",
      " 41%|████▏     | 165/400 [00:19<00:29,  8.00it/s]\u001B[A\n",
      " 42%|████▏     | 166/400 [00:19<00:28,  8.27it/s]\u001B[A\n",
      " 42%|████▏     | 167/400 [00:19<00:27,  8.49it/s]\u001B[A\n",
      " 42%|████▏     | 168/400 [00:19<00:26,  8.70it/s]\u001B[A\n",
      " 42%|████▏     | 169/400 [00:19<00:27,  8.27it/s]\u001B[A\n",
      " 42%|████▎     | 170/400 [00:19<00:28,  8.11it/s]\u001B[A\n",
      " 43%|████▎     | 171/400 [00:19<00:28,  7.92it/s]\u001B[A\n",
      " 43%|████▎     | 172/400 [00:20<00:29,  7.82it/s]\u001B[A\n",
      " 43%|████▎     | 173/400 [00:20<00:29,  7.75it/s]\u001B[A\n",
      " 44%|████▎     | 174/400 [00:20<00:29,  7.69it/s]\u001B[A\n",
      " 44%|████▍     | 175/400 [00:20<00:29,  7.67it/s]\u001B[A\n",
      " 44%|████▍     | 176/400 [00:20<00:29,  7.60it/s]\u001B[A\n",
      " 44%|████▍     | 177/400 [00:20<00:39,  5.65it/s]\u001B[A\n",
      " 44%|████▍     | 178/400 [00:21<00:47,  4.70it/s]\u001B[A\n",
      " 45%|████▍     | 179/400 [00:21<00:51,  4.25it/s]\u001B[A\n",
      " 45%|████▌     | 180/400 [00:21<00:55,  3.97it/s]\u001B[A\n",
      " 45%|████▌     | 181/400 [00:22<00:57,  3.80it/s]\u001B[A\n",
      " 46%|████▌     | 182/400 [00:22<00:59,  3.69it/s]\u001B[A\n",
      " 46%|████▌     | 183/400 [00:22<00:59,  3.62it/s]\u001B[A\n",
      " 46%|████▌     | 184/400 [00:22<01:00,  3.58it/s]\u001B[A\n",
      " 46%|████▋     | 185/400 [00:23<00:58,  3.66it/s]\u001B[A\n",
      " 46%|████▋     | 186/400 [00:23<00:57,  3.73it/s]\u001B[A\n",
      " 47%|████▋     | 187/400 [00:23<00:56,  3.79it/s]\u001B[A\n",
      " 47%|████▋     | 188/400 [00:23<00:55,  3.84it/s]\u001B[A\n",
      " 47%|████▋     | 189/400 [00:24<00:54,  3.90it/s]\u001B[A\n",
      " 48%|████▊     | 190/400 [00:24<00:52,  3.97it/s]\u001B[A\n",
      " 48%|████▊     | 191/400 [00:24<00:52,  4.01it/s]\u001B[A\n",
      " 48%|████▊     | 192/400 [00:24<00:51,  4.04it/s]\u001B[A\n",
      " 48%|████▊     | 193/400 [00:25<00:58,  3.54it/s]\u001B[A\n",
      " 48%|████▊     | 194/400 [00:25<01:03,  3.25it/s]\u001B[A\n",
      " 49%|████▉     | 195/400 [00:25<01:07,  3.04it/s]\u001B[A\n",
      " 49%|████▉     | 196/400 [00:26<01:10,  2.87it/s]\u001B[A\n",
      " 49%|████▉     | 197/400 [00:26<01:12,  2.78it/s]\u001B[A\n",
      " 50%|████▉     | 198/400 [00:27<01:14,  2.73it/s]\u001B[A\n",
      " 50%|████▉     | 199/400 [00:27<01:14,  2.68it/s]\u001B[A\n",
      " 50%|█████     | 200/400 [00:27<01:15,  2.65it/s]\u001B[A\n",
      " 51%|█████     | 203/400 [00:28<00:37,  5.24it/s]\u001B[A\n",
      " 52%|█████▏    | 206/400 [00:28<00:24,  7.99it/s]\u001B[A\n",
      " 52%|█████▏    | 209/400 [00:28<00:19, 10.05it/s]\u001B[A\n",
      " 53%|█████▎    | 211/400 [00:28<00:18, 10.40it/s]\u001B[A\n",
      " 53%|█████▎    | 213/400 [00:28<00:17, 10.62it/s]\u001B[A\n",
      " 54%|█████▍    | 215/400 [00:28<00:17, 10.56it/s]\u001B[A\n",
      " 54%|█████▍    | 217/400 [00:29<00:18, 10.15it/s]\u001B[A\n",
      " 55%|█████▍    | 219/400 [00:29<00:19,  9.32it/s]\u001B[A\n",
      " 55%|█████▌    | 221/400 [00:29<00:20,  8.84it/s]\u001B[A\n",
      " 56%|█████▌    | 222/400 [00:29<00:20,  8.65it/s]\u001B[A\n",
      " 56%|█████▌    | 223/400 [00:29<00:21,  8.22it/s]\u001B[A\n",
      " 56%|█████▌    | 224/400 [00:30<00:21,  8.04it/s]\u001B[A\n",
      " 56%|█████▋    | 225/400 [00:30<00:25,  6.82it/s]\u001B[A\n",
      " 56%|█████▋    | 226/400 [00:30<00:28,  6.20it/s]\u001B[A\n",
      " 57%|█████▋    | 227/400 [00:30<00:31,  5.57it/s]\u001B[A\n",
      " 57%|█████▋    | 228/400 [00:30<00:32,  5.24it/s]\u001B[A\n",
      " 57%|█████▋    | 229/400 [00:31<00:33,  5.04it/s]\u001B[A\n",
      " 57%|█████▊    | 230/400 [00:31<00:35,  4.83it/s]\u001B[A\n",
      " 58%|█████▊    | 231/400 [00:31<00:35,  4.77it/s]\u001B[A\n",
      " 58%|█████▊    | 232/400 [00:31<00:35,  4.73it/s]\u001B[A\n",
      " 58%|█████▊    | 233/400 [00:32<00:37,  4.43it/s]\u001B[A\n",
      " 58%|█████▊    | 234/400 [00:32<00:38,  4.27it/s]\u001B[A\n",
      " 59%|█████▉    | 235/400 [00:32<00:39,  4.14it/s]\u001B[A\n",
      " 59%|█████▉    | 236/400 [00:32<00:40,  4.05it/s]\u001B[A\n",
      " 59%|█████▉    | 237/400 [00:33<00:41,  3.97it/s]\u001B[A\n",
      " 60%|█████▉    | 238/400 [00:33<00:41,  3.88it/s]\u001B[A\n",
      " 60%|█████▉    | 239/400 [00:33<00:41,  3.87it/s]\u001B[A\n",
      " 60%|██████    | 240/400 [00:33<00:41,  3.89it/s]\u001B[A\n",
      " 60%|██████    | 241/400 [00:34<00:35,  4.51it/s]\u001B[A\n",
      " 60%|██████    | 242/400 [00:34<00:31,  5.07it/s]\u001B[A\n",
      " 61%|██████    | 243/400 [00:34<00:28,  5.50it/s]\u001B[A\n",
      " 61%|██████    | 244/400 [00:34<00:26,  5.84it/s]\u001B[A\n",
      " 61%|██████▏   | 245/400 [00:34<00:25,  6.15it/s]\u001B[A\n",
      " 62%|██████▏   | 246/400 [00:34<00:24,  6.37it/s]\u001B[A\n",
      " 62%|██████▏   | 247/400 [00:34<00:23,  6.54it/s]\u001B[A\n",
      " 62%|██████▏   | 248/400 [00:35<00:22,  6.65it/s]\u001B[A\n",
      " 62%|██████▏   | 249/400 [00:35<00:22,  6.77it/s]\u001B[A\n",
      " 62%|██████▎   | 250/400 [00:35<00:21,  6.86it/s]\u001B[A\n",
      " 63%|██████▎   | 251/400 [00:35<00:21,  6.89it/s]\u001B[A\n",
      " 63%|██████▎   | 252/400 [00:35<00:21,  6.91it/s]\u001B[A\n",
      " 63%|██████▎   | 253/400 [00:35<00:21,  6.85it/s]\u001B[A\n",
      " 64%|██████▎   | 254/400 [00:35<00:21,  6.87it/s]\u001B[A\n",
      " 64%|██████▍   | 255/400 [00:36<00:21,  6.88it/s]\u001B[A\n",
      " 64%|██████▍   | 256/400 [00:36<00:21,  6.86it/s]\u001B[A\n",
      " 64%|██████▍   | 257/400 [00:36<00:27,  5.15it/s]\u001B[A\n",
      " 64%|██████▍   | 258/400 [00:36<00:31,  4.45it/s]\u001B[A\n",
      " 65%|██████▍   | 259/400 [00:37<00:34,  4.07it/s]\u001B[A\n",
      " 65%|██████▌   | 260/400 [00:37<00:36,  3.81it/s]\u001B[A\n",
      " 65%|██████▌   | 261/400 [00:37<00:38,  3.64it/s]\u001B[A\n",
      " 66%|██████▌   | 262/400 [00:37<00:38,  3.56it/s]\u001B[A\n",
      " 66%|██████▌   | 263/400 [00:38<00:39,  3.49it/s]\u001B[A\n",
      " 66%|██████▌   | 264/400 [00:38<00:39,  3.45it/s]\u001B[A\n",
      " 66%|██████▋   | 265/400 [00:38<00:37,  3.56it/s]\u001B[A\n",
      " 66%|██████▋   | 266/400 [00:39<00:37,  3.62it/s]\u001B[A\n",
      " 67%|██████▋   | 267/400 [00:39<00:36,  3.66it/s]\u001B[A\n",
      " 67%|██████▋   | 268/400 [00:39<00:35,  3.71it/s]\u001B[A\n",
      " 67%|██████▋   | 269/400 [00:39<00:34,  3.75it/s]\u001B[A\n",
      " 68%|██████▊   | 270/400 [00:40<00:34,  3.77it/s]\u001B[A\n",
      " 68%|██████▊   | 271/400 [00:40<00:34,  3.73it/s]\u001B[A\n",
      " 68%|██████▊   | 272/400 [00:40<00:34,  3.70it/s]\u001B[A\n",
      " 68%|██████▊   | 273/400 [00:41<00:38,  3.30it/s]\u001B[A\n",
      " 68%|██████▊   | 274/400 [00:41<00:41,  3.06it/s]\u001B[A\n",
      " 69%|██████▉   | 275/400 [00:41<00:42,  2.91it/s]\u001B[A\n",
      " 69%|██████▉   | 276/400 [00:42<00:43,  2.83it/s]\u001B[A\n",
      " 69%|██████▉   | 277/400 [00:42<00:44,  2.77it/s]\u001B[A\n",
      " 70%|██████▉   | 278/400 [00:42<00:44,  2.74it/s]\u001B[A\n",
      " 70%|██████▉   | 279/400 [00:43<00:44,  2.72it/s]\u001B[A\n",
      " 70%|███████   | 280/400 [00:43<00:43,  2.75it/s]\u001B[A\n",
      " 70%|███████   | 282/400 [00:43<00:26,  4.50it/s]\u001B[A\n",
      " 71%|███████   | 284/400 [00:43<00:18,  6.30it/s]\u001B[A\n",
      " 72%|███████▏  | 286/400 [00:44<00:13,  8.32it/s]\u001B[A\n",
      " 72%|███████▏  | 288/400 [00:44<00:10, 10.33it/s]\u001B[A\n",
      " 72%|███████▎  | 290/400 [00:44<00:12,  8.48it/s]\u001B[A\n",
      " 73%|███████▎  | 292/400 [00:44<00:14,  7.64it/s]\u001B[A\n",
      " 74%|███████▎  | 294/400 [00:45<00:14,  7.10it/s]\u001B[A\n",
      " 74%|███████▍  | 295/400 [00:45<00:15,  6.85it/s]\u001B[A\n",
      " 74%|███████▍  | 296/400 [00:45<00:15,  6.69it/s]\u001B[A\n",
      " 74%|███████▍  | 297/400 [00:45<00:15,  6.64it/s]\u001B[A\n",
      " 74%|███████▍  | 298/400 [00:45<00:15,  6.63it/s]\u001B[A\n",
      " 75%|███████▍  | 299/400 [00:45<00:15,  6.52it/s]\u001B[A\n",
      " 75%|███████▌  | 300/400 [00:46<00:15,  6.50it/s]\u001B[A\n",
      " 75%|███████▌  | 301/400 [00:46<00:15,  6.46it/s]\u001B[A\n",
      " 76%|███████▌  | 302/400 [00:46<00:15,  6.41it/s]\u001B[A\n",
      " 76%|███████▌  | 303/400 [00:46<00:15,  6.45it/s]\u001B[A\n",
      " 76%|███████▌  | 304/400 [00:46<00:14,  6.49it/s]\u001B[A\n",
      " 76%|███████▋  | 305/400 [00:47<00:19,  4.88it/s]\u001B[A\n",
      " 76%|███████▋  | 306/400 [00:47<00:22,  4.25it/s]\u001B[A\n",
      " 77%|███████▋  | 307/400 [00:47<00:23,  3.90it/s]\u001B[A\n",
      " 77%|███████▋  | 308/400 [00:47<00:24,  3.70it/s]\u001B[A\n",
      " 77%|███████▋  | 309/400 [00:48<00:25,  3.51it/s]\u001B[A\n",
      " 78%|███████▊  | 310/400 [00:48<00:26,  3.45it/s]\u001B[A\n",
      " 78%|███████▊  | 311/400 [00:48<00:26,  3.38it/s]\u001B[A\n",
      " 78%|███████▊  | 312/400 [00:49<00:26,  3.34it/s]\u001B[A\n",
      " 78%|███████▊  | 313/400 [00:49<00:25,  3.41it/s]\u001B[A\n",
      " 78%|███████▊  | 314/400 [00:49<00:24,  3.46it/s]\u001B[A\n",
      " 79%|███████▉  | 315/400 [00:50<00:26,  3.26it/s]\u001B[A\n",
      " 79%|███████▉  | 316/400 [00:50<00:25,  3.29it/s]\u001B[A\n",
      " 79%|███████▉  | 317/400 [00:50<00:24,  3.35it/s]\u001B[A\n",
      " 80%|███████▉  | 318/400 [00:50<00:24,  3.41it/s]\u001B[A\n",
      " 80%|███████▉  | 319/400 [00:51<00:23,  3.46it/s]\u001B[A\n",
      " 80%|████████  | 320/400 [00:51<00:23,  3.46it/s]\u001B[A\n",
      " 80%|████████  | 321/400 [00:51<00:18,  4.25it/s]\u001B[A\n",
      " 80%|████████  | 322/400 [00:51<00:15,  4.98it/s]\u001B[A\n",
      " 81%|████████  | 323/400 [00:51<00:14,  5.39it/s]\u001B[A\n",
      " 81%|████████  | 324/400 [00:51<00:12,  6.15it/s]\u001B[A\n",
      " 81%|████████▏ | 325/400 [00:52<00:11,  6.77it/s]\u001B[A\n",
      " 82%|████████▏ | 326/400 [00:52<00:10,  7.35it/s]\u001B[A\n",
      " 82%|████████▏ | 327/400 [00:52<00:09,  7.88it/s]\u001B[A\n",
      " 82%|████████▏ | 328/400 [00:52<00:08,  8.28it/s]\u001B[A\n",
      " 82%|████████▏ | 329/400 [00:52<00:11,  6.36it/s]\u001B[A\n",
      " 82%|████████▎ | 330/400 [00:52<00:12,  5.54it/s]\u001B[A\n",
      " 83%|████████▎ | 331/400 [00:53<00:13,  5.15it/s]\u001B[A\n",
      " 83%|████████▎ | 332/400 [00:53<00:13,  4.87it/s]\u001B[A\n",
      " 83%|████████▎ | 333/400 [00:53<00:14,  4.72it/s]\u001B[A\n",
      " 84%|████████▎ | 334/400 [00:53<00:14,  4.63it/s]\u001B[A\n",
      " 84%|████████▍ | 335/400 [00:54<00:14,  4.52it/s]\u001B[A\n",
      " 84%|████████▍ | 336/400 [00:54<00:14,  4.41it/s]\u001B[A\n",
      " 84%|████████▍ | 337/400 [00:54<00:16,  3.82it/s]\u001B[A\n",
      " 84%|████████▍ | 338/400 [00:54<00:17,  3.53it/s]\u001B[A\n",
      " 85%|████████▍ | 339/400 [00:55<00:18,  3.33it/s]\u001B[A\n",
      " 85%|████████▌ | 340/400 [00:55<00:18,  3.21it/s]\u001B[A\n",
      " 85%|████████▌ | 341/400 [00:55<00:18,  3.15it/s]\u001B[A\n",
      " 86%|████████▌ | 342/400 [00:56<00:19,  3.00it/s]\u001B[A\n",
      " 86%|████████▌ | 343/400 [00:56<00:19,  2.97it/s]\u001B[A\n",
      " 86%|████████▌ | 344/400 [00:57<00:19,  2.94it/s]\u001B[A\n",
      " 86%|████████▋ | 345/400 [00:57<00:18,  3.00it/s]\u001B[A\n",
      " 86%|████████▋ | 346/400 [00:57<00:17,  3.01it/s]\u001B[A\n",
      " 87%|████████▋ | 347/400 [00:58<00:17,  3.04it/s]\u001B[A\n",
      " 87%|████████▋ | 348/400 [00:58<00:16,  3.06it/s]\u001B[A\n",
      " 87%|████████▋ | 349/400 [00:58<00:16,  3.08it/s]\u001B[A\n",
      " 88%|████████▊ | 350/400 [00:58<00:16,  3.09it/s]\u001B[A\n",
      " 88%|████████▊ | 351/400 [00:59<00:15,  3.09it/s]\u001B[A\n",
      " 88%|████████▊ | 352/400 [00:59<00:15,  3.07it/s]\u001B[A\n",
      " 88%|████████▊ | 353/400 [01:00<00:16,  2.80it/s]\u001B[A\n",
      " 88%|████████▊ | 354/400 [01:00<00:17,  2.69it/s]\u001B[A\n",
      " 89%|████████▉ | 355/400 [01:00<00:17,  2.62it/s]\u001B[A\n",
      " 89%|████████▉ | 356/400 [01:01<00:17,  2.57it/s]\u001B[A\n",
      " 89%|████████▉ | 357/400 [01:01<00:16,  2.54it/s]\u001B[A\n",
      " 90%|████████▉ | 358/400 [01:02<00:16,  2.50it/s]\u001B[A\n",
      " 90%|████████▉ | 359/400 [01:02<00:16,  2.46it/s]\u001B[A\n",
      " 90%|█████████ | 360/400 [01:02<00:16,  2.46it/s]\u001B[A\n",
      " 90%|█████████ | 362/400 [01:03<00:09,  3.99it/s]\u001B[A\n",
      " 91%|█████████ | 364/400 [01:03<00:06,  5.63it/s]\u001B[A\n",
      " 92%|█████████▏| 366/400 [01:03<00:04,  7.26it/s]\u001B[A\n",
      " 92%|█████████▏| 368/400 [01:03<00:03,  8.81it/s]\u001B[A\n",
      " 92%|█████████▎| 370/400 [01:03<00:03,  8.59it/s]\u001B[A\n",
      " 93%|█████████▎| 372/400 [01:03<00:03,  8.35it/s]\u001B[A\n",
      " 93%|█████████▎| 373/400 [01:04<00:03,  8.28it/s]\u001B[A\n",
      " 94%|█████████▎| 374/400 [01:04<00:03,  8.16it/s]\u001B[A\n",
      " 94%|█████████▍| 375/400 [01:04<00:03,  8.10it/s]\u001B[A\n",
      " 94%|█████████▍| 376/400 [01:04<00:02,  8.06it/s]\u001B[A\n",
      " 94%|█████████▍| 377/400 [01:04<00:03,  6.92it/s]\u001B[A\n",
      " 94%|█████████▍| 378/400 [01:04<00:03,  6.22it/s]\u001B[A\n",
      " 95%|█████████▍| 379/400 [01:05<00:03,  5.80it/s]\u001B[A\n",
      " 95%|█████████▌| 380/400 [01:05<00:03,  5.49it/s]\u001B[A\n",
      " 95%|█████████▌| 381/400 [01:05<00:03,  5.26it/s]\u001B[A\n",
      " 96%|█████████▌| 382/400 [01:05<00:03,  5.16it/s]\u001B[A\n",
      " 96%|█████████▌| 383/400 [01:05<00:03,  5.03it/s]\u001B[A\n",
      " 96%|█████████▌| 384/400 [01:06<00:03,  4.99it/s]\u001B[A\n",
      " 96%|█████████▋| 385/400 [01:06<00:03,  4.37it/s]\u001B[A\n",
      " 96%|█████████▋| 386/400 [01:06<00:03,  4.00it/s]\u001B[A\n",
      " 97%|█████████▋| 387/400 [01:07<00:03,  3.78it/s]\u001B[A\n",
      " 97%|█████████▋| 388/400 [01:07<00:03,  3.61it/s]\u001B[A\n",
      " 97%|█████████▋| 389/400 [01:07<00:03,  3.54it/s]\u001B[A\n",
      " 98%|█████████▊| 390/400 [01:07<00:02,  3.45it/s]\u001B[A\n",
      " 98%|█████████▊| 391/400 [01:08<00:02,  3.39it/s]\u001B[A\n",
      " 98%|█████████▊| 392/400 [01:08<00:02,  3.33it/s]\u001B[A\n",
      " 98%|█████████▊| 393/400 [01:08<00:02,  3.23it/s]\u001B[A\n",
      " 98%|█████████▊| 394/400 [01:09<00:01,  3.17it/s]\u001B[A\n",
      " 99%|█████████▉| 395/400 [01:09<00:01,  3.14it/s]\u001B[A\n",
      " 99%|█████████▉| 396/400 [01:09<00:01,  3.12it/s]\u001B[A\n",
      " 99%|█████████▉| 397/400 [01:10<00:00,  3.09it/s]\u001B[A\n",
      "100%|█████████▉| 398/400 [01:10<00:00,  3.02it/s]\u001B[A\n",
      "100%|█████████▉| 399/400 [01:10<00:00,  2.98it/s]\u001B[A\n",
      "100%|██████████| 400/400 [01:11<00:00,  5.62it/s]\u001B[A\n"
     ]
    },
    {
     "name": "stdout",
     "output_type": "stream",
     "text": [
      "Model training process completed\n",
      "The model is being saved\n"
     ]
    },
    {
     "data": {
      "text/plain": "  0%|          | 0/2 [00:00<?, ?it/s]",
      "application/vnd.jupyter.widget-view+json": {
       "version_major": 2,
       "version_minor": 0,
       "model_id": "57038bdb1e44458a9fea7afbcdf2e09d"
      }
     },
     "metadata": {},
     "output_type": "display_data"
    },
    {
     "name": "stdout",
     "output_type": "stream",
     "text": [
      "Parameters created\n"
     ]
    },
    {
     "name": "stderr",
     "output_type": "stream",
     "text": [
      "2023-01-09 09:15:24.800518: I tensorflow/core/platform/cpu_feature_guard.cc:193] This TensorFlow binary is optimized with oneAPI Deep Neural Network Library (oneDNN) to use the following CPU instructions in performance-critical operations:  SSE4.1 SSE4.2\n",
      "To enable them in other operations, rebuild TensorFlow with the appropriate compiler flags.\n"
     ]
    },
    {
     "name": "stdout",
     "output_type": "stream",
     "text": [
      "The model training process has been started.\n",
      "Model training process completed\n",
      "The model is being saved\n",
      "1/1 [==============================] - 1s 817ms/step\n",
      "1/1 [==============================] - 0s 18ms/step\n",
      "1/1 [==============================] - 0s 20ms/step\n",
      "1/1 [==============================] - 0s 18ms/step\n",
      "1/1 [==============================] - 0s 17ms/step\n",
      "1/1 [==============================] - 0s 27ms/step\n",
      "1/1 [==============================] - 0s 19ms/step\n"
     ]
    },
    {
     "data": {
      "text/plain": "  0%|          | 0/2 [00:00<?, ?it/s]",
      "application/vnd.jupyter.widget-view+json": {
       "version_major": 2,
       "version_minor": 0,
       "model_id": "1eb938ef959e40f48ee9175917c53ca5"
      }
     },
     "metadata": {},
     "output_type": "display_data"
    }
   ],
   "source": [
    "predictions = pipline.fit()"
   ],
   "metadata": {
    "collapsed": false
   }
  },
  {
   "cell_type": "code",
   "execution_count": 6,
   "metadata": {},
   "outputs": [
    {
     "data": {
      "text/plain": "          mean_absolute_percentage_error  mean_absolute_error  \\\nARIMA                              50.18               261.14   \nCONVLSTM                            7.89                38.77   \n\n          mean_squared_error  \nARIMA               74654.48  \nCONVLSTM             1854.30  ",
      "text/html": "<div>\n<style scoped>\n    .dataframe tbody tr th:only-of-type {\n        vertical-align: middle;\n    }\n\n    .dataframe tbody tr th {\n        vertical-align: top;\n    }\n\n    .dataframe thead th {\n        text-align: right;\n    }\n</style>\n<table border=\"1\" class=\"dataframe\">\n  <thead>\n    <tr style=\"text-align: right;\">\n      <th></th>\n      <th>mean_absolute_percentage_error</th>\n      <th>mean_absolute_error</th>\n      <th>mean_squared_error</th>\n    </tr>\n  </thead>\n  <tbody>\n    <tr>\n      <th>ARIMA</th>\n      <td>50.18</td>\n      <td>261.14</td>\n      <td>74654.48</td>\n    </tr>\n    <tr>\n      <th>CONVLSTM</th>\n      <td>7.89</td>\n      <td>38.77</td>\n      <td>1854.30</td>\n    </tr>\n  </tbody>\n</table>\n</div>"
     },
     "execution_count": 6,
     "metadata": {},
     "output_type": "execute_result"
    }
   ],
   "source": [
    "predictions"
   ]
  },
  {
   "cell_type": "code",
   "execution_count": 4,
   "metadata": {},
   "outputs": [
    {
     "name": "stdout",
     "output_type": "stream",
     "text": [
      "Skipped Bivariate Analysis: There are less than 2 numeric variables.\n"
     ]
    },
    {
     "data": {
      "text/plain": "\t\tOverview\n\t\t========\nName: Values\nType: numeric\nUnique Values: 118 -> [104.0, 112.0, 114.0, 115.0, 118.0, 119.0, [...]\nMissing Values: None\n\n\t  Summary Statistics\n\t  ------------------\n                             \nNumber of observations 144.00\nAverage                280.30\nStandard Deviation     119.97\nMinimum                104.00\nLower Quartile         180.00\nMedian                 265.50\nUpper Quartile         360.50\nMaximum                622.00\nSkewness                 0.58\nKurtosis                -0.36\n\n\t  Tests for Normality\n\t  -------------------\n                               p-value Conclusion at α = 0.05\nD'Agostino's K-squared test  0.0131981  Unlikely to be normal\nKolmogorov-Smirnov test      0.0000000  Unlikely to be normal\nShapiro-Wilk test            0.0000683  Unlikely to be normal"
     },
     "execution_count": 4,
     "metadata": {},
     "output_type": "execute_result"
    }
   ],
   "source": [
    "\"\"\"\n",
    "It allows you to get summary information about the data.\n",
    "\"\"\"\n",
    "summarize(dataFrame=data)"
   ]
  },
  {
   "cell_type": "code",
   "execution_count": 7,
   "metadata": {},
   "outputs": [],
   "source": []
  },
  {
   "cell_type": "code",
   "execution_count": null,
   "metadata": {},
   "outputs": [],
   "source": [
    "\"\"\"\n",
    "To manually create data preparation and preprocessing processes;\n",
    "Each function has a \"mode\" parameter. It returns \"auto\" by default.\n",
    "Otherwise, it will be enough to give the parameter you want.\n",
    "\"\"\"\n",
    "\n",
    "#It automatically performs the necessary preprocessing in the data.\n",
    "data = preprocess.auto(dataFrame=data)\n",
    "\n",
    "#Analyzes and organizes Missing values.\n",
    "data = preprocess.missing_num(dataFrame=data,mode=\"auto\")\n",
    "\n",
    "#Finds outliers in data.\n",
    "data = preprocess.find_outliers(dataFrame=data,mode=\"auto\")\n",
    "\n",
    "#Performs encoding operations\n",
    "data = preprocess.encode_cat(dataFrame=data,mode=\"auto\")\n",
    "\n",
    "#\n",
    "data = preprocess.dublicates(dataFrame=data,mode=\"auto\")\n",
    "\n",
    "#Allows you to select the start and end range for the training process\n",
    "data = dataPrepration.trainingFordate_range(dataFrame=data,dt1=\"2013-01-01\",dt2=\"2022-01-01\")"
   ]
  },
  {
   "cell_type": "markdown",
   "metadata": {},
   "source": [
    "Deep Learning create architect"
   ]
  },
  {
   "cell_type": "code",
   "execution_count": 5,
   "metadata": {},
   "outputs": [],
   "source": [
    "\"\"\"\n",
    "To build a model manually;\n",
    "\"\"\"\n",
    "\n",
    "#The layer you want to create must contain 'unit', 'activation', 'dropout'.\n",
    "dict_ = {\"Layer\": {\"unit\":[150,100]\n",
    "                  ,\"activation\":[\"tanh\",\"tanh\"],\n",
    "                    \"dropout\"  :[0.2,0.2]\n",
    "                  }}\n",
    "\n",
    "req_info.layers = dict_\n",
    "req_info.modelname = \"lstm\"\n",
    "req_info.epoch  =  2\n",
    "req_info.targetCol = \"Values\"\n",
    "req_info.forecastingStartDate = False\n",
    "req_info.period = \"daily\"\n",
    "req_info.forecastNumber = 24\n",
    "req_info.scaler = \"standard\""
   ]
  },
  {
   "cell_type": "code",
   "execution_count": 6,
   "metadata": {},
   "outputs": [
    {
     "name": "stdout",
     "output_type": "stream",
     "text": [
      "Metal device set to: Apple M1 Pro\n"
     ]
    },
    {
     "name": "stderr",
     "output_type": "stream",
     "text": [
      "2023-01-08 13:57:05.542531: I tensorflow/core/common_runtime/pluggable_device/pluggable_device_factory.cc:306] Could not identify NUMA node of platform GPU ID 0, defaulting to 0. Your kernel may not have been built with NUMA support.\n",
      "2023-01-08 13:57:05.542813: I tensorflow/core/common_runtime/pluggable_device/pluggable_device_factory.cc:272] Created TensorFlow device (/job:localhost/replica:0/task:0/device:GPU:0 with 0 MB memory) -> physical PluggableDevice (device: 0, name: METAL, pci bus id: <undefined>)\n"
     ]
    }
   ],
   "source": [
    "from perlib.core.models.dmodels import models\n",
    "s = models(req_info)"
   ]
  },
  {
   "cell_type": "code",
   "execution_count": 7,
   "metadata": {},
   "outputs": [
    {
     "name": "stdout",
     "output_type": "stream",
     "text": [
      "Epoch 1/2\n"
     ]
    },
    {
     "name": "stderr",
     "output_type": "stream",
     "text": [
      "2023-01-08 13:57:09.334660: W tensorflow/core/platform/profile_utils/cpu_utils.cc:128] Failed to get CPU frequency: 0 Hz\n",
      "2023-01-08 13:57:09.340723: I tensorflow/core/grappler/optimizers/custom_graph_optimizer_registry.cc:114] Plugin optimizer for device_type GPU is enabled.\n",
      "2023-01-08 13:57:09.503066: I tensorflow/core/grappler/optimizers/custom_graph_optimizer_registry.cc:114] Plugin optimizer for device_type GPU is enabled.\n",
      "2023-01-08 13:57:09.621625: I tensorflow/core/grappler/optimizers/custom_graph_optimizer_registry.cc:114] Plugin optimizer for device_type GPU is enabled.\n",
      "2023-01-08 13:57:09.754091: I tensorflow/core/grappler/optimizers/custom_graph_optimizer_registry.cc:114] Plugin optimizer for device_type GPU is enabled.\n",
      "2023-01-08 13:57:09.929373: I tensorflow/core/grappler/optimizers/custom_graph_optimizer_registry.cc:114] Plugin optimizer for device_type GPU is enabled.\n",
      "\n",
      "KeyboardInterrupt\n",
      "\n"
     ]
    }
   ],
   "source": [
    "from perlib.core.train import dTrain\n",
    "train = dTrain(dataFrame=data,object=s)\n",
    "train.fit()"
   ]
  },
  {
   "cell_type": "code",
   "execution_count": 10,
   "metadata": {},
   "outputs": [
    {
     "name": "stdout",
     "output_type": "stream",
     "text": [
      "1/1 [==============================] - 0s 426ms/step\n",
      "1/1 [==============================] - 0s 18ms/step\n"
     ]
    },
    {
     "name": "stderr",
     "output_type": "stream",
     "text": [
      "2023-01-06 09:23:56.143692: I tensorflow/core/grappler/optimizers/custom_graph_optimizer_registry.cc:114] Plugin optimizer for device_type GPU is enabled.\n",
      "2023-01-06 09:23:56.191055: I tensorflow/core/grappler/optimizers/custom_graph_optimizer_registry.cc:114] Plugin optimizer for device_type GPU is enabled.\n",
      "2023-01-06 09:23:56.236973: I tensorflow/core/grappler/optimizers/custom_graph_optimizer_registry.cc:114] Plugin optimizer for device_type GPU is enabled.\n"
     ]
    },
    {
     "name": "stdout",
     "output_type": "stream",
     "text": [
      "1/1 [==============================] - 0s 16ms/step\n",
      "1/1 [==============================] - 0s 16ms/step\n",
      "1/1 [==============================] - 0s 17ms/step\n",
      "1/1 [==============================] - 0s 17ms/step\n",
      "1/1 [==============================] - 0s 16ms/step\n",
      "1/1 [==============================] - 0s 16ms/step\n",
      "1/1 [==============================] - 0s 16ms/step\n",
      "1/1 [==============================] - 0s 16ms/step\n",
      "1/1 [==============================] - 0s 17ms/step\n",
      "1/1 [==============================] - 0s 17ms/step\n",
      "1/1 [==============================] - 0s 17ms/step\n",
      "1/1 [==============================] - 0s 16ms/step\n",
      "1/1 [==============================] - 0s 16ms/step\n",
      "1/1 [==============================] - 0s 16ms/step\n",
      "1/1 [==============================] - 0s 16ms/step\n",
      "1/1 [==============================] - 0s 17ms/step\n",
      "1/1 [==============================] - 0s 16ms/step\n",
      "1/1 [==============================] - 0s 17ms/step\n",
      "1/1 [==============================] - 0s 15ms/step\n",
      "1/1 [==============================] - 0s 16ms/step\n",
      "1/1 [==============================] - 0s 16ms/step\n",
      "1/1 [==============================] - 0s 16ms/step\n"
     ]
    },
    {
     "data": {
      "text/html": [
       "<div>\n",
       "<style scoped>\n",
       "    .dataframe tbody tr th:only-of-type {\n",
       "        vertical-align: middle;\n",
       "    }\n",
       "\n",
       "    .dataframe tbody tr th {\n",
       "        vertical-align: top;\n",
       "    }\n",
       "\n",
       "    .dataframe thead th {\n",
       "        text-align: right;\n",
       "    }\n",
       "</style>\n",
       "<table border=\"1\" class=\"dataframe\">\n",
       "  <thead>\n",
       "    <tr style=\"text-align: right;\">\n",
       "      <th></th>\n",
       "      <th>Values</th>\n",
       "      <th>Predicts</th>\n",
       "    </tr>\n",
       "  </thead>\n",
       "  <tbody>\n",
       "    <tr>\n",
       "      <th>2022-05-01</th>\n",
       "      <td>360.00</td>\n",
       "      <td>410.80</td>\n",
       "    </tr>\n",
       "    <tr>\n",
       "      <th>2022-05-02</th>\n",
       "      <td>342.00</td>\n",
       "      <td>412.11</td>\n",
       "    </tr>\n",
       "    <tr>\n",
       "      <th>2022-05-03</th>\n",
       "      <td>406.00</td>\n",
       "      <td>435.25</td>\n",
       "    </tr>\n",
       "    <tr>\n",
       "      <th>2022-05-04</th>\n",
       "      <td>396.00</td>\n",
       "      <td>429.61</td>\n",
       "    </tr>\n",
       "    <tr>\n",
       "      <th>2022-05-05</th>\n",
       "      <td>420.00</td>\n",
       "      <td>453.42</td>\n",
       "    </tr>\n",
       "    <tr>\n",
       "      <th>2022-05-06</th>\n",
       "      <td>472.00</td>\n",
       "      <td>499.69</td>\n",
       "    </tr>\n",
       "    <tr>\n",
       "      <th>2022-05-07</th>\n",
       "      <td>548.00</td>\n",
       "      <td>530.49</td>\n",
       "    </tr>\n",
       "    <tr>\n",
       "      <th>2022-05-08</th>\n",
       "      <td>559.00</td>\n",
       "      <td>499.85</td>\n",
       "    </tr>\n",
       "    <tr>\n",
       "      <th>2022-05-09</th>\n",
       "      <td>463.00</td>\n",
       "      <td>473.45</td>\n",
       "    </tr>\n",
       "    <tr>\n",
       "      <th>2022-05-10</th>\n",
       "      <td>407.00</td>\n",
       "      <td>442.65</td>\n",
       "    </tr>\n",
       "    <tr>\n",
       "      <th>2022-05-11</th>\n",
       "      <td>362.00</td>\n",
       "      <td>409.75</td>\n",
       "    </tr>\n",
       "    <tr>\n",
       "      <th>2022-05-12</th>\n",
       "      <td>405.00</td>\n",
       "      <td>442.47</td>\n",
       "    </tr>\n",
       "    <tr>\n",
       "      <th>2022-05-13</th>\n",
       "      <td>417.00</td>\n",
       "      <td>440.83</td>\n",
       "    </tr>\n",
       "    <tr>\n",
       "      <th>2022-05-14</th>\n",
       "      <td>391.00</td>\n",
       "      <td>449.98</td>\n",
       "    </tr>\n",
       "    <tr>\n",
       "      <th>2022-05-15</th>\n",
       "      <td>419.00</td>\n",
       "      <td>470.30</td>\n",
       "    </tr>\n",
       "    <tr>\n",
       "      <th>2022-05-16</th>\n",
       "      <td>461.00</td>\n",
       "      <td>468.39</td>\n",
       "    </tr>\n",
       "    <tr>\n",
       "      <th>2022-05-17</th>\n",
       "      <td>472.00</td>\n",
       "      <td>504.51</td>\n",
       "    </tr>\n",
       "    <tr>\n",
       "      <th>2022-05-18</th>\n",
       "      <td>535.00</td>\n",
       "      <td>561.73</td>\n",
       "    </tr>\n",
       "    <tr>\n",
       "      <th>2022-05-19</th>\n",
       "      <td>622.00</td>\n",
       "      <td>599.29</td>\n",
       "    </tr>\n",
       "    <tr>\n",
       "      <th>2022-05-20</th>\n",
       "      <td>606.00</td>\n",
       "      <td>565.18</td>\n",
       "    </tr>\n",
       "    <tr>\n",
       "      <th>2022-05-21</th>\n",
       "      <td>508.00</td>\n",
       "      <td>538.06</td>\n",
       "    </tr>\n",
       "    <tr>\n",
       "      <th>2022-05-22</th>\n",
       "      <td>461.00</td>\n",
       "      <td>505.87</td>\n",
       "    </tr>\n",
       "    <tr>\n",
       "      <th>2022-05-23</th>\n",
       "      <td>390.00</td>\n",
       "      <td>464.24</td>\n",
       "    </tr>\n",
       "    <tr>\n",
       "      <th>2022-05-24</th>\n",
       "      <td>432.00</td>\n",
       "      <td>495.49</td>\n",
       "    </tr>\n",
       "  </tbody>\n",
       "</table>\n",
       "</div>"
      ],
      "text/plain": [
       "            Values  Predicts\n",
       "2022-05-01  360.00    410.80\n",
       "2022-05-02  342.00    412.11\n",
       "2022-05-03  406.00    435.25\n",
       "2022-05-04  396.00    429.61\n",
       "2022-05-05  420.00    453.42\n",
       "2022-05-06  472.00    499.69\n",
       "2022-05-07  548.00    530.49\n",
       "2022-05-08  559.00    499.85\n",
       "2022-05-09  463.00    473.45\n",
       "2022-05-10  407.00    442.65\n",
       "2022-05-11  362.00    409.75\n",
       "2022-05-12  405.00    442.47\n",
       "2022-05-13  417.00    440.83\n",
       "2022-05-14  391.00    449.98\n",
       "2022-05-15  419.00    470.30\n",
       "2022-05-16  461.00    468.39\n",
       "2022-05-17  472.00    504.51\n",
       "2022-05-18  535.00    561.73\n",
       "2022-05-19  622.00    599.29\n",
       "2022-05-20  606.00    565.18\n",
       "2022-05-21  508.00    538.06\n",
       "2022-05-22  461.00    505.87\n",
       "2022-05-23  390.00    464.24\n",
       "2022-05-24  432.00    495.49"
      ]
     },
     "execution_count": 10,
     "metadata": {},
     "output_type": "execute_result"
    }
   ],
   "source": [
    "# models are saved in the ./models folder. Do not forget to give the correct model name you have trained.\n",
    "from perlib.core.tester import dTester\n",
    "t = dTester(dataFrame=data,object=s,path=\"Data-lstm-2023-01-06-09-22-27.h5\",metric=[\"mape\",\"mae\"])\n",
    "t.forecast()"
   ]
  },
  {
   "cell_type": "code",
   "execution_count": 11,
   "metadata": {},
   "outputs": [
    {
     "data": {
      "text/plain": [
       "{'mean_absolute_percentage_error': 9.069431906163734,\n",
       " 'mean_absolute_error': 38.74221547444662}"
      ]
     },
     "execution_count": 11,
     "metadata": {},
     "output_type": "execute_result"
    }
   ],
   "source": [
    "t.evaluate()"
   ]
  }
 ],
 "metadata": {
  "kernelspec": {
   "display_name": "Python 3 (ipykernel)",
   "language": "python",
   "name": "python3"
  },
  "language_info": {
   "codemirror_mode": {
    "name": "ipython",
    "version": 3
   },
   "file_extension": ".py",
   "mimetype": "text/x-python",
   "name": "python",
   "nbconvert_exporter": "python",
   "pygments_lexer": "ipython3",
   "version": "3.9.15"
  }
 },
 "nbformat": 4,
 "nbformat_minor": 1
}
