{
 "cells": [
  {
   "cell_type": "code",
   "execution_count": 1,
   "metadata": {},
   "outputs": [],
   "source": [
    "import pandas as pd\n",
    "from perlib.forecaster import *\n",
    "from perlib.datasets import *\n",
    "\"\"\"\n",
    "You can call different datasets from datasets.\n",
    "\"\"\"\n",
    "dataset = load_airpassengers()\n",
    "data = pd.DataFrame(dataset)\n",
    "data.index = pd.date_range(start=\"2022-01-01\",periods=len(data),freq=\"d\")"
   ]
  },
  {
   "cell_type": "code",
   "execution_count": 2,
   "metadata": {},
   "outputs": [],
   "source": [
    "data.columns = [\"Values\"]"
   ]
  },
  {
   "cell_type": "code",
   "execution_count": 3,
   "metadata": {},
   "outputs": [
    {
     "data": {
      "text/plain": "            Values\n2022-01-01  112.00\n2022-01-02  118.00\n2022-01-03  132.00\n2022-01-04  129.00\n2022-01-05  121.00\n...            ...\n2022-05-20  606.00\n2022-05-21  508.00\n2022-05-22  461.00\n2022-05-23  390.00\n2022-05-24  432.00\n\n[144 rows x 1 columns]",
      "text/html": "<div>\n<style scoped>\n    .dataframe tbody tr th:only-of-type {\n        vertical-align: middle;\n    }\n\n    .dataframe tbody tr th {\n        vertical-align: top;\n    }\n\n    .dataframe thead th {\n        text-align: right;\n    }\n</style>\n<table border=\"1\" class=\"dataframe\">\n  <thead>\n    <tr style=\"text-align: right;\">\n      <th></th>\n      <th>Values</th>\n    </tr>\n  </thead>\n  <tbody>\n    <tr>\n      <th>2022-01-01</th>\n      <td>112.00</td>\n    </tr>\n    <tr>\n      <th>2022-01-02</th>\n      <td>118.00</td>\n    </tr>\n    <tr>\n      <th>2022-01-03</th>\n      <td>132.00</td>\n    </tr>\n    <tr>\n      <th>2022-01-04</th>\n      <td>129.00</td>\n    </tr>\n    <tr>\n      <th>2022-01-05</th>\n      <td>121.00</td>\n    </tr>\n    <tr>\n      <th>...</th>\n      <td>...</td>\n    </tr>\n    <tr>\n      <th>2022-05-20</th>\n      <td>606.00</td>\n    </tr>\n    <tr>\n      <th>2022-05-21</th>\n      <td>508.00</td>\n    </tr>\n    <tr>\n      <th>2022-05-22</th>\n      <td>461.00</td>\n    </tr>\n    <tr>\n      <th>2022-05-23</th>\n      <td>390.00</td>\n    </tr>\n    <tr>\n      <th>2022-05-24</th>\n      <td>432.00</td>\n    </tr>\n  </tbody>\n</table>\n<p>144 rows × 1 columns</p>\n</div>"
     },
     "execution_count": 3,
     "metadata": {},
     "output_type": "execute_result"
    }
   ],
   "source": [
    "data"
   ]
  },
  {
   "cell_type": "code",
   "execution_count": 4,
   "metadata": {},
   "outputs": [],
   "source": [
    "#To read your own dataset;\n",
    "#dataPrepration.read_data(\"../datasets/winequality-white.csv\",delimiter=\";\")"
   ]
  },
  {
   "cell_type": "code",
   "execution_count": 5,
   "metadata": {},
   "outputs": [
    {
     "name": "stdout",
     "output_type": "stream",
     "text": [
      "Parameters created\n",
      "The model training process has been started.\n"
     ]
    },
    {
     "name": "stderr",
     "output_type": "stream",
     "text": [
      "100%|██████████| 400/400 [00:23<00:00, 17.02it/s]\n"
     ]
    },
    {
     "name": "stdout",
     "output_type": "stream",
     "text": [
      "Model training process completed\n",
      "The model is being saved\n"
     ]
    }
   ],
   "source": [
    "\"\"\"\n",
    "Model training operations are performed with different parameters.\n",
    "\"\"\"\n",
    "\n",
    "forecast,evaluate =  get_result(dataFrame=data,\n",
    "                                y=\"Values\",\n",
    "                                modelName=\"ARIMA\",\n",
    "                                dateColumn=False,\n",
    "                                process=False,\n",
    "                                forecastNumber=24,\n",
    "                                metric=[\"mape\",\"mae\",\"mse\"],\n",
    "                                #epoch=1,\n",
    "                                forecastingStartDate=False,\n",
    "                                verbose=1\n",
    "                                )"
   ]
  },
  {
   "cell_type": "code",
   "execution_count": 6,
   "metadata": {},
   "outputs": [
    {
     "data": {
      "text/plain": "            Predicts  Actual\n2022-05-01    228.23  360.00\n2022-05-02    228.23  342.00\n2022-05-03    228.23  406.00\n2022-05-04    228.23  396.00\n2022-05-05    228.23  420.00\n2022-05-06    228.23  472.00\n2022-05-07    228.23  548.00\n2022-05-08    228.23  559.00\n2022-05-09    228.23  463.00\n2022-05-10    228.23  407.00\n2022-05-11    228.23  362.00\n2022-05-12    228.23  405.00\n2022-05-13    228.23  417.00\n2022-05-14    228.23  391.00\n2022-05-15    228.23  419.00\n2022-05-16    228.23  461.00\n2022-05-17    228.23  472.00\n2022-05-18    228.23  535.00\n2022-05-19    228.23  622.00\n2022-05-20    228.23  606.00\n2022-05-21    228.23  508.00\n2022-05-22    228.23  461.00\n2022-05-23    228.23  390.00\n2022-05-24    228.23  432.00",
      "text/html": "<div>\n<style scoped>\n    .dataframe tbody tr th:only-of-type {\n        vertical-align: middle;\n    }\n\n    .dataframe tbody tr th {\n        vertical-align: top;\n    }\n\n    .dataframe thead th {\n        text-align: right;\n    }\n</style>\n<table border=\"1\" class=\"dataframe\">\n  <thead>\n    <tr style=\"text-align: right;\">\n      <th></th>\n      <th>Predicts</th>\n      <th>Actual</th>\n    </tr>\n  </thead>\n  <tbody>\n    <tr>\n      <th>2022-05-01</th>\n      <td>228.23</td>\n      <td>360.00</td>\n    </tr>\n    <tr>\n      <th>2022-05-02</th>\n      <td>228.23</td>\n      <td>342.00</td>\n    </tr>\n    <tr>\n      <th>2022-05-03</th>\n      <td>228.23</td>\n      <td>406.00</td>\n    </tr>\n    <tr>\n      <th>2022-05-04</th>\n      <td>228.23</td>\n      <td>396.00</td>\n    </tr>\n    <tr>\n      <th>2022-05-05</th>\n      <td>228.23</td>\n      <td>420.00</td>\n    </tr>\n    <tr>\n      <th>2022-05-06</th>\n      <td>228.23</td>\n      <td>472.00</td>\n    </tr>\n    <tr>\n      <th>2022-05-07</th>\n      <td>228.23</td>\n      <td>548.00</td>\n    </tr>\n    <tr>\n      <th>2022-05-08</th>\n      <td>228.23</td>\n      <td>559.00</td>\n    </tr>\n    <tr>\n      <th>2022-05-09</th>\n      <td>228.23</td>\n      <td>463.00</td>\n    </tr>\n    <tr>\n      <th>2022-05-10</th>\n      <td>228.23</td>\n      <td>407.00</td>\n    </tr>\n    <tr>\n      <th>2022-05-11</th>\n      <td>228.23</td>\n      <td>362.00</td>\n    </tr>\n    <tr>\n      <th>2022-05-12</th>\n      <td>228.23</td>\n      <td>405.00</td>\n    </tr>\n    <tr>\n      <th>2022-05-13</th>\n      <td>228.23</td>\n      <td>417.00</td>\n    </tr>\n    <tr>\n      <th>2022-05-14</th>\n      <td>228.23</td>\n      <td>391.00</td>\n    </tr>\n    <tr>\n      <th>2022-05-15</th>\n      <td>228.23</td>\n      <td>419.00</td>\n    </tr>\n    <tr>\n      <th>2022-05-16</th>\n      <td>228.23</td>\n      <td>461.00</td>\n    </tr>\n    <tr>\n      <th>2022-05-17</th>\n      <td>228.23</td>\n      <td>472.00</td>\n    </tr>\n    <tr>\n      <th>2022-05-18</th>\n      <td>228.23</td>\n      <td>535.00</td>\n    </tr>\n    <tr>\n      <th>2022-05-19</th>\n      <td>228.23</td>\n      <td>622.00</td>\n    </tr>\n    <tr>\n      <th>2022-05-20</th>\n      <td>228.23</td>\n      <td>606.00</td>\n    </tr>\n    <tr>\n      <th>2022-05-21</th>\n      <td>228.23</td>\n      <td>508.00</td>\n    </tr>\n    <tr>\n      <th>2022-05-22</th>\n      <td>228.23</td>\n      <td>461.00</td>\n    </tr>\n    <tr>\n      <th>2022-05-23</th>\n      <td>228.23</td>\n      <td>390.00</td>\n    </tr>\n    <tr>\n      <th>2022-05-24</th>\n      <td>228.23</td>\n      <td>432.00</td>\n    </tr>\n  </tbody>\n</table>\n</div>"
     },
     "execution_count": 6,
     "metadata": {},
     "output_type": "execute_result"
    }
   ],
   "source": [
    "forecast"
   ]
  },
  {
   "cell_type": "code",
   "execution_count": 7,
   "metadata": {},
   "outputs": [
    {
     "data": {
      "text/plain": "{'mean_absolute_percentage_error': 48.24388951405902,\n 'mean_absolute_error': 224.02137889193878,\n 'mean_squared_error': 55762.26570064559}"
     },
     "execution_count": 7,
     "metadata": {},
     "output_type": "execute_result"
    }
   ],
   "source": [
    "evaluate"
   ]
  },
  {
   "cell_type": "code",
   "execution_count": null,
   "outputs": [],
   "source": [],
   "metadata": {
    "collapsed": false
   }
  },
  {
   "cell_type": "code",
   "execution_count": 4,
   "metadata": {},
   "outputs": [
    {
     "data": {
      "application/json": {
       "ascii": false,
       "bar_format": null,
       "colour": null,
       "elapsed": 0.008925199508666992,
       "initial": 0,
       "n": 0,
       "ncols": null,
       "nrows": null,
       "postfix": null,
       "prefix": "",
       "rate": null,
       "total": 8,
       "unit": "it",
       "unit_divisor": 1000,
       "unit_scale": false
      },
      "application/vnd.jupyter.widget-view+json": {
       "model_id": "0c5e2d46f06841029987bd391a5b728c",
       "version_major": 2,
       "version_minor": 0
      },
      "text/plain": [
       "  0%|          | 0/8 [00:00<?, ?it/s]"
      ]
     },
     "metadata": {},
     "output_type": "display_data"
    },
    {
     "name": "stderr",
     "output_type": "stream",
     "text": [
      "2023-01-08 10:11:54.678872: I tensorflow/core/common_runtime/pluggable_device/pluggable_device_factory.cc:306] Could not identify NUMA node of platform GPU ID 0, defaulting to 0. Your kernel may not have been built with NUMA support.\n",
      "2023-01-08 10:11:54.679035: I tensorflow/core/common_runtime/pluggable_device/pluggable_device_factory.cc:272] Created TensorFlow device (/job:localhost/replica:0/task:0/device:GPU:0 with 0 MB memory) -> physical PluggableDevice (device: 0, name: METAL, pci bus id: <undefined>)\n"
     ]
    },
    {
     "name": "stdout",
     "output_type": "stream",
     "text": [
      "Metal device set to: Apple M1 Pro\n",
      "Parameters created\n",
      "WARNING:tensorflow:Layer gru will not use cuDNN kernels since it doesn't meet the criteria. It will use a generic GPU kernel as fallback when running on GPU.\n",
      "WARNING:tensorflow:Layer gru_1 will not use cuDNN kernels since it doesn't meet the criteria. It will use a generic GPU kernel as fallback when running on GPU.\n",
      "Model: \"model\"\n",
      "__________________________________________________________________________________________________\n",
      " Layer (type)                   Output Shape         Param #     Connected to                     \n",
      "==================================================================================================\n",
      " input_1 (InputLayer)           [(None, 24, 1)]      0           []                               \n",
      "                                                                                                  \n",
      " reshape (Reshape)              (None, 24, 1, 1)     0           ['input_1[0][0]']                \n",
      "                                                                                                  \n",
      " conv2d (Conv2D)                (None, 19, 1, 100)   700         ['reshape[0][0]']                \n",
      "                                                                                                  \n",
      " dropout (Dropout)              (None, 19, 1, 100)   0           ['conv2d[0][0]']                 \n",
      "                                                                                                  \n",
      " reshape_1 (Reshape)            (None, 19, 100)      0           ['dropout[0][0]']                \n",
      "                                                                                                  \n",
      " pre_skip_trans (PreSkipTrans)  (None, 1, 100)       0           ['reshape_1[0][0]']              \n",
      "                                                                                                  \n",
      " gru (GRU)                      [(None, 100),        60600       ['reshape_1[0][0]']              \n",
      "                                 (None, 100)]                                                     \n",
      "                                                                                                  \n",
      " gru_1 (GRU)                    [(None, 5),          1605        ['pre_skip_trans[0][0]']         \n",
      "                                 (None, 5)]                                                       \n",
      "                                                                                                  \n",
      " dropout_1 (Dropout)            (None, 100)          0           ['gru[0][1]']                    \n",
      "                                                                                                  \n",
      " post_skip_trans (PostSkipTrans  (None, 95)          0           ['gru_1[0][1]',                  \n",
      " )                                                                'input_1[0][0]']                \n",
      "                                                                                                  \n",
      " pre_ar_trans (PreARTrans)      (None, 24)           0           ['input_1[0][0]']                \n",
      "                                                                                                  \n",
      " concatenate (Concatenate)      (None, 195)          0           ['dropout_1[0][0]',              \n",
      "                                                                  'post_skip_trans[0][0]']        \n",
      "                                                                                                  \n",
      " flatten_1 (Flatten)            (None, 24)           0           ['pre_ar_trans[0][0]']           \n",
      "                                                                                                  \n",
      " flatten (Flatten)              (None, 195)          0           ['concatenate[0][0]']            \n",
      "                                                                                                  \n",
      " dense_1 (Dense)                (None, 1)            25          ['flatten_1[0][0]']              \n",
      "                                                                                                  \n",
      " dense (Dense)                  (None, 1)            196         ['flatten[0][0]']                \n",
      "                                                                                                  \n",
      " post_ar_trans (PostARTrans)    (None, 1)            0           ['dense_1[0][0]',                \n",
      "                                                                  'input_1[0][0]']                \n",
      "                                                                                                  \n",
      " add (Add)                      (None, 1)            0           ['dense[0][0]',                  \n",
      "                                                                  'post_ar_trans[0][0]']          \n",
      "                                                                                                  \n",
      "==================================================================================================\n",
      "Total params: 63,126\n",
      "Trainable params: 63,126\n",
      "Non-trainable params: 0\n",
      "__________________________________________________________________________________________________\n",
      "The model training process has been started.\n"
     ]
    },
    {
     "name": "stderr",
     "output_type": "stream",
     "text": [
      "2023-01-08 10:11:56.436914: W tensorflow/core/platform/profile_utils/cpu_utils.cc:128] Failed to get CPU frequency: 0 Hz\n",
      "2023-01-08 10:11:56.439458: I tensorflow/core/grappler/optimizers/custom_graph_optimizer_registry.cc:114] Plugin optimizer for device_type GPU is enabled.\n",
      "\n",
      "KeyboardInterrupt\n",
      "\n"
     ]
    }
   ],
   "source": [
    "#The Time Series module helps to create many basic models without using much code and helps to understand which models work better without any parameter adjustments.\n",
    "from perlib.piplines.dpipline import Timeseries\n",
    "pipline = Timeseries(dataFrame=data,\n",
    "                       y=\"Values\",\n",
    "                       dateColumn=False,\n",
    "                       process=False,\n",
    "                       epoch=2,\n",
    "                       forecastNumber= 7,\n",
    "                       models=\"all\")\n",
    "predictions = pipline.fit()"
   ]
  },
  {
   "cell_type": "code",
   "execution_count": 8,
   "metadata": {},
   "outputs": [
    {
     "data": {
      "text/html": [
       "<div>\n",
       "<style scoped>\n",
       "    .dataframe tbody tr th:only-of-type {\n",
       "        vertical-align: middle;\n",
       "    }\n",
       "\n",
       "    .dataframe tbody tr th {\n",
       "        vertical-align: top;\n",
       "    }\n",
       "\n",
       "    .dataframe thead th {\n",
       "        text-align: right;\n",
       "    }\n",
       "</style>\n",
       "<table border=\"1\" class=\"dataframe\">\n",
       "  <thead>\n",
       "    <tr style=\"text-align: right;\">\n",
       "      <th></th>\n",
       "      <th>mean_absolute_percentage_error</th>\n",
       "      <th>mean_absolute_error</th>\n",
       "      <th>mean_squared_error</th>\n",
       "    </tr>\n",
       "  </thead>\n",
       "  <tbody>\n",
       "    <tr>\n",
       "      <th>LSTNET</th>\n",
       "      <td>14.05</td>\n",
       "      <td>67.70</td>\n",
       "      <td>5990.35</td>\n",
       "    </tr>\n",
       "    <tr>\n",
       "      <th>LSTM</th>\n",
       "      <td>7.03</td>\n",
       "      <td>38.28</td>\n",
       "      <td>2250.69</td>\n",
       "    </tr>\n",
       "    <tr>\n",
       "      <th>BILSTM</th>\n",
       "      <td>13.21</td>\n",
       "      <td>68.22</td>\n",
       "      <td>6661.60</td>\n",
       "    </tr>\n",
       "    <tr>\n",
       "      <th>CONVLSTM</th>\n",
       "      <td>9.62</td>\n",
       "      <td>48.06</td>\n",
       "      <td>2773.69</td>\n",
       "    </tr>\n",
       "    <tr>\n",
       "      <th>TCN</th>\n",
       "      <td>12.03</td>\n",
       "      <td>65.44</td>\n",
       "      <td>6423.10</td>\n",
       "    </tr>\n",
       "    <tr>\n",
       "      <th>RNN</th>\n",
       "      <td>11.53</td>\n",
       "      <td>59.33</td>\n",
       "      <td>4793.62</td>\n",
       "    </tr>\n",
       "    <tr>\n",
       "      <th>ARIMA</th>\n",
       "      <td>50.18</td>\n",
       "      <td>261.14</td>\n",
       "      <td>74654.48</td>\n",
       "    </tr>\n",
       "    <tr>\n",
       "      <th>SARIMA</th>\n",
       "      <td>10.48</td>\n",
       "      <td>51.25</td>\n",
       "      <td>3238.20</td>\n",
       "    </tr>\n",
       "  </tbody>\n",
       "</table>\n",
       "</div>"
      ],
      "text/plain": [
       "          mean_absolute_percentage_error  mean_absolute_error  \\\n",
       "LSTNET                             14.05                67.70   \n",
       "LSTM                                7.03                38.28   \n",
       "BILSTM                             13.21                68.22   \n",
       "CONVLSTM                            9.62                48.06   \n",
       "TCN                                12.03                65.44   \n",
       "RNN                                11.53                59.33   \n",
       "ARIMA                              50.18               261.14   \n",
       "SARIMA                             10.48                51.25   \n",
       "\n",
       "          mean_squared_error  \n",
       "LSTNET               5990.35  \n",
       "LSTM                 2250.69  \n",
       "BILSTM               6661.60  \n",
       "CONVLSTM             2773.69  \n",
       "TCN                  6423.10  \n",
       "RNN                  4793.62  \n",
       "ARIMA               74654.48  \n",
       "SARIMA               3238.20  "
      ]
     },
     "execution_count": 8,
     "metadata": {},
     "output_type": "execute_result"
    }
   ],
   "source": [
    "predictions"
   ]
  },
  {
   "cell_type": "code",
   "execution_count": 4,
   "metadata": {},
   "outputs": [
    {
     "name": "stdout",
     "output_type": "stream",
     "text": [
      "Skipped Bivariate Analysis: There are less than 2 numeric variables.\n"
     ]
    },
    {
     "data": {
      "text/plain": "\t\tOverview\n\t\t========\nName: Values\nType: numeric\nUnique Values: 118 -> [104.0, 112.0, 114.0, 115.0, 118.0, 119.0, [...]\nMissing Values: None\n\n\t  Summary Statistics\n\t  ------------------\n                             \nNumber of observations 144.00\nAverage                280.30\nStandard Deviation     119.97\nMinimum                104.00\nLower Quartile         180.00\nMedian                 265.50\nUpper Quartile         360.50\nMaximum                622.00\nSkewness                 0.58\nKurtosis                -0.36\n\n\t  Tests for Normality\n\t  -------------------\n                               p-value Conclusion at α = 0.05\nD'Agostino's K-squared test  0.0131981  Unlikely to be normal\nKolmogorov-Smirnov test      0.0000000  Unlikely to be normal\nShapiro-Wilk test            0.0000683  Unlikely to be normal"
     },
     "execution_count": 4,
     "metadata": {},
     "output_type": "execute_result"
    }
   ],
   "source": [
    "\"\"\"\n",
    "It allows you to get summary information about the data.\n",
    "\"\"\"\n",
    "summarize(dataFrame=data)"
   ]
  },
  {
   "cell_type": "code",
   "execution_count": 7,
   "metadata": {},
   "outputs": [],
   "source": []
  },
  {
   "cell_type": "code",
   "execution_count": null,
   "metadata": {},
   "outputs": [],
   "source": [
    "\"\"\"\n",
    "To manually create data preparation and preprocessing processes;\n",
    "Each function has a \"mode\" parameter. It returns \"auto\" by default.\n",
    "Otherwise, it will be enough to give the parameter you want.\n",
    "\"\"\"\n",
    "\n",
    "#It automatically performs the necessary preprocessing in the data.\n",
    "data = preprocess.auto(dataFrame=data)\n",
    "\n",
    "#Analyzes and organizes Missing values.\n",
    "data = preprocess.missing_num(dataFrame=data,mode=\"auto\")\n",
    "\n",
    "#Finds outliers in data.\n",
    "data = preprocess.find_outliers(dataFrame=data,mode=\"auto\")\n",
    "\n",
    "#Performs encoding operations\n",
    "data = preprocess.encode_cat(dataFrame=data,mode=\"auto\")\n",
    "\n",
    "#\n",
    "data = preprocess.dublicates(dataFrame=data,mode=\"auto\")\n",
    "\n",
    "#Allows you to select the start and end range for the training process\n",
    "data = dataPrepration.trainingFordate_range(dataFrame=data,dt1=\"2013-01-01\",dt2=\"2022-01-01\")"
   ]
  },
  {
   "cell_type": "markdown",
   "metadata": {},
   "source": [
    "Deep Learning create architect"
   ]
  },
  {
   "cell_type": "code",
   "execution_count": 5,
   "metadata": {},
   "outputs": [],
   "source": [
    "\"\"\"\n",
    "To build a model manually;\n",
    "\"\"\"\n",
    "\n",
    "#The layer you want to create must contain 'unit', 'activation', 'dropout'.\n",
    "dict_ = {\"Layer\": {\"unit\":[150,100]\n",
    "                  ,\"activation\":[\"tanh\",\"tanh\"],\n",
    "                    \"dropout\"  :[0.2,0.2]\n",
    "                  }}\n",
    "\n",
    "req_info.layers = dict_\n",
    "req_info.modelname = \"lstm\"\n",
    "req_info.epoch  =  2\n",
    "req_info.targetCol = \"Values\"\n",
    "req_info.forecastingStartDate = False\n",
    "req_info.period = \"daily\"\n",
    "req_info.forecastNumber = 24\n",
    "req_info.scaler = \"standard\""
   ]
  },
  {
   "cell_type": "code",
   "execution_count": 6,
   "metadata": {},
   "outputs": [
    {
     "name": "stdout",
     "output_type": "stream",
     "text": [
      "Metal device set to: Apple M1 Pro\n"
     ]
    },
    {
     "name": "stderr",
     "output_type": "stream",
     "text": [
      "2023-01-08 13:57:05.542531: I tensorflow/core/common_runtime/pluggable_device/pluggable_device_factory.cc:306] Could not identify NUMA node of platform GPU ID 0, defaulting to 0. Your kernel may not have been built with NUMA support.\n",
      "2023-01-08 13:57:05.542813: I tensorflow/core/common_runtime/pluggable_device/pluggable_device_factory.cc:272] Created TensorFlow device (/job:localhost/replica:0/task:0/device:GPU:0 with 0 MB memory) -> physical PluggableDevice (device: 0, name: METAL, pci bus id: <undefined>)\n"
     ]
    }
   ],
   "source": [
    "from perlib.core.models.dmodels import models\n",
    "s = models(req_info)"
   ]
  },
  {
   "cell_type": "code",
   "execution_count": 7,
   "metadata": {},
   "outputs": [
    {
     "name": "stdout",
     "output_type": "stream",
     "text": [
      "Epoch 1/2\n"
     ]
    },
    {
     "name": "stderr",
     "output_type": "stream",
     "text": [
      "2023-01-08 13:57:09.334660: W tensorflow/core/platform/profile_utils/cpu_utils.cc:128] Failed to get CPU frequency: 0 Hz\n",
      "2023-01-08 13:57:09.340723: I tensorflow/core/grappler/optimizers/custom_graph_optimizer_registry.cc:114] Plugin optimizer for device_type GPU is enabled.\n",
      "2023-01-08 13:57:09.503066: I tensorflow/core/grappler/optimizers/custom_graph_optimizer_registry.cc:114] Plugin optimizer for device_type GPU is enabled.\n",
      "2023-01-08 13:57:09.621625: I tensorflow/core/grappler/optimizers/custom_graph_optimizer_registry.cc:114] Plugin optimizer for device_type GPU is enabled.\n",
      "2023-01-08 13:57:09.754091: I tensorflow/core/grappler/optimizers/custom_graph_optimizer_registry.cc:114] Plugin optimizer for device_type GPU is enabled.\n",
      "2023-01-08 13:57:09.929373: I tensorflow/core/grappler/optimizers/custom_graph_optimizer_registry.cc:114] Plugin optimizer for device_type GPU is enabled.\n",
      "\n",
      "KeyboardInterrupt\n",
      "\n"
     ]
    }
   ],
   "source": [
    "from perlib.core.train import dTrain\n",
    "train = dTrain(dataFrame=data,object=s)\n",
    "train.fit()"
   ]
  },
  {
   "cell_type": "code",
   "execution_count": 10,
   "metadata": {},
   "outputs": [
    {
     "name": "stdout",
     "output_type": "stream",
     "text": [
      "1/1 [==============================] - 0s 426ms/step\n",
      "1/1 [==============================] - 0s 18ms/step\n"
     ]
    },
    {
     "name": "stderr",
     "output_type": "stream",
     "text": [
      "2023-01-06 09:23:56.143692: I tensorflow/core/grappler/optimizers/custom_graph_optimizer_registry.cc:114] Plugin optimizer for device_type GPU is enabled.\n",
      "2023-01-06 09:23:56.191055: I tensorflow/core/grappler/optimizers/custom_graph_optimizer_registry.cc:114] Plugin optimizer for device_type GPU is enabled.\n",
      "2023-01-06 09:23:56.236973: I tensorflow/core/grappler/optimizers/custom_graph_optimizer_registry.cc:114] Plugin optimizer for device_type GPU is enabled.\n"
     ]
    },
    {
     "name": "stdout",
     "output_type": "stream",
     "text": [
      "1/1 [==============================] - 0s 16ms/step\n",
      "1/1 [==============================] - 0s 16ms/step\n",
      "1/1 [==============================] - 0s 17ms/step\n",
      "1/1 [==============================] - 0s 17ms/step\n",
      "1/1 [==============================] - 0s 16ms/step\n",
      "1/1 [==============================] - 0s 16ms/step\n",
      "1/1 [==============================] - 0s 16ms/step\n",
      "1/1 [==============================] - 0s 16ms/step\n",
      "1/1 [==============================] - 0s 17ms/step\n",
      "1/1 [==============================] - 0s 17ms/step\n",
      "1/1 [==============================] - 0s 17ms/step\n",
      "1/1 [==============================] - 0s 16ms/step\n",
      "1/1 [==============================] - 0s 16ms/step\n",
      "1/1 [==============================] - 0s 16ms/step\n",
      "1/1 [==============================] - 0s 16ms/step\n",
      "1/1 [==============================] - 0s 17ms/step\n",
      "1/1 [==============================] - 0s 16ms/step\n",
      "1/1 [==============================] - 0s 17ms/step\n",
      "1/1 [==============================] - 0s 15ms/step\n",
      "1/1 [==============================] - 0s 16ms/step\n",
      "1/1 [==============================] - 0s 16ms/step\n",
      "1/1 [==============================] - 0s 16ms/step\n"
     ]
    },
    {
     "data": {
      "text/html": [
       "<div>\n",
       "<style scoped>\n",
       "    .dataframe tbody tr th:only-of-type {\n",
       "        vertical-align: middle;\n",
       "    }\n",
       "\n",
       "    .dataframe tbody tr th {\n",
       "        vertical-align: top;\n",
       "    }\n",
       "\n",
       "    .dataframe thead th {\n",
       "        text-align: right;\n",
       "    }\n",
       "</style>\n",
       "<table border=\"1\" class=\"dataframe\">\n",
       "  <thead>\n",
       "    <tr style=\"text-align: right;\">\n",
       "      <th></th>\n",
       "      <th>Values</th>\n",
       "      <th>Predicts</th>\n",
       "    </tr>\n",
       "  </thead>\n",
       "  <tbody>\n",
       "    <tr>\n",
       "      <th>2022-05-01</th>\n",
       "      <td>360.00</td>\n",
       "      <td>410.80</td>\n",
       "    </tr>\n",
       "    <tr>\n",
       "      <th>2022-05-02</th>\n",
       "      <td>342.00</td>\n",
       "      <td>412.11</td>\n",
       "    </tr>\n",
       "    <tr>\n",
       "      <th>2022-05-03</th>\n",
       "      <td>406.00</td>\n",
       "      <td>435.25</td>\n",
       "    </tr>\n",
       "    <tr>\n",
       "      <th>2022-05-04</th>\n",
       "      <td>396.00</td>\n",
       "      <td>429.61</td>\n",
       "    </tr>\n",
       "    <tr>\n",
       "      <th>2022-05-05</th>\n",
       "      <td>420.00</td>\n",
       "      <td>453.42</td>\n",
       "    </tr>\n",
       "    <tr>\n",
       "      <th>2022-05-06</th>\n",
       "      <td>472.00</td>\n",
       "      <td>499.69</td>\n",
       "    </tr>\n",
       "    <tr>\n",
       "      <th>2022-05-07</th>\n",
       "      <td>548.00</td>\n",
       "      <td>530.49</td>\n",
       "    </tr>\n",
       "    <tr>\n",
       "      <th>2022-05-08</th>\n",
       "      <td>559.00</td>\n",
       "      <td>499.85</td>\n",
       "    </tr>\n",
       "    <tr>\n",
       "      <th>2022-05-09</th>\n",
       "      <td>463.00</td>\n",
       "      <td>473.45</td>\n",
       "    </tr>\n",
       "    <tr>\n",
       "      <th>2022-05-10</th>\n",
       "      <td>407.00</td>\n",
       "      <td>442.65</td>\n",
       "    </tr>\n",
       "    <tr>\n",
       "      <th>2022-05-11</th>\n",
       "      <td>362.00</td>\n",
       "      <td>409.75</td>\n",
       "    </tr>\n",
       "    <tr>\n",
       "      <th>2022-05-12</th>\n",
       "      <td>405.00</td>\n",
       "      <td>442.47</td>\n",
       "    </tr>\n",
       "    <tr>\n",
       "      <th>2022-05-13</th>\n",
       "      <td>417.00</td>\n",
       "      <td>440.83</td>\n",
       "    </tr>\n",
       "    <tr>\n",
       "      <th>2022-05-14</th>\n",
       "      <td>391.00</td>\n",
       "      <td>449.98</td>\n",
       "    </tr>\n",
       "    <tr>\n",
       "      <th>2022-05-15</th>\n",
       "      <td>419.00</td>\n",
       "      <td>470.30</td>\n",
       "    </tr>\n",
       "    <tr>\n",
       "      <th>2022-05-16</th>\n",
       "      <td>461.00</td>\n",
       "      <td>468.39</td>\n",
       "    </tr>\n",
       "    <tr>\n",
       "      <th>2022-05-17</th>\n",
       "      <td>472.00</td>\n",
       "      <td>504.51</td>\n",
       "    </tr>\n",
       "    <tr>\n",
       "      <th>2022-05-18</th>\n",
       "      <td>535.00</td>\n",
       "      <td>561.73</td>\n",
       "    </tr>\n",
       "    <tr>\n",
       "      <th>2022-05-19</th>\n",
       "      <td>622.00</td>\n",
       "      <td>599.29</td>\n",
       "    </tr>\n",
       "    <tr>\n",
       "      <th>2022-05-20</th>\n",
       "      <td>606.00</td>\n",
       "      <td>565.18</td>\n",
       "    </tr>\n",
       "    <tr>\n",
       "      <th>2022-05-21</th>\n",
       "      <td>508.00</td>\n",
       "      <td>538.06</td>\n",
       "    </tr>\n",
       "    <tr>\n",
       "      <th>2022-05-22</th>\n",
       "      <td>461.00</td>\n",
       "      <td>505.87</td>\n",
       "    </tr>\n",
       "    <tr>\n",
       "      <th>2022-05-23</th>\n",
       "      <td>390.00</td>\n",
       "      <td>464.24</td>\n",
       "    </tr>\n",
       "    <tr>\n",
       "      <th>2022-05-24</th>\n",
       "      <td>432.00</td>\n",
       "      <td>495.49</td>\n",
       "    </tr>\n",
       "  </tbody>\n",
       "</table>\n",
       "</div>"
      ],
      "text/plain": [
       "            Values  Predicts\n",
       "2022-05-01  360.00    410.80\n",
       "2022-05-02  342.00    412.11\n",
       "2022-05-03  406.00    435.25\n",
       "2022-05-04  396.00    429.61\n",
       "2022-05-05  420.00    453.42\n",
       "2022-05-06  472.00    499.69\n",
       "2022-05-07  548.00    530.49\n",
       "2022-05-08  559.00    499.85\n",
       "2022-05-09  463.00    473.45\n",
       "2022-05-10  407.00    442.65\n",
       "2022-05-11  362.00    409.75\n",
       "2022-05-12  405.00    442.47\n",
       "2022-05-13  417.00    440.83\n",
       "2022-05-14  391.00    449.98\n",
       "2022-05-15  419.00    470.30\n",
       "2022-05-16  461.00    468.39\n",
       "2022-05-17  472.00    504.51\n",
       "2022-05-18  535.00    561.73\n",
       "2022-05-19  622.00    599.29\n",
       "2022-05-20  606.00    565.18\n",
       "2022-05-21  508.00    538.06\n",
       "2022-05-22  461.00    505.87\n",
       "2022-05-23  390.00    464.24\n",
       "2022-05-24  432.00    495.49"
      ]
     },
     "execution_count": 10,
     "metadata": {},
     "output_type": "execute_result"
    }
   ],
   "source": [
    "# models are saved in the ./models folder. Do not forget to give the correct model name you have trained.\n",
    "from perlib.core.tester import dTester\n",
    "t = dTester(dataFrame=data,object=s,path=\"Data-lstm-2023-01-06-09-22-27.h5\",metric=[\"mape\",\"mae\"])\n",
    "t.forecast()"
   ]
  },
  {
   "cell_type": "code",
   "execution_count": 11,
   "metadata": {},
   "outputs": [
    {
     "data": {
      "text/plain": [
       "{'mean_absolute_percentage_error': 9.069431906163734,\n",
       " 'mean_absolute_error': 38.74221547444662}"
      ]
     },
     "execution_count": 11,
     "metadata": {},
     "output_type": "execute_result"
    }
   ],
   "source": [
    "t.evaluate()"
   ]
  }
 ],
 "metadata": {
  "kernelspec": {
   "display_name": "Python 3 (ipykernel)",
   "language": "python",
   "name": "python3"
  },
  "language_info": {
   "codemirror_mode": {
    "name": "ipython",
    "version": 3
   },
   "file_extension": ".py",
   "mimetype": "text/x-python",
   "name": "python",
   "nbconvert_exporter": "python",
   "pygments_lexer": "ipython3",
   "version": "3.9.15"
  }
 },
 "nbformat": 4,
 "nbformat_minor": 1
}
