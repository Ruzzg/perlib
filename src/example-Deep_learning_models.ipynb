{
 "cells": [
  {
   "cell_type": "code",
   "execution_count": 1,
   "outputs": [],
   "source": [
    "import pandas as pd\n",
    "from perlib.forecaster import *\n",
    "from perlib.datasets import *\n",
    "\"\"\"\n",
    "You can call different datasets from datasets.\n",
    "\"\"\"\n",
    "dataset = load_airpassengers()\n",
    "data = pd.DataFrame(dataset)\n",
    "data.index = pd.date_range(start=\"2022-01-01\",periods=len(data),freq=\"d\")"
   ],
   "metadata": {
    "collapsed": false
   }
  },
  {
   "cell_type": "code",
   "execution_count": 2,
   "outputs": [],
   "source": [
    "data.columns = [\"Values\"]"
   ],
   "metadata": {
    "collapsed": false
   }
  },
  {
   "cell_type": "code",
   "execution_count": 3,
   "outputs": [
    {
     "data": {
      "text/plain": "            Values\n2022-01-01  112.00\n2022-01-02  118.00\n2022-01-03  132.00\n2022-01-04  129.00\n2022-01-05  121.00\n...            ...\n2022-05-20  606.00\n2022-05-21  508.00\n2022-05-22  461.00\n2022-05-23  390.00\n2022-05-24  432.00\n\n[144 rows x 1 columns]",
      "text/html": "<div>\n<style scoped>\n    .dataframe tbody tr th:only-of-type {\n        vertical-align: middle;\n    }\n\n    .dataframe tbody tr th {\n        vertical-align: top;\n    }\n\n    .dataframe thead th {\n        text-align: right;\n    }\n</style>\n<table border=\"1\" class=\"dataframe\">\n  <thead>\n    <tr style=\"text-align: right;\">\n      <th></th>\n      <th>Values</th>\n    </tr>\n  </thead>\n  <tbody>\n    <tr>\n      <th>2022-01-01</th>\n      <td>112.00</td>\n    </tr>\n    <tr>\n      <th>2022-01-02</th>\n      <td>118.00</td>\n    </tr>\n    <tr>\n      <th>2022-01-03</th>\n      <td>132.00</td>\n    </tr>\n    <tr>\n      <th>2022-01-04</th>\n      <td>129.00</td>\n    </tr>\n    <tr>\n      <th>2022-01-05</th>\n      <td>121.00</td>\n    </tr>\n    <tr>\n      <th>...</th>\n      <td>...</td>\n    </tr>\n    <tr>\n      <th>2022-05-20</th>\n      <td>606.00</td>\n    </tr>\n    <tr>\n      <th>2022-05-21</th>\n      <td>508.00</td>\n    </tr>\n    <tr>\n      <th>2022-05-22</th>\n      <td>461.00</td>\n    </tr>\n    <tr>\n      <th>2022-05-23</th>\n      <td>390.00</td>\n    </tr>\n    <tr>\n      <th>2022-05-24</th>\n      <td>432.00</td>\n    </tr>\n  </tbody>\n</table>\n<p>144 rows × 1 columns</p>\n</div>"
     },
     "execution_count": 3,
     "metadata": {},
     "output_type": "execute_result"
    }
   ],
   "source": [
    "data"
   ],
   "metadata": {
    "collapsed": false
   }
  },
  {
   "cell_type": "code",
   "execution_count": 11,
   "outputs": [],
   "source": [
    "#To read your own dataset;\n",
    "#dataPrepration.read_data(\"../datasets/winequality-white.csv\",delimiter=\";\")"
   ],
   "metadata": {
    "collapsed": false
   }
  },
  {
   "cell_type": "code",
   "execution_count": 6,
   "outputs": [
    {
     "name": "stdout",
     "output_type": "stream",
     "text": [
      "Parameters created\n",
      "The model training process has been started.\n"
     ]
    },
    {
     "name": "stderr",
     "output_type": "stream",
     "text": [
      "100%|██████████| 400/400 [00:19<00:00, 20.96it/s]\n"
     ]
    },
    {
     "name": "stdout",
     "output_type": "stream",
     "text": [
      "Model training process completed\n",
      "The model is being saved\n"
     ]
    }
   ],
   "source": [
    "\"\"\"\n",
    "Model training operations are performed with different parameters.\n",
    "\"\"\"\n",
    "\n",
    "forecast,evaluate =  get_result(dataFrame=data,\n",
    "                                y=\"Values\",\n",
    "                                modelName=\"ARIMA\",\n",
    "                                dateColumn=False,\n",
    "                                process=False,\n",
    "                                forecastNumber=24,\n",
    "                                metric=[\"mape\",\"mae\",\"mse\"],\n",
    "                                #epoch=1,\n",
    "                                forecastingStartDate=False,\n",
    "                                verbose=1\n",
    "                                )"
   ],
   "metadata": {
    "collapsed": false
   }
  },
  {
   "cell_type": "code",
   "execution_count": 7,
   "outputs": [
    {
     "data": {
      "text/plain": "            Predicts  Actual\n2022-03-18    180.74  270.00\n2022-03-19    177.56  315.00\n2022-03-20    180.93  364.00\n2022-03-21    178.63  347.00\n2022-03-22    180.03  312.00\n2022-03-23    179.21  274.00\n2022-03-24    179.68  237.00\n2022-03-25    179.41  278.00\n2022-03-26    179.57  284.00\n2022-03-27    179.48  277.00\n2022-03-28    179.53  317.00\n2022-03-29    179.50  313.00\n2022-03-30    179.52  318.00\n2022-03-31    179.51  374.00\n2022-04-01    179.51  413.00\n2022-04-02    179.51  405.00\n2022-04-03    179.51  355.00\n2022-04-04    179.51  306.00\n2022-04-05    179.51  271.00\n2022-04-06    179.51  306.00\n2022-04-07    179.51  315.00\n2022-04-08    179.51  301.00\n2022-04-09    179.51  356.00\n2022-04-10    179.51  348.00",
      "text/html": "<div>\n<style scoped>\n    .dataframe tbody tr th:only-of-type {\n        vertical-align: middle;\n    }\n\n    .dataframe tbody tr th {\n        vertical-align: top;\n    }\n\n    .dataframe thead th {\n        text-align: right;\n    }\n</style>\n<table border=\"1\" class=\"dataframe\">\n  <thead>\n    <tr style=\"text-align: right;\">\n      <th></th>\n      <th>Predicts</th>\n      <th>Actual</th>\n    </tr>\n  </thead>\n  <tbody>\n    <tr>\n      <th>2022-03-18</th>\n      <td>180.74</td>\n      <td>270.00</td>\n    </tr>\n    <tr>\n      <th>2022-03-19</th>\n      <td>177.56</td>\n      <td>315.00</td>\n    </tr>\n    <tr>\n      <th>2022-03-20</th>\n      <td>180.93</td>\n      <td>364.00</td>\n    </tr>\n    <tr>\n      <th>2022-03-21</th>\n      <td>178.63</td>\n      <td>347.00</td>\n    </tr>\n    <tr>\n      <th>2022-03-22</th>\n      <td>180.03</td>\n      <td>312.00</td>\n    </tr>\n    <tr>\n      <th>2022-03-23</th>\n      <td>179.21</td>\n      <td>274.00</td>\n    </tr>\n    <tr>\n      <th>2022-03-24</th>\n      <td>179.68</td>\n      <td>237.00</td>\n    </tr>\n    <tr>\n      <th>2022-03-25</th>\n      <td>179.41</td>\n      <td>278.00</td>\n    </tr>\n    <tr>\n      <th>2022-03-26</th>\n      <td>179.57</td>\n      <td>284.00</td>\n    </tr>\n    <tr>\n      <th>2022-03-27</th>\n      <td>179.48</td>\n      <td>277.00</td>\n    </tr>\n    <tr>\n      <th>2022-03-28</th>\n      <td>179.53</td>\n      <td>317.00</td>\n    </tr>\n    <tr>\n      <th>2022-03-29</th>\n      <td>179.50</td>\n      <td>313.00</td>\n    </tr>\n    <tr>\n      <th>2022-03-30</th>\n      <td>179.52</td>\n      <td>318.00</td>\n    </tr>\n    <tr>\n      <th>2022-03-31</th>\n      <td>179.51</td>\n      <td>374.00</td>\n    </tr>\n    <tr>\n      <th>2022-04-01</th>\n      <td>179.51</td>\n      <td>413.00</td>\n    </tr>\n    <tr>\n      <th>2022-04-02</th>\n      <td>179.51</td>\n      <td>405.00</td>\n    </tr>\n    <tr>\n      <th>2022-04-03</th>\n      <td>179.51</td>\n      <td>355.00</td>\n    </tr>\n    <tr>\n      <th>2022-04-04</th>\n      <td>179.51</td>\n      <td>306.00</td>\n    </tr>\n    <tr>\n      <th>2022-04-05</th>\n      <td>179.51</td>\n      <td>271.00</td>\n    </tr>\n    <tr>\n      <th>2022-04-06</th>\n      <td>179.51</td>\n      <td>306.00</td>\n    </tr>\n    <tr>\n      <th>2022-04-07</th>\n      <td>179.51</td>\n      <td>315.00</td>\n    </tr>\n    <tr>\n      <th>2022-04-08</th>\n      <td>179.51</td>\n      <td>301.00</td>\n    </tr>\n    <tr>\n      <th>2022-04-09</th>\n      <td>179.51</td>\n      <td>356.00</td>\n    </tr>\n    <tr>\n      <th>2022-04-10</th>\n      <td>179.51</td>\n      <td>348.00</td>\n    </tr>\n  </tbody>\n</table>\n</div>"
     },
     "execution_count": 7,
     "metadata": {},
     "output_type": "execute_result"
    }
   ],
   "source": [
    "forecast"
   ],
   "metadata": {
    "collapsed": false
   }
  },
  {
   "cell_type": "code",
   "execution_count": 8,
   "outputs": [
    {
     "data": {
      "text/plain": "{'mean_absolute_percentage_error': 42.710182475767674,\n 'mean_absolute_error': 139.4839616322146,\n 'mean_squared_error': 21310.64119349639}"
     },
     "execution_count": 8,
     "metadata": {},
     "output_type": "execute_result"
    }
   ],
   "source": [
    "evaluate"
   ],
   "metadata": {
    "collapsed": false
   }
  },
  {
   "cell_type": "code",
   "execution_count": 4,
   "outputs": [
    {
     "data": {
      "text/plain": "  0%|          | 0/8 [00:00<?, ?it/s]",
      "application/vnd.jupyter.widget-view+json": {
       "version_major": 2,
       "version_minor": 0,
       "model_id": "0c5e2d46f06841029987bd391a5b728c"
      },
      "application/json": {
       "n": 0,
       "total": 8,
       "elapsed": 0.008925199508666992,
       "ncols": null,
       "nrows": null,
       "prefix": "",
       "ascii": false,
       "unit": "it",
       "unit_scale": false,
       "rate": null,
       "bar_format": null,
       "postfix": null,
       "unit_divisor": 1000,
       "initial": 0,
       "colour": null
      }
     },
     "metadata": {},
     "output_type": "display_data"
    },
    {
     "name": "stderr",
     "output_type": "stream",
     "text": [
      "2023-01-08 10:11:54.678872: I tensorflow/core/common_runtime/pluggable_device/pluggable_device_factory.cc:306] Could not identify NUMA node of platform GPU ID 0, defaulting to 0. Your kernel may not have been built with NUMA support.\n",
      "2023-01-08 10:11:54.679035: I tensorflow/core/common_runtime/pluggable_device/pluggable_device_factory.cc:272] Created TensorFlow device (/job:localhost/replica:0/task:0/device:GPU:0 with 0 MB memory) -> physical PluggableDevice (device: 0, name: METAL, pci bus id: <undefined>)\n"
     ]
    },
    {
     "name": "stdout",
     "output_type": "stream",
     "text": [
      "Metal device set to: Apple M1 Pro\n",
      "Parameters created\n",
      "WARNING:tensorflow:Layer gru will not use cuDNN kernels since it doesn't meet the criteria. It will use a generic GPU kernel as fallback when running on GPU.\n",
      "WARNING:tensorflow:Layer gru_1 will not use cuDNN kernels since it doesn't meet the criteria. It will use a generic GPU kernel as fallback when running on GPU.\n",
      "Model: \"model\"\n",
      "__________________________________________________________________________________________________\n",
      " Layer (type)                   Output Shape         Param #     Connected to                     \n",
      "==================================================================================================\n",
      " input_1 (InputLayer)           [(None, 24, 1)]      0           []                               \n",
      "                                                                                                  \n",
      " reshape (Reshape)              (None, 24, 1, 1)     0           ['input_1[0][0]']                \n",
      "                                                                                                  \n",
      " conv2d (Conv2D)                (None, 19, 1, 100)   700         ['reshape[0][0]']                \n",
      "                                                                                                  \n",
      " dropout (Dropout)              (None, 19, 1, 100)   0           ['conv2d[0][0]']                 \n",
      "                                                                                                  \n",
      " reshape_1 (Reshape)            (None, 19, 100)      0           ['dropout[0][0]']                \n",
      "                                                                                                  \n",
      " pre_skip_trans (PreSkipTrans)  (None, 1, 100)       0           ['reshape_1[0][0]']              \n",
      "                                                                                                  \n",
      " gru (GRU)                      [(None, 100),        60600       ['reshape_1[0][0]']              \n",
      "                                 (None, 100)]                                                     \n",
      "                                                                                                  \n",
      " gru_1 (GRU)                    [(None, 5),          1605        ['pre_skip_trans[0][0]']         \n",
      "                                 (None, 5)]                                                       \n",
      "                                                                                                  \n",
      " dropout_1 (Dropout)            (None, 100)          0           ['gru[0][1]']                    \n",
      "                                                                                                  \n",
      " post_skip_trans (PostSkipTrans  (None, 95)          0           ['gru_1[0][1]',                  \n",
      " )                                                                'input_1[0][0]']                \n",
      "                                                                                                  \n",
      " pre_ar_trans (PreARTrans)      (None, 24)           0           ['input_1[0][0]']                \n",
      "                                                                                                  \n",
      " concatenate (Concatenate)      (None, 195)          0           ['dropout_1[0][0]',              \n",
      "                                                                  'post_skip_trans[0][0]']        \n",
      "                                                                                                  \n",
      " flatten_1 (Flatten)            (None, 24)           0           ['pre_ar_trans[0][0]']           \n",
      "                                                                                                  \n",
      " flatten (Flatten)              (None, 195)          0           ['concatenate[0][0]']            \n",
      "                                                                                                  \n",
      " dense_1 (Dense)                (None, 1)            25          ['flatten_1[0][0]']              \n",
      "                                                                                                  \n",
      " dense (Dense)                  (None, 1)            196         ['flatten[0][0]']                \n",
      "                                                                                                  \n",
      " post_ar_trans (PostARTrans)    (None, 1)            0           ['dense_1[0][0]',                \n",
      "                                                                  'input_1[0][0]']                \n",
      "                                                                                                  \n",
      " add (Add)                      (None, 1)            0           ['dense[0][0]',                  \n",
      "                                                                  'post_ar_trans[0][0]']          \n",
      "                                                                                                  \n",
      "==================================================================================================\n",
      "Total params: 63,126\n",
      "Trainable params: 63,126\n",
      "Non-trainable params: 0\n",
      "__________________________________________________________________________________________________\n",
      "The model training process has been started.\n"
     ]
    },
    {
     "name": "stderr",
     "output_type": "stream",
     "text": [
      "2023-01-08 10:11:56.436914: W tensorflow/core/platform/profile_utils/cpu_utils.cc:128] Failed to get CPU frequency: 0 Hz\n",
      "2023-01-08 10:11:56.439458: I tensorflow/core/grappler/optimizers/custom_graph_optimizer_registry.cc:114] Plugin optimizer for device_type GPU is enabled.\n",
      "\n",
      "KeyboardInterrupt\n",
      "\n"
     ]
    }
   ],
   "source": [
    "#The Time Series module helps to create many basic models without using much code and helps to understand which models work better without any parameter adjustments.\n",
    "from perlib.piplines.dpipline import Timeseries\n",
    "pipline = Timeseries(dataFrame=data,\n",
    "                       y=\"Values\",\n",
    "                       dateColumn=False,\n",
    "                       process=False,\n",
    "                       epoch=2,\n",
    "                       forecastNumber= 7,\n",
    "                       models=\"all\")\n",
    "predictions = pipline.fit()"
   ],
   "metadata": {
    "collapsed": false
   }
  },
  {
   "cell_type": "code",
   "execution_count": 8,
   "outputs": [
    {
     "data": {
      "text/plain": "          mean_absolute_percentage_error  mean_absolute_error  \\\nLSTNET                             14.05                67.70   \nLSTM                                7.03                38.28   \nBILSTM                             13.21                68.22   \nCONVLSTM                            9.62                48.06   \nTCN                                12.03                65.44   \nRNN                                11.53                59.33   \nARIMA                              50.18               261.14   \nSARIMA                             10.48                51.25   \n\n          mean_squared_error  \nLSTNET               5990.35  \nLSTM                 2250.69  \nBILSTM               6661.60  \nCONVLSTM             2773.69  \nTCN                  6423.10  \nRNN                  4793.62  \nARIMA               74654.48  \nSARIMA               3238.20  ",
      "text/html": "<div>\n<style scoped>\n    .dataframe tbody tr th:only-of-type {\n        vertical-align: middle;\n    }\n\n    .dataframe tbody tr th {\n        vertical-align: top;\n    }\n\n    .dataframe thead th {\n        text-align: right;\n    }\n</style>\n<table border=\"1\" class=\"dataframe\">\n  <thead>\n    <tr style=\"text-align: right;\">\n      <th></th>\n      <th>mean_absolute_percentage_error</th>\n      <th>mean_absolute_error</th>\n      <th>mean_squared_error</th>\n    </tr>\n  </thead>\n  <tbody>\n    <tr>\n      <th>LSTNET</th>\n      <td>14.05</td>\n      <td>67.70</td>\n      <td>5990.35</td>\n    </tr>\n    <tr>\n      <th>LSTM</th>\n      <td>7.03</td>\n      <td>38.28</td>\n      <td>2250.69</td>\n    </tr>\n    <tr>\n      <th>BILSTM</th>\n      <td>13.21</td>\n      <td>68.22</td>\n      <td>6661.60</td>\n    </tr>\n    <tr>\n      <th>CONVLSTM</th>\n      <td>9.62</td>\n      <td>48.06</td>\n      <td>2773.69</td>\n    </tr>\n    <tr>\n      <th>TCN</th>\n      <td>12.03</td>\n      <td>65.44</td>\n      <td>6423.10</td>\n    </tr>\n    <tr>\n      <th>RNN</th>\n      <td>11.53</td>\n      <td>59.33</td>\n      <td>4793.62</td>\n    </tr>\n    <tr>\n      <th>ARIMA</th>\n      <td>50.18</td>\n      <td>261.14</td>\n      <td>74654.48</td>\n    </tr>\n    <tr>\n      <th>SARIMA</th>\n      <td>10.48</td>\n      <td>51.25</td>\n      <td>3238.20</td>\n    </tr>\n  </tbody>\n</table>\n</div>"
     },
     "execution_count": 8,
     "metadata": {},
     "output_type": "execute_result"
    }
   ],
   "source": [
    "predictions"
   ],
   "metadata": {
    "collapsed": false
   }
  },
  {
   "cell_type": "code",
   "execution_count": 6,
   "outputs": [
    {
     "name": "stdout",
     "output_type": "stream",
     "text": [
      "Skipped Bivariate Analysis: There are less than 2 numeric variables.\n"
     ]
    },
    {
     "data": {
      "text/plain": "\t\tOverview\n\t\t========\nName: Values\nType: numeric\nUnique Values: 118 -> [104.0, 112.0, 114.0, 115.0, 118.0, 119.0, [...]\nMissing Values: None\n\n\t  Summary Statistics\n\t  ------------------\n                             \nNumber of observations 144.00\nAverage                280.30\nStandard Deviation     119.97\nMinimum                104.00\nLower Quartile         180.00\nMedian                 265.50\nUpper Quartile         360.50\nMaximum                622.00\nSkewness                 0.58\nKurtosis                -0.36\n\n\t  Tests for Normality\n\t  -------------------\n                               p-value Conclusion at α = 0.05\nD'Agostino's K-squared test  0.0131981  Unlikely to be normal\nKolmogorov-Smirnov test      0.0000000  Unlikely to be normal\nShapiro-Wilk test            0.0000683  Unlikely to be normal"
     },
     "execution_count": 6,
     "metadata": {},
     "output_type": "execute_result"
    }
   ],
   "source": [
    "\"\"\"\n",
    "It allows you to get summary information about the data.\n",
    "\"\"\"\n",
    "summarize(dataFrame=data)"
   ],
   "metadata": {
    "collapsed": false
   }
  },
  {
   "cell_type": "code",
   "execution_count": 7,
   "outputs": [],
   "source": [],
   "metadata": {
    "collapsed": false
   }
  },
  {
   "cell_type": "code",
   "execution_count": null,
   "outputs": [],
   "source": [
    "\"\"\"\n",
    "To manually create data preparation and preprocessing processes;\n",
    "Each function has a \"mode\" parameter. It returns \"auto\" by default.\n",
    "Otherwise, it will be enough to give the parameter you want.\n",
    "\"\"\"\n",
    "\n",
    "#It automatically performs the necessary preprocessing in the data.\n",
    "data = preprocess.auto(dataFrame=data)\n",
    "\n",
    "#Analyzes and organizes Missing values.\n",
    "data = preprocess.missing_num(dataFrame=data,mode=\"auto\")\n",
    "\n",
    "#Finds outliers in data.\n",
    "data = preprocess.find_outliers(dataFrame=data,mode=\"auto\")\n",
    "\n",
    "#Performs encoding operations\n",
    "data = preprocess.encode_cat(dataFrame=data,mode=\"auto\")\n",
    "\n",
    "#\n",
    "data = preprocess.dublicates(dataFrame=data,mode=\"auto\")\n",
    "\n",
    "#Allows you to select the start and end range for the training process\n",
    "data = dataPrepration.trainingFordate_range(dataFrame=data,dt1=\"2013-01-01\",dt2=\"2022-01-01\")"
   ],
   "metadata": {
    "collapsed": false
   }
  },
  {
   "cell_type": "markdown",
   "source": [
    "Deep Learning create architect"
   ],
   "metadata": {
    "collapsed": false
   }
  },
  {
   "cell_type": "code",
   "execution_count": 4,
   "outputs": [],
   "source": [
    "\"\"\"\n",
    "To build a model manually;\n",
    "\"\"\"\n",
    "\n",
    "#The layer you want to create must contain 'unit', 'activation', 'dropout'.\n",
    "dict_ = {\"Layer\": {\"unit\":[150,100]\n",
    "                  ,\"activation\":[\"tanh\",\"tanh\"],\n",
    "                    \"dropout\"  :[0.2,0.2]\n",
    "                  }}\n",
    "\n",
    "req_info.layers = dict_\n",
    "req_info.modelname = \"lstm\"\n",
    "req_info.epoch  =  2\n",
    "req_info.targetCol = \"Values\"\n",
    "req_info.forecastingStartDate = False\n",
    "req_info.period = \"daily\"\n",
    "req_info.forecastNumber = 24\n",
    "req_info.scaler = \"standard\""
   ],
   "metadata": {
    "collapsed": false
   }
  },
  {
   "cell_type": "code",
   "execution_count": 5,
   "outputs": [
    {
     "name": "stdout",
     "output_type": "stream",
     "text": [
      "Metal device set to: Apple M1 Pro\n"
     ]
    },
    {
     "name": "stderr",
     "output_type": "stream",
     "text": [
      "2023-01-08 10:01:58.707082: I tensorflow/core/common_runtime/pluggable_device/pluggable_device_factory.cc:306] Could not identify NUMA node of platform GPU ID 0, defaulting to 0. Your kernel may not have been built with NUMA support.\n",
      "2023-01-08 10:01:58.707319: I tensorflow/core/common_runtime/pluggable_device/pluggable_device_factory.cc:272] Created TensorFlow device (/job:localhost/replica:0/task:0/device:GPU:0 with 0 MB memory) -> physical PluggableDevice (device: 0, name: METAL, pci bus id: <undefined>)\n"
     ]
    }
   ],
   "source": [
    "from perlib.core.models.dmodels import models\n",
    "s = models(req_info)"
   ],
   "metadata": {
    "collapsed": false
   }
  },
  {
   "cell_type": "code",
   "execution_count": 6,
   "outputs": [
    {
     "name": "stdout",
     "output_type": "stream",
     "text": [
      "Epoch 1/2\n"
     ]
    },
    {
     "name": "stderr",
     "output_type": "stream",
     "text": [
      "2023-01-08 10:02:01.167467: W tensorflow/core/platform/profile_utils/cpu_utils.cc:128] Failed to get CPU frequency: 0 Hz\n",
      "2023-01-08 10:02:01.171930: I tensorflow/core/grappler/optimizers/custom_graph_optimizer_registry.cc:114] Plugin optimizer for device_type GPU is enabled.\n",
      "2023-01-08 10:02:01.322073: I tensorflow/core/grappler/optimizers/custom_graph_optimizer_registry.cc:114] Plugin optimizer for device_type GPU is enabled.\n",
      "2023-01-08 10:02:01.414498: I tensorflow/core/grappler/optimizers/custom_graph_optimizer_registry.cc:114] Plugin optimizer for device_type GPU is enabled.\n",
      "2023-01-08 10:02:01.532727: I tensorflow/core/grappler/optimizers/custom_graph_optimizer_registry.cc:114] Plugin optimizer for device_type GPU is enabled.\n",
      "2023-01-08 10:02:01.689648: I tensorflow/core/grappler/optimizers/custom_graph_optimizer_registry.cc:114] Plugin optimizer for device_type GPU is enabled.\n"
     ]
    },
    {
     "ename": "KeyboardInterrupt",
     "evalue": "",
     "output_type": "error",
     "traceback": [
      "\u001B[0;31m---------------------------------------------------------------------------\u001B[0m",
      "\u001B[0;31mKeyboardInterrupt\u001B[0m                         Traceback (most recent call last)",
      "Cell \u001B[0;32mIn [6], line 3\u001B[0m\n\u001B[1;32m      1\u001B[0m \u001B[38;5;28;01mfrom\u001B[39;00m \u001B[38;5;21;01mperlib\u001B[39;00m\u001B[38;5;21;01m.\u001B[39;00m\u001B[38;5;21;01mcore\u001B[39;00m\u001B[38;5;21;01m.\u001B[39;00m\u001B[38;5;21;01mtrain\u001B[39;00m \u001B[38;5;28;01mimport\u001B[39;00m dTrain\n\u001B[1;32m      2\u001B[0m train \u001B[38;5;241m=\u001B[39m dTrain(dataFrame\u001B[38;5;241m=\u001B[39mdata,\u001B[38;5;28mobject\u001B[39m\u001B[38;5;241m=\u001B[39ms)\n\u001B[0;32m----> 3\u001B[0m \u001B[43mtrain\u001B[49m\u001B[38;5;241;43m.\u001B[39;49m\u001B[43mfit\u001B[49m\u001B[43m(\u001B[49m\u001B[43m)\u001B[49m\n",
      "File \u001B[0;32m~/Documents/Frameworks/AI/src/perlib/core/train.py:332\u001B[0m, in \u001B[0;36mdTrain.fit\u001B[0;34m(self)\u001B[0m\n\u001B[1;32m    328\u001B[0m model_name \u001B[38;5;241m=\u001B[39m \u001B[38;5;124mf\u001B[39m\u001B[38;5;124m'\u001B[39m\u001B[38;5;124mData-\u001B[39m\u001B[38;5;132;01m{\u001B[39;00m\u001B[38;5;28mself\u001B[39m\u001B[38;5;241m.\u001B[39mget_name_model()\u001B[38;5;132;01m}\u001B[39;00m\u001B[38;5;124m-\u001B[39m\u001B[38;5;132;01m{\u001B[39;00mdatetime\u001B[38;5;241m.\u001B[39mnow()\u001B[38;5;241m.\u001B[39mstrftime(\u001B[38;5;124m\"\u001B[39m\u001B[38;5;124m%\u001B[39m\u001B[38;5;124mY-\u001B[39m\u001B[38;5;124m%\u001B[39m\u001B[38;5;124mm-\u001B[39m\u001B[38;5;132;01m%d\u001B[39;00m\u001B[38;5;124m-\u001B[39m\u001B[38;5;124m%\u001B[39m\u001B[38;5;124mH-\u001B[39m\u001B[38;5;124m%\u001B[39m\u001B[38;5;124mM-\u001B[39m\u001B[38;5;124m%\u001B[39m\u001B[38;5;124mS\u001B[39m\u001B[38;5;124m\"\u001B[39m)\u001B[38;5;132;01m}\u001B[39;00m\u001B[38;5;124m'\u001B[39m\n\u001B[1;32m    329\u001B[0m callbacks_list \u001B[38;5;241m=\u001B[39m [tf\u001B[38;5;241m.\u001B[39mkeras\u001B[38;5;241m.\u001B[39mcallbacks\u001B[38;5;241m.\u001B[39mEarlyStopping(monitor\u001B[38;5;241m=\u001B[39m\u001B[38;5;124m'\u001B[39m\u001B[38;5;124mval_loss\u001B[39m\u001B[38;5;124m'\u001B[39m,patience\u001B[38;5;241m=\u001B[39m\u001B[38;5;241m10\u001B[39m,),\n\u001B[1;32m    330\u001B[0m                   tf\u001B[38;5;241m.\u001B[39mkeras\u001B[38;5;241m.\u001B[39mcallbacks\u001B[38;5;241m.\u001B[39mModelCheckpoint(filepath\u001B[38;5;241m=\u001B[39mmodel_name\u001B[38;5;241m+\u001B[39m\u001B[38;5;28mstr\u001B[39m(\u001B[38;5;28mself\u001B[39m\u001B[38;5;241m.\u001B[39m_save_format()), monitor\u001B[38;5;241m=\u001B[39m\u001B[38;5;124m'\u001B[39m\u001B[38;5;124mval_loss\u001B[39m\u001B[38;5;124m'\u001B[39m, mode\u001B[38;5;241m=\u001B[39m\u001B[38;5;124m'\u001B[39m\u001B[38;5;124mmin\u001B[39m\u001B[38;5;124m'\u001B[39m,\n\u001B[1;32m    331\u001B[0m                                                   save_freq\u001B[38;5;241m=\u001B[39m\u001B[38;5;124m'\u001B[39m\u001B[38;5;124mepoch\u001B[39m\u001B[38;5;124m'\u001B[39m, save_best_only\u001B[38;5;241m=\u001B[39m\u001B[38;5;28;01mTrue\u001B[39;00m, )]\n\u001B[0;32m--> 332\u001B[0m \u001B[38;5;28mself\u001B[39m\u001B[38;5;241m.\u001B[39mmodel \u001B[38;5;241m=\u001B[39m  \u001B[38;5;28;43mself\u001B[39;49m\u001B[38;5;241;43m.\u001B[39;49m\u001B[43mmodel\u001B[49m\u001B[38;5;241;43m.\u001B[39;49m\u001B[43mfit\u001B[49m\u001B[43m(\u001B[49m\u001B[38;5;28;43mself\u001B[39;49m\u001B[38;5;241;43m.\u001B[39;49m\u001B[43mtrain_data_multi\u001B[49m\u001B[43m,\u001B[49m\u001B[43m \u001B[49m\u001B[43mbatch_size\u001B[49m\u001B[38;5;241;43m=\u001B[39;49m\u001B[38;5;28;43mself\u001B[39;49m\u001B[38;5;241;43m.\u001B[39;49m\u001B[43mobject\u001B[49m\u001B[38;5;241;43m.\u001B[39;49m\u001B[43mreq_info\u001B[49m\u001B[38;5;241;43m.\u001B[39;49m\u001B[43mbatch_size\u001B[49m\u001B[43m,\u001B[49m\n\u001B[1;32m    333\u001B[0m \u001B[43m                      \u001B[49m\u001B[43msteps_per_epoch\u001B[49m\u001B[43m \u001B[49m\u001B[38;5;241;43m=\u001B[39;49m\u001B[43m \u001B[49m\u001B[38;5;241;43m500\u001B[39;49m\u001B[43m,\u001B[49m\n\u001B[1;32m    334\u001B[0m \u001B[43m                      \u001B[49m\u001B[43mepochs\u001B[49m\u001B[38;5;241;43m=\u001B[39;49m\u001B[38;5;28;43mself\u001B[39;49m\u001B[38;5;241;43m.\u001B[39;49m\u001B[43mobject\u001B[49m\u001B[38;5;241;43m.\u001B[39;49m\u001B[43mreq_info\u001B[49m\u001B[38;5;241;43m.\u001B[39;49m\u001B[43mepoch\u001B[49m\u001B[43m,\u001B[49m\n\u001B[1;32m    335\u001B[0m \u001B[43m                      \u001B[49m\u001B[43mvalidation_data\u001B[49m\u001B[38;5;241;43m=\u001B[39;49m\u001B[38;5;28;43mself\u001B[39;49m\u001B[38;5;241;43m.\u001B[39;49m\u001B[43mval_data_multi\u001B[49m\u001B[43m,\u001B[49m\n\u001B[1;32m    336\u001B[0m \u001B[43m                      \u001B[49m\u001B[43mvalidation_steps\u001B[49m\u001B[38;5;241;43m=\u001B[39;49m\u001B[38;5;241;43m50\u001B[39;49m\u001B[43m,\u001B[49m\n\u001B[1;32m    337\u001B[0m \u001B[43m                      \u001B[49m\u001B[43mverbose\u001B[49m\u001B[38;5;241;43m=\u001B[39;49m\u001B[38;5;28;43mself\u001B[39;49m\u001B[38;5;241;43m.\u001B[39;49m\u001B[43mverbose\u001B[49m\u001B[43m,\u001B[49m\n\u001B[1;32m    338\u001B[0m \u001B[43m                      \u001B[49m\u001B[43mcallbacks\u001B[49m\u001B[43m \u001B[49m\u001B[38;5;241;43m=\u001B[39;49m\u001B[43m \u001B[49m\u001B[43mcallbacks_list\u001B[49m\u001B[43m)\u001B[49m\n\u001B[1;32m    339\u001B[0m \u001B[38;5;28mself\u001B[39m\u001B[38;5;241m.\u001B[39m_save_request_param(name\u001B[38;5;241m=\u001B[39mmodel_name)\n\u001B[1;32m    340\u001B[0m \u001B[38;5;66;03m#self._save_json_model_param(self.model.model,model_name)\u001B[39;00m\n",
      "File \u001B[0;32m~/miniforge3/lib/python3.10/site-packages/keras/utils/traceback_utils.py:64\u001B[0m, in \u001B[0;36mfilter_traceback.<locals>.error_handler\u001B[0;34m(*args, **kwargs)\u001B[0m\n\u001B[1;32m     62\u001B[0m filtered_tb \u001B[38;5;241m=\u001B[39m \u001B[38;5;28;01mNone\u001B[39;00m\n\u001B[1;32m     63\u001B[0m \u001B[38;5;28;01mtry\u001B[39;00m:\n\u001B[0;32m---> 64\u001B[0m   \u001B[38;5;28;01mreturn\u001B[39;00m \u001B[43mfn\u001B[49m\u001B[43m(\u001B[49m\u001B[38;5;241;43m*\u001B[39;49m\u001B[43margs\u001B[49m\u001B[43m,\u001B[49m\u001B[43m \u001B[49m\u001B[38;5;241;43m*\u001B[39;49m\u001B[38;5;241;43m*\u001B[39;49m\u001B[43mkwargs\u001B[49m\u001B[43m)\u001B[49m\n\u001B[1;32m     65\u001B[0m \u001B[38;5;28;01mexcept\u001B[39;00m \u001B[38;5;167;01mException\u001B[39;00m \u001B[38;5;28;01mas\u001B[39;00m e:  \u001B[38;5;66;03m# pylint: disable=broad-except\u001B[39;00m\n\u001B[1;32m     66\u001B[0m   filtered_tb \u001B[38;5;241m=\u001B[39m _process_traceback_frames(e\u001B[38;5;241m.\u001B[39m__traceback__)\n",
      "File \u001B[0;32m~/miniforge3/lib/python3.10/site-packages/keras/engine/training.py:1409\u001B[0m, in \u001B[0;36mModel.fit\u001B[0;34m(self, x, y, batch_size, epochs, verbose, callbacks, validation_split, validation_data, shuffle, class_weight, sample_weight, initial_epoch, steps_per_epoch, validation_steps, validation_batch_size, validation_freq, max_queue_size, workers, use_multiprocessing)\u001B[0m\n\u001B[1;32m   1402\u001B[0m \u001B[38;5;28;01mwith\u001B[39;00m tf\u001B[38;5;241m.\u001B[39mprofiler\u001B[38;5;241m.\u001B[39mexperimental\u001B[38;5;241m.\u001B[39mTrace(\n\u001B[1;32m   1403\u001B[0m     \u001B[38;5;124m'\u001B[39m\u001B[38;5;124mtrain\u001B[39m\u001B[38;5;124m'\u001B[39m,\n\u001B[1;32m   1404\u001B[0m     epoch_num\u001B[38;5;241m=\u001B[39mepoch,\n\u001B[1;32m   1405\u001B[0m     step_num\u001B[38;5;241m=\u001B[39mstep,\n\u001B[1;32m   1406\u001B[0m     batch_size\u001B[38;5;241m=\u001B[39mbatch_size,\n\u001B[1;32m   1407\u001B[0m     _r\u001B[38;5;241m=\u001B[39m\u001B[38;5;241m1\u001B[39m):\n\u001B[1;32m   1408\u001B[0m   callbacks\u001B[38;5;241m.\u001B[39mon_train_batch_begin(step)\n\u001B[0;32m-> 1409\u001B[0m   tmp_logs \u001B[38;5;241m=\u001B[39m \u001B[38;5;28;43mself\u001B[39;49m\u001B[38;5;241;43m.\u001B[39;49m\u001B[43mtrain_function\u001B[49m\u001B[43m(\u001B[49m\u001B[43miterator\u001B[49m\u001B[43m)\u001B[49m\n\u001B[1;32m   1410\u001B[0m   \u001B[38;5;28;01mif\u001B[39;00m data_handler\u001B[38;5;241m.\u001B[39mshould_sync:\n\u001B[1;32m   1411\u001B[0m     context\u001B[38;5;241m.\u001B[39masync_wait()\n",
      "File \u001B[0;32m~/miniforge3/lib/python3.10/site-packages/tensorflow/python/util/traceback_utils.py:150\u001B[0m, in \u001B[0;36mfilter_traceback.<locals>.error_handler\u001B[0;34m(*args, **kwargs)\u001B[0m\n\u001B[1;32m    148\u001B[0m filtered_tb \u001B[38;5;241m=\u001B[39m \u001B[38;5;28;01mNone\u001B[39;00m\n\u001B[1;32m    149\u001B[0m \u001B[38;5;28;01mtry\u001B[39;00m:\n\u001B[0;32m--> 150\u001B[0m   \u001B[38;5;28;01mreturn\u001B[39;00m \u001B[43mfn\u001B[49m\u001B[43m(\u001B[49m\u001B[38;5;241;43m*\u001B[39;49m\u001B[43margs\u001B[49m\u001B[43m,\u001B[49m\u001B[43m \u001B[49m\u001B[38;5;241;43m*\u001B[39;49m\u001B[38;5;241;43m*\u001B[39;49m\u001B[43mkwargs\u001B[49m\u001B[43m)\u001B[49m\n\u001B[1;32m    151\u001B[0m \u001B[38;5;28;01mexcept\u001B[39;00m \u001B[38;5;167;01mException\u001B[39;00m \u001B[38;5;28;01mas\u001B[39;00m e:\n\u001B[1;32m    152\u001B[0m   filtered_tb \u001B[38;5;241m=\u001B[39m _process_traceback_frames(e\u001B[38;5;241m.\u001B[39m__traceback__)\n",
      "File \u001B[0;32m~/miniforge3/lib/python3.10/site-packages/tensorflow/python/eager/def_function.py:915\u001B[0m, in \u001B[0;36mFunction.__call__\u001B[0;34m(self, *args, **kwds)\u001B[0m\n\u001B[1;32m    912\u001B[0m compiler \u001B[38;5;241m=\u001B[39m \u001B[38;5;124m\"\u001B[39m\u001B[38;5;124mxla\u001B[39m\u001B[38;5;124m\"\u001B[39m \u001B[38;5;28;01mif\u001B[39;00m \u001B[38;5;28mself\u001B[39m\u001B[38;5;241m.\u001B[39m_jit_compile \u001B[38;5;28;01melse\u001B[39;00m \u001B[38;5;124m\"\u001B[39m\u001B[38;5;124mnonXla\u001B[39m\u001B[38;5;124m\"\u001B[39m\n\u001B[1;32m    914\u001B[0m \u001B[38;5;28;01mwith\u001B[39;00m OptionalXlaContext(\u001B[38;5;28mself\u001B[39m\u001B[38;5;241m.\u001B[39m_jit_compile):\n\u001B[0;32m--> 915\u001B[0m   result \u001B[38;5;241m=\u001B[39m \u001B[38;5;28;43mself\u001B[39;49m\u001B[38;5;241;43m.\u001B[39;49m\u001B[43m_call\u001B[49m\u001B[43m(\u001B[49m\u001B[38;5;241;43m*\u001B[39;49m\u001B[43margs\u001B[49m\u001B[43m,\u001B[49m\u001B[43m \u001B[49m\u001B[38;5;241;43m*\u001B[39;49m\u001B[38;5;241;43m*\u001B[39;49m\u001B[43mkwds\u001B[49m\u001B[43m)\u001B[49m\n\u001B[1;32m    917\u001B[0m new_tracing_count \u001B[38;5;241m=\u001B[39m \u001B[38;5;28mself\u001B[39m\u001B[38;5;241m.\u001B[39mexperimental_get_tracing_count()\n\u001B[1;32m    918\u001B[0m without_tracing \u001B[38;5;241m=\u001B[39m (tracing_count \u001B[38;5;241m==\u001B[39m new_tracing_count)\n",
      "File \u001B[0;32m~/miniforge3/lib/python3.10/site-packages/tensorflow/python/eager/def_function.py:980\u001B[0m, in \u001B[0;36mFunction._call\u001B[0;34m(self, *args, **kwds)\u001B[0m\n\u001B[1;32m    976\u001B[0m     \u001B[38;5;28;01mpass\u001B[39;00m  \u001B[38;5;66;03m# Fall through to cond-based initialization.\u001B[39;00m\n\u001B[1;32m    977\u001B[0m   \u001B[38;5;28;01melse\u001B[39;00m:\n\u001B[1;32m    978\u001B[0m     \u001B[38;5;66;03m# Lifting succeeded, so variables are initialized and we can run the\u001B[39;00m\n\u001B[1;32m    979\u001B[0m     \u001B[38;5;66;03m# stateless function.\u001B[39;00m\n\u001B[0;32m--> 980\u001B[0m     \u001B[38;5;28;01mreturn\u001B[39;00m \u001B[38;5;28;43mself\u001B[39;49m\u001B[38;5;241;43m.\u001B[39;49m\u001B[43m_stateless_fn\u001B[49m\u001B[43m(\u001B[49m\u001B[38;5;241;43m*\u001B[39;49m\u001B[43margs\u001B[49m\u001B[43m,\u001B[49m\u001B[43m \u001B[49m\u001B[38;5;241;43m*\u001B[39;49m\u001B[38;5;241;43m*\u001B[39;49m\u001B[43mkwds\u001B[49m\u001B[43m)\u001B[49m\n\u001B[1;32m    981\u001B[0m \u001B[38;5;28;01melse\u001B[39;00m:\n\u001B[1;32m    982\u001B[0m   _, _, filtered_flat_args \u001B[38;5;241m=\u001B[39m (\n\u001B[1;32m    983\u001B[0m       \u001B[38;5;28mself\u001B[39m\u001B[38;5;241m.\u001B[39m_stateful_fn\u001B[38;5;241m.\u001B[39m_function_spec\u001B[38;5;241m.\u001B[39mcanonicalize_function_inputs(  \u001B[38;5;66;03m# pylint: disable=protected-access\u001B[39;00m\n\u001B[1;32m    984\u001B[0m           \u001B[38;5;241m*\u001B[39margs, \u001B[38;5;241m*\u001B[39m\u001B[38;5;241m*\u001B[39mkwds))\n",
      "File \u001B[0;32m~/miniforge3/lib/python3.10/site-packages/tensorflow/python/eager/function.py:2496\u001B[0m, in \u001B[0;36mFunction.__call__\u001B[0;34m(self, *args, **kwargs)\u001B[0m\n\u001B[1;32m   2493\u001B[0m \u001B[38;5;28;01mwith\u001B[39;00m \u001B[38;5;28mself\u001B[39m\u001B[38;5;241m.\u001B[39m_lock:\n\u001B[1;32m   2494\u001B[0m   (graph_function,\n\u001B[1;32m   2495\u001B[0m    filtered_flat_args) \u001B[38;5;241m=\u001B[39m \u001B[38;5;28mself\u001B[39m\u001B[38;5;241m.\u001B[39m_maybe_define_function(args, kwargs)\n\u001B[0;32m-> 2496\u001B[0m \u001B[38;5;28;01mreturn\u001B[39;00m \u001B[43mgraph_function\u001B[49m\u001B[38;5;241;43m.\u001B[39;49m\u001B[43m_call_flat\u001B[49m\u001B[43m(\u001B[49m\n\u001B[1;32m   2497\u001B[0m \u001B[43m    \u001B[49m\u001B[43mfiltered_flat_args\u001B[49m\u001B[43m,\u001B[49m\u001B[43m \u001B[49m\u001B[43mcaptured_inputs\u001B[49m\u001B[38;5;241;43m=\u001B[39;49m\u001B[43mgraph_function\u001B[49m\u001B[38;5;241;43m.\u001B[39;49m\u001B[43mcaptured_inputs\u001B[49m\u001B[43m)\u001B[49m\n",
      "File \u001B[0;32m~/miniforge3/lib/python3.10/site-packages/tensorflow/python/eager/function.py:1862\u001B[0m, in \u001B[0;36mConcreteFunction._call_flat\u001B[0;34m(self, args, captured_inputs, cancellation_manager)\u001B[0m\n\u001B[1;32m   1858\u001B[0m possible_gradient_type \u001B[38;5;241m=\u001B[39m gradients_util\u001B[38;5;241m.\u001B[39mPossibleTapeGradientTypes(args)\n\u001B[1;32m   1859\u001B[0m \u001B[38;5;28;01mif\u001B[39;00m (possible_gradient_type \u001B[38;5;241m==\u001B[39m gradients_util\u001B[38;5;241m.\u001B[39mPOSSIBLE_GRADIENT_TYPES_NONE\n\u001B[1;32m   1860\u001B[0m     \u001B[38;5;129;01mand\u001B[39;00m executing_eagerly):\n\u001B[1;32m   1861\u001B[0m   \u001B[38;5;66;03m# No tape is watching; skip to running the function.\u001B[39;00m\n\u001B[0;32m-> 1862\u001B[0m   \u001B[38;5;28;01mreturn\u001B[39;00m \u001B[38;5;28mself\u001B[39m\u001B[38;5;241m.\u001B[39m_build_call_outputs(\u001B[38;5;28;43mself\u001B[39;49m\u001B[38;5;241;43m.\u001B[39;49m\u001B[43m_inference_function\u001B[49m\u001B[38;5;241;43m.\u001B[39;49m\u001B[43mcall\u001B[49m\u001B[43m(\u001B[49m\n\u001B[1;32m   1863\u001B[0m \u001B[43m      \u001B[49m\u001B[43mctx\u001B[49m\u001B[43m,\u001B[49m\u001B[43m \u001B[49m\u001B[43margs\u001B[49m\u001B[43m,\u001B[49m\u001B[43m \u001B[49m\u001B[43mcancellation_manager\u001B[49m\u001B[38;5;241;43m=\u001B[39;49m\u001B[43mcancellation_manager\u001B[49m\u001B[43m)\u001B[49m)\n\u001B[1;32m   1864\u001B[0m forward_backward \u001B[38;5;241m=\u001B[39m \u001B[38;5;28mself\u001B[39m\u001B[38;5;241m.\u001B[39m_select_forward_and_backward_functions(\n\u001B[1;32m   1865\u001B[0m     args,\n\u001B[1;32m   1866\u001B[0m     possible_gradient_type,\n\u001B[1;32m   1867\u001B[0m     executing_eagerly)\n\u001B[1;32m   1868\u001B[0m forward_function, args_with_tangents \u001B[38;5;241m=\u001B[39m forward_backward\u001B[38;5;241m.\u001B[39mforward()\n",
      "File \u001B[0;32m~/miniforge3/lib/python3.10/site-packages/tensorflow/python/eager/function.py:499\u001B[0m, in \u001B[0;36m_EagerDefinedFunction.call\u001B[0;34m(self, ctx, args, cancellation_manager)\u001B[0m\n\u001B[1;32m    497\u001B[0m \u001B[38;5;28;01mwith\u001B[39;00m _InterpolateFunctionError(\u001B[38;5;28mself\u001B[39m):\n\u001B[1;32m    498\u001B[0m   \u001B[38;5;28;01mif\u001B[39;00m cancellation_manager \u001B[38;5;129;01mis\u001B[39;00m \u001B[38;5;28;01mNone\u001B[39;00m:\n\u001B[0;32m--> 499\u001B[0m     outputs \u001B[38;5;241m=\u001B[39m \u001B[43mexecute\u001B[49m\u001B[38;5;241;43m.\u001B[39;49m\u001B[43mexecute\u001B[49m\u001B[43m(\u001B[49m\n\u001B[1;32m    500\u001B[0m \u001B[43m        \u001B[49m\u001B[38;5;28;43mstr\u001B[39;49m\u001B[43m(\u001B[49m\u001B[38;5;28;43mself\u001B[39;49m\u001B[38;5;241;43m.\u001B[39;49m\u001B[43msignature\u001B[49m\u001B[38;5;241;43m.\u001B[39;49m\u001B[43mname\u001B[49m\u001B[43m)\u001B[49m\u001B[43m,\u001B[49m\n\u001B[1;32m    501\u001B[0m \u001B[43m        \u001B[49m\u001B[43mnum_outputs\u001B[49m\u001B[38;5;241;43m=\u001B[39;49m\u001B[38;5;28;43mself\u001B[39;49m\u001B[38;5;241;43m.\u001B[39;49m\u001B[43m_num_outputs\u001B[49m\u001B[43m,\u001B[49m\n\u001B[1;32m    502\u001B[0m \u001B[43m        \u001B[49m\u001B[43minputs\u001B[49m\u001B[38;5;241;43m=\u001B[39;49m\u001B[43margs\u001B[49m\u001B[43m,\u001B[49m\n\u001B[1;32m    503\u001B[0m \u001B[43m        \u001B[49m\u001B[43mattrs\u001B[49m\u001B[38;5;241;43m=\u001B[39;49m\u001B[43mattrs\u001B[49m\u001B[43m,\u001B[49m\n\u001B[1;32m    504\u001B[0m \u001B[43m        \u001B[49m\u001B[43mctx\u001B[49m\u001B[38;5;241;43m=\u001B[39;49m\u001B[43mctx\u001B[49m\u001B[43m)\u001B[49m\n\u001B[1;32m    505\u001B[0m   \u001B[38;5;28;01melse\u001B[39;00m:\n\u001B[1;32m    506\u001B[0m     outputs \u001B[38;5;241m=\u001B[39m execute\u001B[38;5;241m.\u001B[39mexecute_with_cancellation(\n\u001B[1;32m    507\u001B[0m         \u001B[38;5;28mstr\u001B[39m(\u001B[38;5;28mself\u001B[39m\u001B[38;5;241m.\u001B[39msignature\u001B[38;5;241m.\u001B[39mname),\n\u001B[1;32m    508\u001B[0m         num_outputs\u001B[38;5;241m=\u001B[39m\u001B[38;5;28mself\u001B[39m\u001B[38;5;241m.\u001B[39m_num_outputs,\n\u001B[0;32m   (...)\u001B[0m\n\u001B[1;32m    511\u001B[0m         ctx\u001B[38;5;241m=\u001B[39mctx,\n\u001B[1;32m    512\u001B[0m         cancellation_manager\u001B[38;5;241m=\u001B[39mcancellation_manager)\n",
      "File \u001B[0;32m~/miniforge3/lib/python3.10/site-packages/tensorflow/python/eager/execute.py:54\u001B[0m, in \u001B[0;36mquick_execute\u001B[0;34m(op_name, num_outputs, inputs, attrs, ctx, name)\u001B[0m\n\u001B[1;32m     52\u001B[0m \u001B[38;5;28;01mtry\u001B[39;00m:\n\u001B[1;32m     53\u001B[0m   ctx\u001B[38;5;241m.\u001B[39mensure_initialized()\n\u001B[0;32m---> 54\u001B[0m   tensors \u001B[38;5;241m=\u001B[39m \u001B[43mpywrap_tfe\u001B[49m\u001B[38;5;241;43m.\u001B[39;49m\u001B[43mTFE_Py_Execute\u001B[49m\u001B[43m(\u001B[49m\u001B[43mctx\u001B[49m\u001B[38;5;241;43m.\u001B[39;49m\u001B[43m_handle\u001B[49m\u001B[43m,\u001B[49m\u001B[43m \u001B[49m\u001B[43mdevice_name\u001B[49m\u001B[43m,\u001B[49m\u001B[43m \u001B[49m\u001B[43mop_name\u001B[49m\u001B[43m,\u001B[49m\n\u001B[1;32m     55\u001B[0m \u001B[43m                                      \u001B[49m\u001B[43minputs\u001B[49m\u001B[43m,\u001B[49m\u001B[43m \u001B[49m\u001B[43mattrs\u001B[49m\u001B[43m,\u001B[49m\u001B[43m \u001B[49m\u001B[43mnum_outputs\u001B[49m\u001B[43m)\u001B[49m\n\u001B[1;32m     56\u001B[0m \u001B[38;5;28;01mexcept\u001B[39;00m core\u001B[38;5;241m.\u001B[39m_NotOkStatusException \u001B[38;5;28;01mas\u001B[39;00m e:\n\u001B[1;32m     57\u001B[0m   \u001B[38;5;28;01mif\u001B[39;00m name \u001B[38;5;129;01mis\u001B[39;00m \u001B[38;5;129;01mnot\u001B[39;00m \u001B[38;5;28;01mNone\u001B[39;00m:\n",
      "\u001B[0;31mKeyboardInterrupt\u001B[0m: "
     ]
    }
   ],
   "source": [
    "from perlib.core.train import dTrain\n",
    "train = dTrain(dataFrame=data,object=s)\n",
    "train.fit()"
   ],
   "metadata": {
    "collapsed": false
   }
  },
  {
   "cell_type": "code",
   "execution_count": 10,
   "outputs": [
    {
     "name": "stdout",
     "output_type": "stream",
     "text": [
      "1/1 [==============================] - 0s 426ms/step\n",
      "1/1 [==============================] - 0s 18ms/step\n"
     ]
    },
    {
     "name": "stderr",
     "output_type": "stream",
     "text": [
      "2023-01-06 09:23:56.143692: I tensorflow/core/grappler/optimizers/custom_graph_optimizer_registry.cc:114] Plugin optimizer for device_type GPU is enabled.\n",
      "2023-01-06 09:23:56.191055: I tensorflow/core/grappler/optimizers/custom_graph_optimizer_registry.cc:114] Plugin optimizer for device_type GPU is enabled.\n",
      "2023-01-06 09:23:56.236973: I tensorflow/core/grappler/optimizers/custom_graph_optimizer_registry.cc:114] Plugin optimizer for device_type GPU is enabled.\n"
     ]
    },
    {
     "name": "stdout",
     "output_type": "stream",
     "text": [
      "1/1 [==============================] - 0s 16ms/step\n",
      "1/1 [==============================] - 0s 16ms/step\n",
      "1/1 [==============================] - 0s 17ms/step\n",
      "1/1 [==============================] - 0s 17ms/step\n",
      "1/1 [==============================] - 0s 16ms/step\n",
      "1/1 [==============================] - 0s 16ms/step\n",
      "1/1 [==============================] - 0s 16ms/step\n",
      "1/1 [==============================] - 0s 16ms/step\n",
      "1/1 [==============================] - 0s 17ms/step\n",
      "1/1 [==============================] - 0s 17ms/step\n",
      "1/1 [==============================] - 0s 17ms/step\n",
      "1/1 [==============================] - 0s 16ms/step\n",
      "1/1 [==============================] - 0s 16ms/step\n",
      "1/1 [==============================] - 0s 16ms/step\n",
      "1/1 [==============================] - 0s 16ms/step\n",
      "1/1 [==============================] - 0s 17ms/step\n",
      "1/1 [==============================] - 0s 16ms/step\n",
      "1/1 [==============================] - 0s 17ms/step\n",
      "1/1 [==============================] - 0s 15ms/step\n",
      "1/1 [==============================] - 0s 16ms/step\n",
      "1/1 [==============================] - 0s 16ms/step\n",
      "1/1 [==============================] - 0s 16ms/step\n"
     ]
    },
    {
     "data": {
      "text/plain": "            Values  Predicts\n2022-05-01  360.00    410.80\n2022-05-02  342.00    412.11\n2022-05-03  406.00    435.25\n2022-05-04  396.00    429.61\n2022-05-05  420.00    453.42\n2022-05-06  472.00    499.69\n2022-05-07  548.00    530.49\n2022-05-08  559.00    499.85\n2022-05-09  463.00    473.45\n2022-05-10  407.00    442.65\n2022-05-11  362.00    409.75\n2022-05-12  405.00    442.47\n2022-05-13  417.00    440.83\n2022-05-14  391.00    449.98\n2022-05-15  419.00    470.30\n2022-05-16  461.00    468.39\n2022-05-17  472.00    504.51\n2022-05-18  535.00    561.73\n2022-05-19  622.00    599.29\n2022-05-20  606.00    565.18\n2022-05-21  508.00    538.06\n2022-05-22  461.00    505.87\n2022-05-23  390.00    464.24\n2022-05-24  432.00    495.49",
      "text/html": "<div>\n<style scoped>\n    .dataframe tbody tr th:only-of-type {\n        vertical-align: middle;\n    }\n\n    .dataframe tbody tr th {\n        vertical-align: top;\n    }\n\n    .dataframe thead th {\n        text-align: right;\n    }\n</style>\n<table border=\"1\" class=\"dataframe\">\n  <thead>\n    <tr style=\"text-align: right;\">\n      <th></th>\n      <th>Values</th>\n      <th>Predicts</th>\n    </tr>\n  </thead>\n  <tbody>\n    <tr>\n      <th>2022-05-01</th>\n      <td>360.00</td>\n      <td>410.80</td>\n    </tr>\n    <tr>\n      <th>2022-05-02</th>\n      <td>342.00</td>\n      <td>412.11</td>\n    </tr>\n    <tr>\n      <th>2022-05-03</th>\n      <td>406.00</td>\n      <td>435.25</td>\n    </tr>\n    <tr>\n      <th>2022-05-04</th>\n      <td>396.00</td>\n      <td>429.61</td>\n    </tr>\n    <tr>\n      <th>2022-05-05</th>\n      <td>420.00</td>\n      <td>453.42</td>\n    </tr>\n    <tr>\n      <th>2022-05-06</th>\n      <td>472.00</td>\n      <td>499.69</td>\n    </tr>\n    <tr>\n      <th>2022-05-07</th>\n      <td>548.00</td>\n      <td>530.49</td>\n    </tr>\n    <tr>\n      <th>2022-05-08</th>\n      <td>559.00</td>\n      <td>499.85</td>\n    </tr>\n    <tr>\n      <th>2022-05-09</th>\n      <td>463.00</td>\n      <td>473.45</td>\n    </tr>\n    <tr>\n      <th>2022-05-10</th>\n      <td>407.00</td>\n      <td>442.65</td>\n    </tr>\n    <tr>\n      <th>2022-05-11</th>\n      <td>362.00</td>\n      <td>409.75</td>\n    </tr>\n    <tr>\n      <th>2022-05-12</th>\n      <td>405.00</td>\n      <td>442.47</td>\n    </tr>\n    <tr>\n      <th>2022-05-13</th>\n      <td>417.00</td>\n      <td>440.83</td>\n    </tr>\n    <tr>\n      <th>2022-05-14</th>\n      <td>391.00</td>\n      <td>449.98</td>\n    </tr>\n    <tr>\n      <th>2022-05-15</th>\n      <td>419.00</td>\n      <td>470.30</td>\n    </tr>\n    <tr>\n      <th>2022-05-16</th>\n      <td>461.00</td>\n      <td>468.39</td>\n    </tr>\n    <tr>\n      <th>2022-05-17</th>\n      <td>472.00</td>\n      <td>504.51</td>\n    </tr>\n    <tr>\n      <th>2022-05-18</th>\n      <td>535.00</td>\n      <td>561.73</td>\n    </tr>\n    <tr>\n      <th>2022-05-19</th>\n      <td>622.00</td>\n      <td>599.29</td>\n    </tr>\n    <tr>\n      <th>2022-05-20</th>\n      <td>606.00</td>\n      <td>565.18</td>\n    </tr>\n    <tr>\n      <th>2022-05-21</th>\n      <td>508.00</td>\n      <td>538.06</td>\n    </tr>\n    <tr>\n      <th>2022-05-22</th>\n      <td>461.00</td>\n      <td>505.87</td>\n    </tr>\n    <tr>\n      <th>2022-05-23</th>\n      <td>390.00</td>\n      <td>464.24</td>\n    </tr>\n    <tr>\n      <th>2022-05-24</th>\n      <td>432.00</td>\n      <td>495.49</td>\n    </tr>\n  </tbody>\n</table>\n</div>"
     },
     "execution_count": 10,
     "metadata": {},
     "output_type": "execute_result"
    }
   ],
   "source": [
    "# models are saved in the ./models folder. Do not forget to give the correct model name you have trained.\n",
    "from perlib.core.tester import dTester\n",
    "t = dTester(dataFrame=data,object=s,path=\"Data-lstm-2023-01-06-09-22-27.h5\",metric=[\"mape\",\"mae\"])\n",
    "t.forecast()"
   ],
   "metadata": {
    "collapsed": false
   }
  },
  {
   "cell_type": "code",
   "execution_count": 11,
   "outputs": [
    {
     "data": {
      "text/plain": "{'mean_absolute_percentage_error': 9.069431906163734,\n 'mean_absolute_error': 38.74221547444662}"
     },
     "execution_count": 11,
     "metadata": {},
     "output_type": "execute_result"
    }
   ],
   "source": [
    "t.evaluate()"
   ],
   "metadata": {
    "collapsed": false
   }
  },
  {
   "cell_type": "code",
   "execution_count": null,
   "outputs": [],
   "source": [],
   "metadata": {
    "collapsed": false
   }
  }
 ],
 "metadata": {
  "kernelspec": {
   "display_name": "Python 3",
   "language": "python",
   "name": "python3"
  },
  "language_info": {
   "codemirror_mode": {
    "name": "ipython",
    "version": 2
   },
   "file_extension": ".py",
   "mimetype": "text/x-python",
   "name": "python",
   "nbconvert_exporter": "python",
   "pygments_lexer": "ipython2",
   "version": "2.7.6"
  }
 },
 "nbformat": 4,
 "nbformat_minor": 0
}
