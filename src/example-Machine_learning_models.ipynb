{
 "cells": [
  {
   "cell_type": "code",
   "execution_count": 1,
   "metadata": {
    "collapsed": true
   },
   "outputs": [],
   "source": [
    "from perlib.forecaster import *\n",
    "data = dataPrepration.read_data(path=\"./perlib/datasets/winequality-white.csv\",delimiter=\";\")"
   ]
  },
  {
   "cell_type": "code",
   "execution_count": 2,
   "outputs": [
    {
     "data": {
      "text/plain": "      fixed acidity  volatile acidity  citric acid  residual sugar  chlorides  \\\n0              7.00              0.27         0.36           20.70       0.04   \n1              6.30              0.30         0.34            1.60       0.05   \n2              8.10              0.28         0.40            6.90       0.05   \n3              7.20              0.23         0.32            8.50       0.06   \n4              7.20              0.23         0.32            8.50       0.06   \n...             ...               ...          ...             ...        ...   \n4893           6.20              0.21         0.29            1.60       0.04   \n4894           6.60              0.32         0.36            8.00       0.05   \n4895           6.50              0.24         0.19            1.20       0.04   \n4896           5.50              0.29         0.30            1.10       0.02   \n4897           6.00              0.21         0.38            0.80       0.02   \n\n      free sulfur dioxide  total sulfur dioxide  density   pH  sulphates  \\\n0                   45.00                170.00     1.00 3.00       0.45   \n1                   14.00                132.00     0.99 3.30       0.49   \n2                   30.00                 97.00     1.00 3.26       0.44   \n3                   47.00                186.00     1.00 3.19       0.40   \n4                   47.00                186.00     1.00 3.19       0.40   \n...                   ...                   ...      ...  ...        ...   \n4893                24.00                 92.00     0.99 3.27       0.50   \n4894                57.00                168.00     0.99 3.15       0.46   \n4895                30.00                111.00     0.99 2.99       0.46   \n4896                20.00                110.00     0.99 3.34       0.38   \n4897                22.00                 98.00     0.99 3.26       0.32   \n\n      alcohol  quality  \n0        8.80        6  \n1        9.50        6  \n2       10.10        6  \n3        9.90        6  \n4        9.90        6  \n...       ...      ...  \n4893    11.20        6  \n4894     9.60        5  \n4895     9.40        6  \n4896    12.80        7  \n4897    11.80        6  \n\n[4898 rows x 12 columns]",
      "text/html": "<div>\n<style scoped>\n    .dataframe tbody tr th:only-of-type {\n        vertical-align: middle;\n    }\n\n    .dataframe tbody tr th {\n        vertical-align: top;\n    }\n\n    .dataframe thead th {\n        text-align: right;\n    }\n</style>\n<table border=\"1\" class=\"dataframe\">\n  <thead>\n    <tr style=\"text-align: right;\">\n      <th></th>\n      <th>fixed acidity</th>\n      <th>volatile acidity</th>\n      <th>citric acid</th>\n      <th>residual sugar</th>\n      <th>chlorides</th>\n      <th>free sulfur dioxide</th>\n      <th>total sulfur dioxide</th>\n      <th>density</th>\n      <th>pH</th>\n      <th>sulphates</th>\n      <th>alcohol</th>\n      <th>quality</th>\n    </tr>\n  </thead>\n  <tbody>\n    <tr>\n      <th>0</th>\n      <td>7.00</td>\n      <td>0.27</td>\n      <td>0.36</td>\n      <td>20.70</td>\n      <td>0.04</td>\n      <td>45.00</td>\n      <td>170.00</td>\n      <td>1.00</td>\n      <td>3.00</td>\n      <td>0.45</td>\n      <td>8.80</td>\n      <td>6</td>\n    </tr>\n    <tr>\n      <th>1</th>\n      <td>6.30</td>\n      <td>0.30</td>\n      <td>0.34</td>\n      <td>1.60</td>\n      <td>0.05</td>\n      <td>14.00</td>\n      <td>132.00</td>\n      <td>0.99</td>\n      <td>3.30</td>\n      <td>0.49</td>\n      <td>9.50</td>\n      <td>6</td>\n    </tr>\n    <tr>\n      <th>2</th>\n      <td>8.10</td>\n      <td>0.28</td>\n      <td>0.40</td>\n      <td>6.90</td>\n      <td>0.05</td>\n      <td>30.00</td>\n      <td>97.00</td>\n      <td>1.00</td>\n      <td>3.26</td>\n      <td>0.44</td>\n      <td>10.10</td>\n      <td>6</td>\n    </tr>\n    <tr>\n      <th>3</th>\n      <td>7.20</td>\n      <td>0.23</td>\n      <td>0.32</td>\n      <td>8.50</td>\n      <td>0.06</td>\n      <td>47.00</td>\n      <td>186.00</td>\n      <td>1.00</td>\n      <td>3.19</td>\n      <td>0.40</td>\n      <td>9.90</td>\n      <td>6</td>\n    </tr>\n    <tr>\n      <th>4</th>\n      <td>7.20</td>\n      <td>0.23</td>\n      <td>0.32</td>\n      <td>8.50</td>\n      <td>0.06</td>\n      <td>47.00</td>\n      <td>186.00</td>\n      <td>1.00</td>\n      <td>3.19</td>\n      <td>0.40</td>\n      <td>9.90</td>\n      <td>6</td>\n    </tr>\n    <tr>\n      <th>...</th>\n      <td>...</td>\n      <td>...</td>\n      <td>...</td>\n      <td>...</td>\n      <td>...</td>\n      <td>...</td>\n      <td>...</td>\n      <td>...</td>\n      <td>...</td>\n      <td>...</td>\n      <td>...</td>\n      <td>...</td>\n    </tr>\n    <tr>\n      <th>4893</th>\n      <td>6.20</td>\n      <td>0.21</td>\n      <td>0.29</td>\n      <td>1.60</td>\n      <td>0.04</td>\n      <td>24.00</td>\n      <td>92.00</td>\n      <td>0.99</td>\n      <td>3.27</td>\n      <td>0.50</td>\n      <td>11.20</td>\n      <td>6</td>\n    </tr>\n    <tr>\n      <th>4894</th>\n      <td>6.60</td>\n      <td>0.32</td>\n      <td>0.36</td>\n      <td>8.00</td>\n      <td>0.05</td>\n      <td>57.00</td>\n      <td>168.00</td>\n      <td>0.99</td>\n      <td>3.15</td>\n      <td>0.46</td>\n      <td>9.60</td>\n      <td>5</td>\n    </tr>\n    <tr>\n      <th>4895</th>\n      <td>6.50</td>\n      <td>0.24</td>\n      <td>0.19</td>\n      <td>1.20</td>\n      <td>0.04</td>\n      <td>30.00</td>\n      <td>111.00</td>\n      <td>0.99</td>\n      <td>2.99</td>\n      <td>0.46</td>\n      <td>9.40</td>\n      <td>6</td>\n    </tr>\n    <tr>\n      <th>4896</th>\n      <td>5.50</td>\n      <td>0.29</td>\n      <td>0.30</td>\n      <td>1.10</td>\n      <td>0.02</td>\n      <td>20.00</td>\n      <td>110.00</td>\n      <td>0.99</td>\n      <td>3.34</td>\n      <td>0.38</td>\n      <td>12.80</td>\n      <td>7</td>\n    </tr>\n    <tr>\n      <th>4897</th>\n      <td>6.00</td>\n      <td>0.21</td>\n      <td>0.38</td>\n      <td>0.80</td>\n      <td>0.02</td>\n      <td>22.00</td>\n      <td>98.00</td>\n      <td>0.99</td>\n      <td>3.26</td>\n      <td>0.32</td>\n      <td>11.80</td>\n      <td>6</td>\n    </tr>\n  </tbody>\n</table>\n<p>4898 rows × 12 columns</p>\n</div>"
     },
     "execution_count": 2,
     "metadata": {},
     "output_type": "execute_result"
    }
   ],
   "source": [
    "data"
   ],
   "metadata": {
    "collapsed": false
   }
  },
  {
   "cell_type": "code",
   "execution_count": 3,
   "outputs": [],
   "source": [
    "#If the \"auto\" parameter is True, train and test operations are performed according to the best result among the \"Regressor\" or \"Classifier\" models. To use models manually, enter the \"auto\" parameter as False.\n",
    "m_info.testsize = .2\n",
    "m_info.y        = \"fixed acidity\"\n",
    "m_info.modelname= \"SVR\"\n",
    "m_info.auto  = False"
   ],
   "metadata": {
    "collapsed": false
   }
  },
  {
   "cell_type": "code",
   "execution_count": 4,
   "outputs": [],
   "source": [
    "from perlib.core.models.mmodels import models\n",
    "m = models(m_info)"
   ],
   "metadata": {
    "collapsed": false
   }
  },
  {
   "cell_type": "code",
   "execution_count": 5,
   "outputs": [],
   "source": [
    "from perlib.core.train import mTrain\n",
    "train = mTrain(dataFrame=data,object=m)"
   ],
   "metadata": {
    "collapsed": false
   }
  },
  {
   "cell_type": "code",
   "execution_count": 6,
   "outputs": [],
   "source": [
    "preds, evaluate = train.predict(metric=[\"mape\",\"mae\"])"
   ],
   "metadata": {
    "collapsed": false
   }
  },
  {
   "cell_type": "code",
   "execution_count": 7,
   "outputs": [
    {
     "data": {
      "text/plain": "     Predicts  Actual\n0        6.75    6.40\n1        7.38    6.60\n2        7.37    7.40\n3        6.95    7.30\n4        6.70    6.70\n..        ...     ...\n975      6.54    6.20\n976      6.54    6.60\n977      7.23    6.50\n978      5.96    5.50\n979      6.47    6.00\n\n[980 rows x 2 columns]",
      "text/html": "<div>\n<style scoped>\n    .dataframe tbody tr th:only-of-type {\n        vertical-align: middle;\n    }\n\n    .dataframe tbody tr th {\n        vertical-align: top;\n    }\n\n    .dataframe thead th {\n        text-align: right;\n    }\n</style>\n<table border=\"1\" class=\"dataframe\">\n  <thead>\n    <tr style=\"text-align: right;\">\n      <th></th>\n      <th>Predicts</th>\n      <th>Actual</th>\n    </tr>\n  </thead>\n  <tbody>\n    <tr>\n      <th>0</th>\n      <td>6.75</td>\n      <td>6.40</td>\n    </tr>\n    <tr>\n      <th>1</th>\n      <td>7.38</td>\n      <td>6.60</td>\n    </tr>\n    <tr>\n      <th>2</th>\n      <td>7.37</td>\n      <td>7.40</td>\n    </tr>\n    <tr>\n      <th>3</th>\n      <td>6.95</td>\n      <td>7.30</td>\n    </tr>\n    <tr>\n      <th>4</th>\n      <td>6.70</td>\n      <td>6.70</td>\n    </tr>\n    <tr>\n      <th>...</th>\n      <td>...</td>\n      <td>...</td>\n    </tr>\n    <tr>\n      <th>975</th>\n      <td>6.54</td>\n      <td>6.20</td>\n    </tr>\n    <tr>\n      <th>976</th>\n      <td>6.54</td>\n      <td>6.60</td>\n    </tr>\n    <tr>\n      <th>977</th>\n      <td>7.23</td>\n      <td>6.50</td>\n    </tr>\n    <tr>\n      <th>978</th>\n      <td>5.96</td>\n      <td>5.50</td>\n    </tr>\n    <tr>\n      <th>979</th>\n      <td>6.47</td>\n      <td>6.00</td>\n    </tr>\n  </tbody>\n</table>\n<p>980 rows × 2 columns</p>\n</div>"
     },
     "execution_count": 7,
     "metadata": {},
     "output_type": "execute_result"
    }
   ],
   "source": [
    "preds"
   ],
   "metadata": {
    "collapsed": false
   }
  },
  {
   "cell_type": "code",
   "execution_count": 8,
   "outputs": [
    {
     "data": {
      "text/plain": "{'mean_absolute_percentage_error': 7.617130491518378,\n 'mean_absolute_error': 0.4646442821796325}"
     },
     "execution_count": 8,
     "metadata": {},
     "output_type": "execute_result"
    }
   ],
   "source": [
    "evaluate"
   ],
   "metadata": {
    "collapsed": false
   }
  },
  {
   "cell_type": "code",
   "execution_count": 10,
   "outputs": [],
   "source": [
    "# If you want to make any other data predictions you can use the train.tester\n",
    "# func after train.predict. You can make predictions with\n",
    "predicts = train.tester(path=\"Data-SVR-2023-01-08-09-50-37.pkl\", testData=data.iloc[:,1:][-20:])"
   ],
   "metadata": {
    "collapsed": false
   }
  },
  {
   "cell_type": "code",
   "execution_count": 11,
   "outputs": [
    {
     "data": {
      "text/plain": "    Predicts\n0       7.62\n1       7.27\n2       7.27\n3       7.29\n4       7.78\n5       7.30\n6       7.27\n7       7.27\n8       7.18\n9       7.56\n10      7.33\n11      7.29\n12      6.82\n13      7.52\n14      7.81\n15      7.76\n16      7.28\n17      8.15\n18      6.82\n19      7.17",
      "text/html": "<div>\n<style scoped>\n    .dataframe tbody tr th:only-of-type {\n        vertical-align: middle;\n    }\n\n    .dataframe tbody tr th {\n        vertical-align: top;\n    }\n\n    .dataframe thead th {\n        text-align: right;\n    }\n</style>\n<table border=\"1\" class=\"dataframe\">\n  <thead>\n    <tr style=\"text-align: right;\">\n      <th></th>\n      <th>Predicts</th>\n    </tr>\n  </thead>\n  <tbody>\n    <tr>\n      <th>0</th>\n      <td>7.62</td>\n    </tr>\n    <tr>\n      <th>1</th>\n      <td>7.27</td>\n    </tr>\n    <tr>\n      <th>2</th>\n      <td>7.27</td>\n    </tr>\n    <tr>\n      <th>3</th>\n      <td>7.29</td>\n    </tr>\n    <tr>\n      <th>4</th>\n      <td>7.78</td>\n    </tr>\n    <tr>\n      <th>5</th>\n      <td>7.30</td>\n    </tr>\n    <tr>\n      <th>6</th>\n      <td>7.27</td>\n    </tr>\n    <tr>\n      <th>7</th>\n      <td>7.27</td>\n    </tr>\n    <tr>\n      <th>8</th>\n      <td>7.18</td>\n    </tr>\n    <tr>\n      <th>9</th>\n      <td>7.56</td>\n    </tr>\n    <tr>\n      <th>10</th>\n      <td>7.33</td>\n    </tr>\n    <tr>\n      <th>11</th>\n      <td>7.29</td>\n    </tr>\n    <tr>\n      <th>12</th>\n      <td>6.82</td>\n    </tr>\n    <tr>\n      <th>13</th>\n      <td>7.52</td>\n    </tr>\n    <tr>\n      <th>14</th>\n      <td>7.81</td>\n    </tr>\n    <tr>\n      <th>15</th>\n      <td>7.76</td>\n    </tr>\n    <tr>\n      <th>16</th>\n      <td>7.28</td>\n    </tr>\n    <tr>\n      <th>17</th>\n      <td>8.15</td>\n    </tr>\n    <tr>\n      <th>18</th>\n      <td>6.82</td>\n    </tr>\n    <tr>\n      <th>19</th>\n      <td>7.17</td>\n    </tr>\n  </tbody>\n</table>\n</div>"
     },
     "execution_count": 11,
     "metadata": {},
     "output_type": "execute_result"
    }
   ],
   "source": [
    "predicts"
   ],
   "metadata": {
    "collapsed": false
   }
  },
  {
   "cell_type": "code",
   "execution_count": 12,
   "outputs": [],
   "source": [],
   "metadata": {
    "collapsed": false
   }
  },
  {
   "cell_type": "code",
   "execution_count": 13,
   "outputs": [],
   "source": [],
   "metadata": {
    "collapsed": false
   }
  },
  {
   "cell_type": "code",
   "execution_count": null,
   "outputs": [],
   "source": [],
   "metadata": {
    "collapsed": false
   }
  }
 ],
 "metadata": {
  "kernelspec": {
   "display_name": "Python 3",
   "language": "python",
   "name": "python3"
  },
  "language_info": {
   "codemirror_mode": {
    "name": "ipython",
    "version": 2
   },
   "file_extension": ".py",
   "mimetype": "text/x-python",
   "name": "python",
   "nbconvert_exporter": "python",
   "pygments_lexer": "ipython2",
   "version": "2.7.6"
  }
 },
 "nbformat": 4,
 "nbformat_minor": 0
}
