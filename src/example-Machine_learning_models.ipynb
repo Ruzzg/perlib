{
 "cells": [
  {
   "cell_type": "code",
   "execution_count": 1,
   "metadata": {
    "collapsed": true
   },
   "outputs": [
    {
     "name": "stderr",
     "output_type": "stream",
     "text": [
      "2023-01-11 20:31:43.748445: I tensorflow/core/platform/cpu_feature_guard.cc:193] This TensorFlow binary is optimized with oneAPI Deep Neural Network Library (oneDNN) to use the following CPU instructions in performance-critical operations:  SSE4.1 SSE4.2\n",
      "To enable them in other operations, rebuild TensorFlow with the appropriate compiler flags.\n"
     ]
    }
   ],
   "source": [
    "from perlib.forecaster import *\n",
    "data = dataPrepration.read_data(path=\"./perlib/datasets/winequality-white.csv\",delimiter=\";\")"
   ]
  },
  {
   "cell_type": "code",
   "execution_count": 2,
   "outputs": [],
   "source": [
    "#If the \"auto\" parameter is True, train and test operations are performed according to the best result among the \"Regressor\" or \"Classifier\" models. To use models manually, enter the \"auto\" parameter as False.\n",
    "m_info.testsize = .2\n",
    "m_info.y        = \"fixed acidity\"\n",
    "m_info.modelname= \"SVR\"\n",
    "m_info.auto  = False"
   ],
   "metadata": {
    "collapsed": false
   }
  },
  {
   "cell_type": "code",
   "execution_count": 3,
   "outputs": [],
   "source": [
    "from perlib.core.models.mmodels import models\n",
    "m = models(m_info)"
   ],
   "metadata": {
    "collapsed": false
   }
  },
  {
   "cell_type": "code",
   "execution_count": 4,
   "outputs": [],
   "source": [
    "from perlib.core.train import mTrain\n",
    "train = mTrain(dataFrame=data,object=m)"
   ],
   "metadata": {
    "collapsed": false
   }
  },
  {
   "cell_type": "code",
   "execution_count": 5,
   "outputs": [],
   "source": [
    "preds, evaluate = train.predict(metric=[\"mape\",\"mae\"])"
   ],
   "metadata": {
    "collapsed": false
   }
  },
  {
   "cell_type": "code",
   "execution_count": 6,
   "outputs": [
    {
     "data": {
      "text/plain": "     Predicts  Actual\n0        6.75    6.40\n1        7.38    6.60\n2        7.37    7.40\n3        6.95    7.30\n4        6.70    6.70\n..        ...     ...\n975      6.54    6.20\n976      6.54    6.60\n977      7.23    6.50\n978      5.96    5.50\n979      6.47    6.00\n\n[980 rows x 2 columns]",
      "text/html": "<div>\n<style scoped>\n    .dataframe tbody tr th:only-of-type {\n        vertical-align: middle;\n    }\n\n    .dataframe tbody tr th {\n        vertical-align: top;\n    }\n\n    .dataframe thead th {\n        text-align: right;\n    }\n</style>\n<table border=\"1\" class=\"dataframe\">\n  <thead>\n    <tr style=\"text-align: right;\">\n      <th></th>\n      <th>Predicts</th>\n      <th>Actual</th>\n    </tr>\n  </thead>\n  <tbody>\n    <tr>\n      <th>0</th>\n      <td>6.75</td>\n      <td>6.40</td>\n    </tr>\n    <tr>\n      <th>1</th>\n      <td>7.38</td>\n      <td>6.60</td>\n    </tr>\n    <tr>\n      <th>2</th>\n      <td>7.37</td>\n      <td>7.40</td>\n    </tr>\n    <tr>\n      <th>3</th>\n      <td>6.95</td>\n      <td>7.30</td>\n    </tr>\n    <tr>\n      <th>4</th>\n      <td>6.70</td>\n      <td>6.70</td>\n    </tr>\n    <tr>\n      <th>...</th>\n      <td>...</td>\n      <td>...</td>\n    </tr>\n    <tr>\n      <th>975</th>\n      <td>6.54</td>\n      <td>6.20</td>\n    </tr>\n    <tr>\n      <th>976</th>\n      <td>6.54</td>\n      <td>6.60</td>\n    </tr>\n    <tr>\n      <th>977</th>\n      <td>7.23</td>\n      <td>6.50</td>\n    </tr>\n    <tr>\n      <th>978</th>\n      <td>5.96</td>\n      <td>5.50</td>\n    </tr>\n    <tr>\n      <th>979</th>\n      <td>6.47</td>\n      <td>6.00</td>\n    </tr>\n  </tbody>\n</table>\n<p>980 rows × 2 columns</p>\n</div>"
     },
     "execution_count": 6,
     "metadata": {},
     "output_type": "execute_result"
    }
   ],
   "source": [
    "preds"
   ],
   "metadata": {
    "collapsed": false
   }
  },
  {
   "cell_type": "code",
   "execution_count": 7,
   "outputs": [
    {
     "data": {
      "text/plain": "{'mean_absolute_percentage_error': 7.61713049151838,\n 'mean_absolute_error': 0.4646442821796326}"
     },
     "execution_count": 7,
     "metadata": {},
     "output_type": "execute_result"
    }
   ],
   "source": [
    "evaluate"
   ],
   "metadata": {
    "collapsed": false
   }
  },
  {
   "cell_type": "code",
   "execution_count": 9,
   "outputs": [],
   "source": [
    "# If you want to make any other data predictions you can use the train.tester\n",
    "# func after train.predict. You can make predictions with\n",
    "predicts = train.tester(path=\"models/Data-SVR-2023-01-11-20-31-47.pkl\", testData=data.iloc[:,1:][-20:])"
   ],
   "metadata": {
    "collapsed": false
   }
  },
  {
   "cell_type": "code",
   "execution_count": 10,
   "outputs": [
    {
     "data": {
      "text/plain": "    Predicts\n0       7.62\n1       7.27\n2       7.27\n3       7.29\n4       7.78\n5       7.30\n6       7.27\n7       7.27\n8       7.18\n9       7.56\n10      7.33\n11      7.29\n12      6.82\n13      7.52\n14      7.81\n15      7.76\n16      7.28\n17      8.15\n18      6.82\n19      7.17",
      "text/html": "<div>\n<style scoped>\n    .dataframe tbody tr th:only-of-type {\n        vertical-align: middle;\n    }\n\n    .dataframe tbody tr th {\n        vertical-align: top;\n    }\n\n    .dataframe thead th {\n        text-align: right;\n    }\n</style>\n<table border=\"1\" class=\"dataframe\">\n  <thead>\n    <tr style=\"text-align: right;\">\n      <th></th>\n      <th>Predicts</th>\n    </tr>\n  </thead>\n  <tbody>\n    <tr>\n      <th>0</th>\n      <td>7.62</td>\n    </tr>\n    <tr>\n      <th>1</th>\n      <td>7.27</td>\n    </tr>\n    <tr>\n      <th>2</th>\n      <td>7.27</td>\n    </tr>\n    <tr>\n      <th>3</th>\n      <td>7.29</td>\n    </tr>\n    <tr>\n      <th>4</th>\n      <td>7.78</td>\n    </tr>\n    <tr>\n      <th>5</th>\n      <td>7.30</td>\n    </tr>\n    <tr>\n      <th>6</th>\n      <td>7.27</td>\n    </tr>\n    <tr>\n      <th>7</th>\n      <td>7.27</td>\n    </tr>\n    <tr>\n      <th>8</th>\n      <td>7.18</td>\n    </tr>\n    <tr>\n      <th>9</th>\n      <td>7.56</td>\n    </tr>\n    <tr>\n      <th>10</th>\n      <td>7.33</td>\n    </tr>\n    <tr>\n      <th>11</th>\n      <td>7.29</td>\n    </tr>\n    <tr>\n      <th>12</th>\n      <td>6.82</td>\n    </tr>\n    <tr>\n      <th>13</th>\n      <td>7.52</td>\n    </tr>\n    <tr>\n      <th>14</th>\n      <td>7.81</td>\n    </tr>\n    <tr>\n      <th>15</th>\n      <td>7.76</td>\n    </tr>\n    <tr>\n      <th>16</th>\n      <td>7.28</td>\n    </tr>\n    <tr>\n      <th>17</th>\n      <td>8.15</td>\n    </tr>\n    <tr>\n      <th>18</th>\n      <td>6.82</td>\n    </tr>\n    <tr>\n      <th>19</th>\n      <td>7.17</td>\n    </tr>\n  </tbody>\n</table>\n</div>"
     },
     "execution_count": 10,
     "metadata": {},
     "output_type": "execute_result"
    }
   ],
   "source": [
    "predicts"
   ],
   "metadata": {
    "collapsed": false
   }
  },
  {
   "cell_type": "code",
   "execution_count": 12,
   "outputs": [],
   "source": [],
   "metadata": {
    "collapsed": false
   }
  },
  {
   "cell_type": "code",
   "execution_count": 13,
   "outputs": [],
   "source": [],
   "metadata": {
    "collapsed": false
   }
  },
  {
   "cell_type": "code",
   "execution_count": null,
   "outputs": [],
   "source": [],
   "metadata": {
    "collapsed": false
   }
  }
 ],
 "metadata": {
  "kernelspec": {
   "display_name": "Python 3",
   "language": "python",
   "name": "python3"
  },
  "language_info": {
   "codemirror_mode": {
    "name": "ipython",
    "version": 2
   },
   "file_extension": ".py",
   "mimetype": "text/x-python",
   "name": "python",
   "nbconvert_exporter": "python",
   "pygments_lexer": "ipython2",
   "version": "2.7.6"
  }
 },
 "nbformat": 4,
 "nbformat_minor": 0
}
