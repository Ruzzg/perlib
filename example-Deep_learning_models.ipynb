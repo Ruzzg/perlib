{
 "cells": [
  {
   "cell_type": "code",
   "execution_count": 1,
   "metadata": {
    "pycharm": {
     "name": "#%%\n"
    }
   },
   "outputs": [],
   "source": [
    "import os \n",
    "os.chdir(\"..\")\n",
    "from perlib.datasets import *\n",
    "import perlib\n",
    "import pandas as pd"
   ]
  },
  {
   "cell_type": "code",
   "execution_count": 2,
   "metadata": {},
   "outputs": [],
   "source": [
    "\"\"\"\n",
    "You can call different datasets from datasets.\n",
    "\"\"\"\n",
    "\n",
    "dataset = load_airpassengers()\n",
    "data = pd.DataFrame(dataset)\n",
    "data.index = pd.date_range(start=\"2022-01-01\",periods=len(data),freq=\"d\")"
   ]
  },
  {
   "cell_type": "code",
   "execution_count": 3,
   "metadata": {},
   "outputs": [],
   "source": [
    "data.columns = [\"Values\"]"
   ]
  },
  {
   "cell_type": "code",
   "execution_count": 4,
   "metadata": {},
   "outputs": [
    {
     "data": {
      "text/plain": [
       "(144, 1)"
      ]
     },
     "execution_count": 4,
     "metadata": {},
     "output_type": "execute_result"
    }
   ],
   "source": [
    "data.shape"
   ]
  },
  {
   "cell_type": "code",
   "execution_count": 5,
   "metadata": {
    "pycharm": {
     "name": "#%%\n"
    }
   },
   "outputs": [
    {
     "data": {
      "text/html": [
       "<div>\n",
       "<style scoped>\n",
       "    .dataframe tbody tr th:only-of-type {\n",
       "        vertical-align: middle;\n",
       "    }\n",
       "\n",
       "    .dataframe tbody tr th {\n",
       "        vertical-align: top;\n",
       "    }\n",
       "\n",
       "    .dataframe thead th {\n",
       "        text-align: right;\n",
       "    }\n",
       "</style>\n",
       "<table border=\"1\" class=\"dataframe\">\n",
       "  <thead>\n",
       "    <tr style=\"text-align: right;\">\n",
       "      <th></th>\n",
       "      <th>Values</th>\n",
       "    </tr>\n",
       "  </thead>\n",
       "  <tbody>\n",
       "    <tr>\n",
       "      <th>2022-05-20</th>\n",
       "      <td>606.00</td>\n",
       "    </tr>\n",
       "    <tr>\n",
       "      <th>2022-05-21</th>\n",
       "      <td>508.00</td>\n",
       "    </tr>\n",
       "    <tr>\n",
       "      <th>2022-05-22</th>\n",
       "      <td>461.00</td>\n",
       "    </tr>\n",
       "    <tr>\n",
       "      <th>2022-05-23</th>\n",
       "      <td>390.00</td>\n",
       "    </tr>\n",
       "    <tr>\n",
       "      <th>2022-05-24</th>\n",
       "      <td>432.00</td>\n",
       "    </tr>\n",
       "  </tbody>\n",
       "</table>\n",
       "</div>"
      ],
      "text/plain": [
       "            Values\n",
       "2022-05-20  606.00\n",
       "2022-05-21  508.00\n",
       "2022-05-22  461.00\n",
       "2022-05-23  390.00\n",
       "2022-05-24  432.00"
      ]
     },
     "execution_count": 5,
     "metadata": {},
     "output_type": "execute_result"
    }
   ],
   "source": [
    "data.tail()"
   ]
  },
  {
   "cell_type": "code",
   "execution_count": 6,
   "metadata": {
    "jupyter": {
     "outputs_hidden": false
    },
    "pycharm": {
     "name": "#%%\n"
    }
   },
   "outputs": [
    {
     "name": "stdout",
     "output_type": "stream",
     "text": [
      "\n",
      "Dimension Reduction Analysis: Size reduction is not recommended.\n",
      "\n",
      "Selected Models:\n",
      "1. ('BILSTM', 'Data symmetric, BILSTM is available.')\n",
      "2. ('CONVLSTM', 'There are spatial and temporal patterns, CONVLSTM can be used.')\n",
      "3. ('SARIMA', 'No time series data found, SARIMA is not recommended.')\n",
      "4. ('PROPHET', 'No time series data found, PROPHET is not recommended.')\n",
      "5. ('LSTM', 'Insufficient dataset size, LSTM is not recommended.')\n",
      "6. ('LSTNET', 'Insufficient dataset size, LSTNet is not recommended.')\n",
      "7. ('TCN', 'No temporal dependencies, TCN is not recommended.')\n",
      "8. ('XGBoost', 'No irregular and heterogeneous data, XGBoost is not recommended.')\n"
     ]
    }
   ],
   "source": [
    "model_selector = perlib.ModelSelection(data)\n",
    "model_selector.select_model()"
   ]
  },
  {
   "cell_type": "code",
   "execution_count": 7,
   "metadata": {},
   "outputs": [],
   "source": [
    "import tensorflow as tf\n",
    "tf.config.set_visible_devices([], 'GPU')"
   ]
  },
  {
   "cell_type": "code",
   "execution_count": 8,
   "metadata": {},
   "outputs": [],
   "source": [
    "data = data.reset_index()"
   ]
  },
  {
   "cell_type": "code",
   "execution_count": 9,
   "metadata": {},
   "outputs": [
    {
     "data": {
      "text/html": [
       "<div>\n",
       "<style scoped>\n",
       "    .dataframe tbody tr th:only-of-type {\n",
       "        vertical-align: middle;\n",
       "    }\n",
       "\n",
       "    .dataframe tbody tr th {\n",
       "        vertical-align: top;\n",
       "    }\n",
       "\n",
       "    .dataframe thead th {\n",
       "        text-align: right;\n",
       "    }\n",
       "</style>\n",
       "<table border=\"1\" class=\"dataframe\">\n",
       "  <thead>\n",
       "    <tr style=\"text-align: right;\">\n",
       "      <th></th>\n",
       "      <th>index</th>\n",
       "      <th>Values</th>\n",
       "    </tr>\n",
       "  </thead>\n",
       "  <tbody>\n",
       "    <tr>\n",
       "      <th>0</th>\n",
       "      <td>2022-01-01</td>\n",
       "      <td>112.00</td>\n",
       "    </tr>\n",
       "    <tr>\n",
       "      <th>1</th>\n",
       "      <td>2022-01-02</td>\n",
       "      <td>118.00</td>\n",
       "    </tr>\n",
       "    <tr>\n",
       "      <th>2</th>\n",
       "      <td>2022-01-03</td>\n",
       "      <td>132.00</td>\n",
       "    </tr>\n",
       "    <tr>\n",
       "      <th>3</th>\n",
       "      <td>2022-01-04</td>\n",
       "      <td>129.00</td>\n",
       "    </tr>\n",
       "    <tr>\n",
       "      <th>4</th>\n",
       "      <td>2022-01-05</td>\n",
       "      <td>121.00</td>\n",
       "    </tr>\n",
       "    <tr>\n",
       "      <th>...</th>\n",
       "      <td>...</td>\n",
       "      <td>...</td>\n",
       "    </tr>\n",
       "    <tr>\n",
       "      <th>139</th>\n",
       "      <td>2022-05-20</td>\n",
       "      <td>606.00</td>\n",
       "    </tr>\n",
       "    <tr>\n",
       "      <th>140</th>\n",
       "      <td>2022-05-21</td>\n",
       "      <td>508.00</td>\n",
       "    </tr>\n",
       "    <tr>\n",
       "      <th>141</th>\n",
       "      <td>2022-05-22</td>\n",
       "      <td>461.00</td>\n",
       "    </tr>\n",
       "    <tr>\n",
       "      <th>142</th>\n",
       "      <td>2022-05-23</td>\n",
       "      <td>390.00</td>\n",
       "    </tr>\n",
       "    <tr>\n",
       "      <th>143</th>\n",
       "      <td>2022-05-24</td>\n",
       "      <td>432.00</td>\n",
       "    </tr>\n",
       "  </tbody>\n",
       "</table>\n",
       "<p>144 rows × 2 columns</p>\n",
       "</div>"
      ],
      "text/plain": [
       "         index  Values\n",
       "0   2022-01-01  112.00\n",
       "1   2022-01-02  118.00\n",
       "2   2022-01-03  132.00\n",
       "3   2022-01-04  129.00\n",
       "4   2022-01-05  121.00\n",
       "..         ...     ...\n",
       "139 2022-05-20  606.00\n",
       "140 2022-05-21  508.00\n",
       "141 2022-05-22  461.00\n",
       "142 2022-05-23  390.00\n",
       "143 2022-05-24  432.00\n",
       "\n",
       "[144 rows x 2 columns]"
      ]
     },
     "execution_count": 9,
     "metadata": {},
     "output_type": "execute_result"
    }
   ],
   "source": [
    "data"
   ]
  },
  {
   "cell_type": "code",
   "execution_count": 15,
   "metadata": {
    "pycharm": {
     "name": "#%%\n"
    }
   },
   "outputs": [
    {
     "name": "stderr",
     "output_type": "stream",
     "text": [
      "2024-03-13 22:02:25.370 | INFO     | perlib.core.req_utils:check_layer:303 - The model selected is \"LSTNET\"!\n"
     ]
    },
    {
     "name": "stdout",
     "output_type": "stream",
     "text": [
      "Parameters created\n",
      "The model training process has been started.\n",
      "500/500 [==============================] - 13s 24ms/step - loss: 0.0739 - val_loss: 0.0073\n",
      "Model training process completed\n",
      "The model is being saved\n",
      "1/1 [==============================] - 0s 152ms/step\n",
      "1/1 [==============================] - 0s 12ms/step\n",
      "1/1 [==============================] - 0s 11ms/step\n",
      "1/1 [==============================] - 0s 11ms/step\n"
     ]
    }
   ],
   "source": [
    "\"\"\"\n",
    "Model training operations are performed with different parameters.\n",
    "\"\"\"\n",
    "from perlib.forecaster import get_result\n",
    "results =  get_result(dataFrame=data,\n",
    "                      y=\"Values\",\n",
    "                      modelName=\"lstnet\",\n",
    "                      dateColumn=\"index\",\n",
    "                      process=False,\n",
    "                      forecastNumber=24,\n",
    "                      metric=[\"mape\",\"mae\",\"mse\"],\n",
    "                      epoch=1,\n",
    "                      forecastingStartDate=\"2022-05-20\",\n",
    "                      )"
   ]
  },
  {
   "cell_type": "code",
   "execution_count": 17,
   "metadata": {
    "jupyter": {
     "outputs_hidden": false
    },
    "pycharm": {
     "name": "#%%\n"
    }
   },
   "outputs": [
    {
     "data": {
      "text/plain": [
       "(            Values  Predicts\n",
       " index                       \n",
       " 2022-05-21  508.00    481.62\n",
       " 2022-05-22  461.00    389.99\n",
       " 2022-05-23  390.00    362.00\n",
       " 2022-05-24  432.00    410.96,\n",
       " {'mean_absolute_percentage_error': 8.161391534658552,\n",
       "  'mean_absolute_error': 36.60692596435547,\n",
       "  'mean_squared_error': 1741.2752761889715})"
      ]
     },
     "execution_count": 17,
     "metadata": {},
     "output_type": "execute_result"
    }
   ],
   "source": [
    "results"
   ]
  },
  {
   "cell_type": "code",
   "execution_count": 17,
   "metadata": {
    "jupyter": {
     "outputs_hidden": false
    },
    "pycharm": {
     "name": "#%%\n"
    }
   },
   "outputs": [
    {
     "data": {
      "text/html": [
       "<div>\n",
       "<style scoped>\n",
       "    .dataframe tbody tr th:only-of-type {\n",
       "        vertical-align: middle;\n",
       "    }\n",
       "\n",
       "    .dataframe tbody tr th {\n",
       "        vertical-align: top;\n",
       "    }\n",
       "\n",
       "    .dataframe thead th {\n",
       "        text-align: right;\n",
       "    }\n",
       "</style>\n",
       "<table border=\"1\" class=\"dataframe\">\n",
       "  <thead>\n",
       "    <tr style=\"text-align: right;\">\n",
       "      <th></th>\n",
       "      <th>index</th>\n",
       "      <th>Values</th>\n",
       "    </tr>\n",
       "  </thead>\n",
       "  <tbody>\n",
       "    <tr>\n",
       "      <th>0</th>\n",
       "      <td>2022-01-01</td>\n",
       "      <td>112.00</td>\n",
       "    </tr>\n",
       "    <tr>\n",
       "      <th>1</th>\n",
       "      <td>2022-01-02</td>\n",
       "      <td>118.00</td>\n",
       "    </tr>\n",
       "    <tr>\n",
       "      <th>2</th>\n",
       "      <td>2022-01-03</td>\n",
       "      <td>132.00</td>\n",
       "    </tr>\n",
       "    <tr>\n",
       "      <th>3</th>\n",
       "      <td>2022-01-04</td>\n",
       "      <td>129.00</td>\n",
       "    </tr>\n",
       "    <tr>\n",
       "      <th>4</th>\n",
       "      <td>2022-01-05</td>\n",
       "      <td>121.00</td>\n",
       "    </tr>\n",
       "    <tr>\n",
       "      <th>...</th>\n",
       "      <td>...</td>\n",
       "      <td>...</td>\n",
       "    </tr>\n",
       "    <tr>\n",
       "      <th>139</th>\n",
       "      <td>2022-05-20</td>\n",
       "      <td>606.00</td>\n",
       "    </tr>\n",
       "    <tr>\n",
       "      <th>140</th>\n",
       "      <td>2022-05-21</td>\n",
       "      <td>508.00</td>\n",
       "    </tr>\n",
       "    <tr>\n",
       "      <th>141</th>\n",
       "      <td>2022-05-22</td>\n",
       "      <td>461.00</td>\n",
       "    </tr>\n",
       "    <tr>\n",
       "      <th>142</th>\n",
       "      <td>2022-05-23</td>\n",
       "      <td>390.00</td>\n",
       "    </tr>\n",
       "    <tr>\n",
       "      <th>143</th>\n",
       "      <td>2022-05-24</td>\n",
       "      <td>432.00</td>\n",
       "    </tr>\n",
       "  </tbody>\n",
       "</table>\n",
       "<p>144 rows × 2 columns</p>\n",
       "</div>"
      ],
      "text/plain": [
       "         index  Values\n",
       "0   2022-01-01  112.00\n",
       "1   2022-01-02  118.00\n",
       "2   2022-01-03  132.00\n",
       "3   2022-01-04  129.00\n",
       "4   2022-01-05  121.00\n",
       "..         ...     ...\n",
       "139 2022-05-20  606.00\n",
       "140 2022-05-21  508.00\n",
       "141 2022-05-22  461.00\n",
       "142 2022-05-23  390.00\n",
       "143 2022-05-24  432.00\n",
       "\n",
       "[144 rows x 2 columns]"
      ]
     },
     "execution_count": 17,
     "metadata": {},
     "output_type": "execute_result"
    }
   ],
   "source": [
    "data"
   ]
  },
  {
   "cell_type": "code",
   "execution_count": 18,
   "metadata": {
    "pycharm": {
     "name": "#%%\n"
    }
   },
   "outputs": [],
   "source": [
    "#The Time Series module helps to create many basic models without using much code and helps to understand which models work better without any parameter adjustments.\n",
    "from perlib.piplines.dpipline import Timeseries\n",
    "pipline = Timeseries(dataFrame=data,\n",
    "                       y=\"Values\",\n",
    "                       dateColumn=\"index\",\n",
    "                       process=False,\n",
    "                       epoch=1,\n",
    "                       forecastingStartDate=\"2022-05-20\",\n",
    "                       forecastNumber= 24,\n",
    "                       models=\"all\",\n",
    "                       metrics=[\"mape\",\"mae\"]\n",
    "                     )"
   ]
  },
  {
   "cell_type": "code",
   "execution_count": 19,
   "metadata": {
    "jupyter": {
     "outputs_hidden": false
    },
    "pycharm": {
     "name": "#%%\n"
    },
    "scrolled": true
   },
   "outputs": [
    {
     "data": {
      "application/vnd.jupyter.widget-view+json": {
       "model_id": "60035d421b704e8f821cd7942c9e47e0",
       "version_major": 2,
       "version_minor": 0
      },
      "text/plain": [
       "  0%|          | 0/9 [00:00<?, ?it/s]"
      ]
     },
     "metadata": {},
     "output_type": "display_data"
    },
    {
     "name": "stderr",
     "output_type": "stream",
     "text": [
      "DEBUG:cmdstanpy:input tempfile: /var/folders/ww/cmmyl1z12sz3qvbf_c52g5hc0000gn/T/tmpl31iyjbk/aq0ifbs8.json\n",
      "DEBUG:cmdstanpy:input tempfile: /var/folders/ww/cmmyl1z12sz3qvbf_c52g5hc0000gn/T/tmpl31iyjbk/97n6mnnq.json\n",
      "DEBUG:cmdstanpy:idx 0\n",
      "DEBUG:cmdstanpy:running CmdStan, num_threads: None\n",
      "DEBUG:cmdstanpy:CmdStan args: ['/Users/ruzgarkanar/miniforge3/lib/python3.10/site-packages/prophet/stan_model/prophet_model.bin', 'random', 'seed=62914', 'data', 'file=/var/folders/ww/cmmyl1z12sz3qvbf_c52g5hc0000gn/T/tmpl31iyjbk/aq0ifbs8.json', 'init=/var/folders/ww/cmmyl1z12sz3qvbf_c52g5hc0000gn/T/tmpl31iyjbk/97n6mnnq.json', 'output', 'file=/var/folders/ww/cmmyl1z12sz3qvbf_c52g5hc0000gn/T/tmpl31iyjbk/prophet_modelj4bsyyu2/prophet_model-20240313214650.csv', 'method=optimize', 'algorithm=lbfgs', 'iter=10000']\n",
      "21:46:50 - cmdstanpy - INFO - Chain [1] start processing\n",
      "INFO:cmdstanpy:Chain [1] start processing\n",
      "21:46:50 - cmdstanpy - INFO - Chain [1] done processing\n",
      "INFO:cmdstanpy:Chain [1] done processing\n"
     ]
    },
    {
     "name": "stdout",
     "output_type": "stream",
     "text": [
      "Model saved as models/Data-Prophet-2024-03-13-21-46-50.pkl\n"
     ]
    },
    {
     "data": {
      "application/vnd.jupyter.widget-view+json": {
       "model_id": "4d830f7a725c48d88fad89338f5e02c6",
       "version_major": 2,
       "version_minor": 0
      },
      "text/plain": [
       "  0%|          | 0/2 [00:00<?, ?it/s]"
      ]
     },
     "metadata": {},
     "output_type": "display_data"
    },
    {
     "name": "stderr",
     "output_type": "stream",
     "text": [
      "2024-03-13 21:46:50.465 | INFO     | perlib.core.req_utils:check_layer:303 - The model selected is \"LSTNET\"!\n"
     ]
    },
    {
     "name": "stdout",
     "output_type": "stream",
     "text": [
      "Parameters created\n",
      "The model training process has been started.\n"
     ]
    },
    {
     "name": "stderr",
     "output_type": "stream",
     "text": [
      "2024-03-13 21:46:51.610684: W tensorflow/tsl/platform/profile_utils/cpu_utils.cc:128] Failed to get CPU frequency: 0 Hz\n"
     ]
    },
    {
     "name": "stdout",
     "output_type": "stream",
     "text": [
      "  6/500 [..............................] - ETA: 6s - loss: 6.4187   "
     ]
    },
    {
     "name": "stderr",
     "output_type": "stream",
     "text": [
      "2024-03-13 21:46:52.022794: I tensorflow/compiler/xla/service/service.cc:173] XLA service 0x31d254ea0 initialized for platform Host (this does not guarantee that XLA will be used). Devices:\n",
      "2024-03-13 21:46:52.022811: I tensorflow/compiler/xla/service/service.cc:181]   StreamExecutor device (0): Host, Default Version\n",
      "2024-03-13 21:46:52.029105: I tensorflow/compiler/mlir/tensorflow/utils/dump_mlir_util.cc:268] disabling MLIR crash reproducer, set env var `MLIR_CRASH_REPRODUCER_DIRECTORY` to enable.\n",
      "2024-03-13 21:46:52.068958: I tensorflow/compiler/jit/xla_compilation_cache.cc:477] Compiled cluster using XLA!  This line is logged at most once for the lifetime of the process.\n"
     ]
    },
    {
     "name": "stdout",
     "output_type": "stream",
     "text": [
      "500/500 [==============================] - 13s 22ms/step - loss: 0.2457 - val_loss: 0.0191\n",
      "Model training process completed\n",
      "The model is being saved\n",
      "1/1 [==============================] - 0s 156ms/step\n",
      "1/1 [==============================] - 0s 11ms/step\n",
      "1/1 [==============================] - 0s 11ms/step\n",
      "1/1 [==============================] - 0s 11ms/step\n"
     ]
    },
    {
     "data": {
      "application/vnd.jupyter.widget-view+json": {
       "model_id": "acb442fb568a41d49710bbcc855b7a15",
       "version_major": 2,
       "version_minor": 0
      },
      "text/plain": [
       "  0%|          | 0/2 [00:00<?, ?it/s]"
      ]
     },
     "metadata": {},
     "output_type": "display_data"
    },
    {
     "name": "stderr",
     "output_type": "stream",
     "text": [
      "2024-03-13 21:47:08.698 | INFO     | perlib.core.req_utils:check_layer:303 - The model selected is \"LSTM\"!\n"
     ]
    },
    {
     "name": "stdout",
     "output_type": "stream",
     "text": [
      "Parameters created\n",
      "Model: \"sequential_1\"\n",
      "_________________________________________________________________\n",
      " Layer (type)                Output Shape              Param #   \n",
      "=================================================================\n",
      " lstm (LSTM)                 (None, 24, 150)           91200     \n",
      "                                                                 \n",
      " dropout_2 (Dropout)         (None, 24, 150)           0         \n",
      "                                                                 \n",
      " lstm_1 (LSTM)               (None, 24, 100)           100400    \n",
      "                                                                 \n",
      " dropout_3 (Dropout)         (None, 24, 100)           0         \n",
      "                                                                 \n",
      " lstm_2 (LSTM)               (None, 50)                30200     \n",
      "                                                                 \n",
      " dropout_4 (Dropout)         (None, 50)                0         \n",
      "                                                                 \n",
      " dense_2 (Dense)             (None, 1)                 51        \n",
      "                                                                 \n",
      "=================================================================\n",
      "Total params: 221,851\n",
      "Trainable params: 221,851\n",
      "Non-trainable params: 0\n",
      "_________________________________________________________________\n",
      "The model training process has been started.\n",
      "500/500 [==============================] - 41s 79ms/step - loss: 0.0639 - val_loss: 0.0146\n",
      "Model training process completed\n",
      "The model is being saved\n",
      "1/1 [==============================] - 0s 380ms/step\n",
      "1/1 [==============================] - 0s 12ms/step\n",
      "1/1 [==============================] - 0s 13ms/step\n",
      "1/1 [==============================] - 0s 12ms/step\n"
     ]
    },
    {
     "data": {
      "application/vnd.jupyter.widget-view+json": {
       "model_id": "502ee0def8ac474f97d6ea7874ad8d6e",
       "version_major": 2,
       "version_minor": 0
      },
      "text/plain": [
       "  0%|          | 0/2 [00:00<?, ?it/s]"
      ]
     },
     "metadata": {},
     "output_type": "display_data"
    },
    {
     "name": "stderr",
     "output_type": "stream",
     "text": [
      "2024-03-13 21:47:56.147 | INFO     | perlib.core.req_utils:check_layer:303 - The model selected is \"BILSTM\"!\n"
     ]
    },
    {
     "name": "stdout",
     "output_type": "stream",
     "text": [
      "Parameters created\n",
      "The model training process has been started.\n",
      "500/500 [==============================] - 66s 126ms/step - loss: 0.0423 - val_loss: 0.0093\n",
      "Model training process completed\n",
      "The model is being saved\n",
      "1/1 [==============================] - 1s 701ms/step\n",
      "1/1 [==============================] - 0s 14ms/step\n",
      "1/1 [==============================] - 0s 13ms/step\n",
      "1/1 [==============================] - 0s 13ms/step\n"
     ]
    },
    {
     "data": {
      "application/vnd.jupyter.widget-view+json": {
       "model_id": "f008b88538f349fe924ab3fbded0bdfc",
       "version_major": 2,
       "version_minor": 0
      },
      "text/plain": [
       "  0%|          | 0/2 [00:00<?, ?it/s]"
      ]
     },
     "metadata": {},
     "output_type": "display_data"
    },
    {
     "name": "stderr",
     "output_type": "stream",
     "text": [
      "2024-03-13 21:49:09.155 | INFO     | perlib.core.req_utils:check_layer:303 - The model selected is \"CONVLSTM\"!\n"
     ]
    },
    {
     "name": "stdout",
     "output_type": "stream",
     "text": [
      "Parameters created\n",
      "Model: \"sequential_3\"\n",
      "_________________________________________________________________\n",
      " Layer (type)                Output Shape              Param #   \n",
      "=================================================================\n",
      " conv1d (Conv1D)             (None, 22, 64)            256       \n",
      "                                                                 \n",
      " max_pooling1d (MaxPooling1D  (None, 22, 64)           0         \n",
      " )                                                               \n",
      "                                                                 \n",
      " dropout_8 (Dropout)         (None, 22, 64)            0         \n",
      "                                                                 \n",
      " lstm_6 (LSTM)               (None, 22, 100)           66000     \n",
      "                                                                 \n",
      " dropout_9 (Dropout)         (None, 22, 100)           0         \n",
      "                                                                 \n",
      " lstm_7 (LSTM)               (None, 50)                30200     \n",
      "                                                                 \n",
      " dropout_10 (Dropout)        (None, 50)                0         \n",
      "                                                                 \n",
      " dense_4 (Dense)             (None, 1)                 51        \n",
      "                                                                 \n",
      "=================================================================\n",
      "Total params: 96,507\n",
      "Trainable params: 96,507\n",
      "Non-trainable params: 0\n",
      "_________________________________________________________________\n",
      "The model training process has been started.\n",
      "500/500 [==============================] - 22s 41ms/step - loss: 0.0544 - val_loss: 0.0123\n",
      "Model training process completed\n",
      "The model is being saved\n",
      "1/1 [==============================] - 0s 276ms/step\n",
      "1/1 [==============================] - 0s 17ms/step\n",
      "1/1 [==============================] - 0s 13ms/step\n",
      "1/1 [==============================] - 0s 12ms/step\n"
     ]
    },
    {
     "data": {
      "application/vnd.jupyter.widget-view+json": {
       "model_id": "40003c61d569473684328897f9c61078",
       "version_major": 2,
       "version_minor": 0
      },
      "text/plain": [
       "  0%|          | 0/2 [00:00<?, ?it/s]"
      ]
     },
     "metadata": {},
     "output_type": "display_data"
    },
    {
     "name": "stderr",
     "output_type": "stream",
     "text": [
      "2024-03-13 21:49:36.937 | INFO     | perlib.core.req_utils:check_layer:303 - The model selected is \"TCN\"!\n"
     ]
    },
    {
     "name": "stdout",
     "output_type": "stream",
     "text": [
      "Parameters created\n",
      "Model: \"sequential_4\"\n",
      "_________________________________________________________________\n",
      " Layer (type)                Output Shape              Param #   \n",
      "=================================================================\n",
      " tcn (TCN)                   (None, 24, 150)           497400    \n",
      "                                                                 \n",
      " dropout_11 (Dropout)        (None, 24, 150)           0         \n",
      "                                                                 \n",
      " tcn_1 (TCN)                 (None, 24, 100)           266300    \n",
      "                                                                 \n",
      " dropout_12 (Dropout)        (None, 24, 100)           0         \n",
      "                                                                 \n",
      " tcn_2 (TCN)                 (None, 50)                70650     \n",
      "                                                                 \n",
      " dropout_13 (Dropout)        (None, 50)                0         \n",
      "                                                                 \n",
      " dense_5 (Dense)             (None, 1)                 51        \n",
      "                                                                 \n",
      "=================================================================\n",
      "Total params: 834,401\n",
      "Trainable params: 834,401\n",
      "Non-trainable params: 0\n",
      "_________________________________________________________________\n",
      "The model training process has been started.\n",
      "500/500 [==============================] - 95s 186ms/step - loss: 0.1251 - val_loss: 0.0090\n",
      "Model training process completed\n",
      "The model is being saved\n",
      "1/1 [==============================] - 0s 334ms/step\n",
      "1/1 [==============================] - 0s 12ms/step\n",
      "1/1 [==============================] - 0s 12ms/step\n",
      "1/1 [==============================] - 0s 12ms/step\n"
     ]
    },
    {
     "data": {
      "application/vnd.jupyter.widget-view+json": {
       "model_id": "a42b74fe416b4654bce022a66ab7788c",
       "version_major": 2,
       "version_minor": 0
      },
      "text/plain": [
       "  0%|          | 0/2 [00:00<?, ?it/s]"
      ]
     },
     "metadata": {},
     "output_type": "display_data"
    },
    {
     "name": "stderr",
     "output_type": "stream",
     "text": [
      "2024-03-13 21:51:18.200 | INFO     | perlib.core.req_utils:check_layer:303 - The model selected is \"RNN\"!\n"
     ]
    },
    {
     "name": "stdout",
     "output_type": "stream",
     "text": [
      "Parameters created\n",
      "Model: \"sequential_5\"\n",
      "_________________________________________________________________\n",
      " Layer (type)                Output Shape              Param #   \n",
      "=================================================================\n",
      " simple_rnn (SimpleRNN)      (None, 24, 150)           22800     \n",
      "                                                                 \n",
      " dropout_14 (Dropout)        (None, 24, 150)           0         \n",
      "                                                                 \n",
      " simple_rnn_1 (SimpleRNN)    (None, 24, 100)           25100     \n",
      "                                                                 \n",
      " dropout_15 (Dropout)        (None, 24, 100)           0         \n",
      "                                                                 \n",
      " simple_rnn_2 (SimpleRNN)    (None, 50)                7550      \n",
      "                                                                 \n",
      " dropout_16 (Dropout)        (None, 50)                0         \n",
      "                                                                 \n",
      " dense_6 (Dense)             (None, 1)                 51        \n",
      "                                                                 \n",
      "=================================================================\n",
      "Total params: 55,501\n",
      "Trainable params: 55,501\n",
      "Non-trainable params: 0\n",
      "_________________________________________________________________\n",
      "The model training process has been started.\n",
      "500/500 [==============================] - 19s 37ms/step - loss: 0.1135 - val_loss: 0.0074\n",
      "Model training process completed\n",
      "The model is being saved\n",
      "1/1 [==============================] - 0s 132ms/step\n",
      "1/1 [==============================] - 0s 13ms/step\n",
      "1/1 [==============================] - 0s 13ms/step\n",
      "1/1 [==============================] - 0s 12ms/step\n"
     ]
    },
    {
     "data": {
      "application/vnd.jupyter.widget-view+json": {
       "model_id": "16f00a786c964a2286e679e353896e8a",
       "version_major": 2,
       "version_minor": 0
      },
      "text/plain": [
       "  0%|          | 0/2 [00:00<?, ?it/s]"
      ]
     },
     "metadata": {},
     "output_type": "display_data"
    },
    {
     "name": "stdout",
     "output_type": "stream",
     "text": [
      "Parameters created\n",
      "The model training process has been started.\n"
     ]
    },
    {
     "name": "stderr",
     "output_type": "stream",
     "text": [
      "100%|██████████| 400/400 [00:31<00:00, 12.72it/s]\n"
     ]
    },
    {
     "name": "stdout",
     "output_type": "stream",
     "text": [
      "Model training process completed\n",
      "The model is being saved\n"
     ]
    },
    {
     "data": {
      "application/vnd.jupyter.widget-view+json": {
       "model_id": "9fb78a092d0546018181820444885f8b",
       "version_major": 2,
       "version_minor": 0
      },
      "text/plain": [
       "  0%|          | 0/2 [00:00<?, ?it/s]"
      ]
     },
     "metadata": {},
     "output_type": "display_data"
    },
    {
     "name": "stdout",
     "output_type": "stream",
     "text": [
      "Parameters created\n",
      "The model training process has been started.\n"
     ]
    },
    {
     "name": "stderr",
     "output_type": "stream",
     "text": [
      "100%|██████████| 400/400 [02:58<00:00,  2.24it/s]\n",
      " This problem is unconstrained.\n"
     ]
    },
    {
     "name": "stdout",
     "output_type": "stream",
     "text": [
      "RUNNING THE L-BFGS-B CODE\n",
      "\n",
      "           * * *\n",
      "\n",
      "Machine precision = 2.220D-16\n",
      " N =            9     M =           10\n",
      "\n",
      "At X0         0 variables are exactly at the bounds\n",
      "\n",
      "At iterate    0    f= -1.10391D+00    |proj g|=  2.10858D+01\n",
      "\n",
      "At iterate    5    f= -1.23836D+00    |proj g|=  2.16804D-01\n",
      "\n",
      "At iterate   10    f= -1.27331D+00    |proj g|=  9.66374D-01\n",
      "\n",
      "At iterate   15    f= -1.42436D+00    |proj g|=  1.01395D+00\n",
      "\n",
      "At iterate   20    f= -1.63562D+00    |proj g|=  3.26487D+00\n",
      "\n",
      "At iterate   25    f= -1.66584D+00    |proj g|=  1.38130D-01\n",
      "\n",
      "At iterate   30    f= -1.67778D+00    |proj g|=  7.25975D-01\n",
      "\n",
      "At iterate   35    f= -1.67922D+00    |proj g|=  1.36961D-01\n",
      "\n",
      "At iterate   40    f= -1.68730D+00    |proj g|=  3.85581D-01\n",
      "\n",
      "At iterate   45    f= -1.68849D+00    |proj g|=  6.38797D-02\n",
      "\n",
      "At iterate   50    f= -1.69470D+00    |proj g|=  3.66060D-01\n",
      "\n",
      "           * * *\n",
      "\n",
      "Tit   = total number of iterations\n",
      "Tnf   = total number of function evaluations\n",
      "Tnint = total number of segments explored during Cauchy searches\n",
      "Skip  = number of BFGS updates skipped\n",
      "Nact  = number of active bounds at final generalized Cauchy point\n",
      "Projg = norm of the final projected gradient\n",
      "F     = final function value\n",
      "\n",
      "           * * *\n",
      "\n",
      "   N    Tit     Tnf  Tnint  Skip  Nact     Projg        F\n",
      "    9     50     65      1     0     0   3.661D-01  -1.695D+00\n",
      "  F =  -1.6946984273553771     \n",
      "\n",
      "STOP: TOTAL NO. of ITERATIONS REACHED LIMIT                 \n",
      "Model training process completed\n",
      "The model is being saved\n"
     ]
    },
    {
     "data": {
      "application/vnd.jupyter.widget-view+json": {
       "model_id": "41f5d0db0b684a519dd6f89408f7cd65",
       "version_major": 2,
       "version_minor": 0
      },
      "text/plain": [
       "  0%|          | 0/2 [00:00<?, ?it/s]"
      ]
     },
     "metadata": {},
     "output_type": "display_data"
    }
   ],
   "source": [
    "predictions = pipline.fit()"
   ]
  },
  {
   "cell_type": "code",
   "execution_count": 20,
   "metadata": {
    "pycharm": {
     "name": "#%%\n"
    }
   },
   "outputs": [
    {
     "data": {
      "text/html": [
       "<div>\n",
       "<style scoped>\n",
       "    .dataframe tbody tr th:only-of-type {\n",
       "        vertical-align: middle;\n",
       "    }\n",
       "\n",
       "    .dataframe tbody tr th {\n",
       "        vertical-align: top;\n",
       "    }\n",
       "\n",
       "    .dataframe thead th {\n",
       "        text-align: right;\n",
       "    }\n",
       "</style>\n",
       "<table border=\"1\" class=\"dataframe\">\n",
       "  <thead>\n",
       "    <tr style=\"text-align: right;\">\n",
       "      <th></th>\n",
       "      <th>mean_absolute_percentage_error</th>\n",
       "      <th>mean_absolute_error</th>\n",
       "    </tr>\n",
       "  </thead>\n",
       "  <tbody>\n",
       "    <tr>\n",
       "      <th>PROPHET</th>\n",
       "      <td>23.80</td>\n",
       "      <td>105.82</td>\n",
       "    </tr>\n",
       "    <tr>\n",
       "      <th>LSTNET</th>\n",
       "      <td>5.11</td>\n",
       "      <td>21.73</td>\n",
       "    </tr>\n",
       "    <tr>\n",
       "      <th>LSTM</th>\n",
       "      <td>7.08</td>\n",
       "      <td>31.75</td>\n",
       "    </tr>\n",
       "    <tr>\n",
       "      <th>BILSTM</th>\n",
       "      <td>6.49</td>\n",
       "      <td>29.56</td>\n",
       "    </tr>\n",
       "    <tr>\n",
       "      <th>CONVLSTM</th>\n",
       "      <td>7.10</td>\n",
       "      <td>30.71</td>\n",
       "    </tr>\n",
       "    <tr>\n",
       "      <th>TCN</th>\n",
       "      <td>5.57</td>\n",
       "      <td>23.89</td>\n",
       "    </tr>\n",
       "    <tr>\n",
       "      <th>RNN</th>\n",
       "      <td>3.10</td>\n",
       "      <td>13.11</td>\n",
       "    </tr>\n",
       "    <tr>\n",
       "      <th>ARIMA</th>\n",
       "      <td>10.81</td>\n",
       "      <td>47.91</td>\n",
       "    </tr>\n",
       "    <tr>\n",
       "      <th>SARIMA</th>\n",
       "      <td>14.61</td>\n",
       "      <td>66.26</td>\n",
       "    </tr>\n",
       "  </tbody>\n",
       "</table>\n",
       "</div>"
      ],
      "text/plain": [
       "          mean_absolute_percentage_error  mean_absolute_error\n",
       "PROPHET                            23.80               105.82\n",
       "LSTNET                              5.11                21.73\n",
       "LSTM                                7.08                31.75\n",
       "BILSTM                              6.49                29.56\n",
       "CONVLSTM                            7.10                30.71\n",
       "TCN                                 5.57                23.89\n",
       "RNN                                 3.10                13.11\n",
       "ARIMA                              10.81                47.91\n",
       "SARIMA                             14.61                66.26"
      ]
     },
     "execution_count": 20,
     "metadata": {},
     "output_type": "execute_result"
    }
   ],
   "source": [
    "predictions"
   ]
  },
  {
   "cell_type": "code",
   "execution_count": 21,
   "metadata": {
    "pycharm": {
     "name": "#%%\n"
    }
   },
   "outputs": [
    {
     "name": "stderr",
     "output_type": "stream",
     "text": [
      "WARNING:root:Skipped Bivariate Analysis: There are less than 2 numeric variables.\n"
     ]
    },
    {
     "data": {
      "text/plain": [
       "\t\t\tOVERVIEW\n",
       "\t\t\t========\n",
       "Numeric features: Values\n",
       "\n",
       "\n",
       "\t  Summary Statistics (Numeric features)\n",
       "\t  -------------------------------------\n",
       "        count   mean    std    min    25%    50%    75%    max  skewness  \\\n",
       "Values 144.00 280.30 119.97 104.00 180.00 265.50 360.50 622.00      0.58   \n",
       "\n",
       "        kurtosis  \n",
       "Values     -0.36  \n"
      ]
     },
     "execution_count": 21,
     "metadata": {},
     "output_type": "execute_result"
    }
   ],
   "source": [
    "\"\"\"\n",
    "It allows you to get summary information about the data.\n",
    "\"\"\"\n",
    "\n",
    "from perlib.forecaster import summarize\n",
    "summarize(dataFrame=data)"
   ]
  },
  {
   "cell_type": "code",
   "execution_count": 22,
   "metadata": {
    "pycharm": {
     "name": "#%%\n"
    }
   },
   "outputs": [
    {
     "name": "stdout",
     "output_type": "stream",
     "text": [
      "AutoProcess process completed in 0.002483 seconds\n"
     ]
    }
   ],
   "source": [
    "from perlib.forecaster import preprocess\n",
    "#It automatically performs the necessary preprocessing in the data.\n",
    "data = preprocess.auto(dataFrame=data)"
   ]
  },
  {
   "cell_type": "code",
   "execution_count": 23,
   "metadata": {},
   "outputs": [
    {
     "data": {
      "text/html": [
       "<div>\n",
       "<style scoped>\n",
       "    .dataframe tbody tr th:only-of-type {\n",
       "        vertical-align: middle;\n",
       "    }\n",
       "\n",
       "    .dataframe tbody tr th {\n",
       "        vertical-align: top;\n",
       "    }\n",
       "\n",
       "    .dataframe thead th {\n",
       "        text-align: right;\n",
       "    }\n",
       "</style>\n",
       "<table border=\"1\" class=\"dataframe\">\n",
       "  <thead>\n",
       "    <tr style=\"text-align: right;\">\n",
       "      <th></th>\n",
       "      <th>index</th>\n",
       "      <th>Values</th>\n",
       "    </tr>\n",
       "  </thead>\n",
       "  <tbody>\n",
       "    <tr>\n",
       "      <th>0</th>\n",
       "      <td>2022-01-01</td>\n",
       "      <td>112</td>\n",
       "    </tr>\n",
       "    <tr>\n",
       "      <th>1</th>\n",
       "      <td>2022-01-02</td>\n",
       "      <td>118</td>\n",
       "    </tr>\n",
       "    <tr>\n",
       "      <th>2</th>\n",
       "      <td>2022-01-03</td>\n",
       "      <td>132</td>\n",
       "    </tr>\n",
       "    <tr>\n",
       "      <th>3</th>\n",
       "      <td>2022-01-04</td>\n",
       "      <td>129</td>\n",
       "    </tr>\n",
       "    <tr>\n",
       "      <th>4</th>\n",
       "      <td>2022-01-05</td>\n",
       "      <td>121</td>\n",
       "    </tr>\n",
       "    <tr>\n",
       "      <th>...</th>\n",
       "      <td>...</td>\n",
       "      <td>...</td>\n",
       "    </tr>\n",
       "    <tr>\n",
       "      <th>139</th>\n",
       "      <td>2022-05-20</td>\n",
       "      <td>606</td>\n",
       "    </tr>\n",
       "    <tr>\n",
       "      <th>140</th>\n",
       "      <td>2022-05-21</td>\n",
       "      <td>508</td>\n",
       "    </tr>\n",
       "    <tr>\n",
       "      <th>141</th>\n",
       "      <td>2022-05-22</td>\n",
       "      <td>461</td>\n",
       "    </tr>\n",
       "    <tr>\n",
       "      <th>142</th>\n",
       "      <td>2022-05-23</td>\n",
       "      <td>390</td>\n",
       "    </tr>\n",
       "    <tr>\n",
       "      <th>143</th>\n",
       "      <td>2022-05-24</td>\n",
       "      <td>432</td>\n",
       "    </tr>\n",
       "  </tbody>\n",
       "</table>\n",
       "<p>144 rows × 2 columns</p>\n",
       "</div>"
      ],
      "text/plain": [
       "         index  Values\n",
       "0   2022-01-01     112\n",
       "1   2022-01-02     118\n",
       "2   2022-01-03     132\n",
       "3   2022-01-04     129\n",
       "4   2022-01-05     121\n",
       "..         ...     ...\n",
       "139 2022-05-20     606\n",
       "140 2022-05-21     508\n",
       "141 2022-05-22     461\n",
       "142 2022-05-23     390\n",
       "143 2022-05-24     432\n",
       "\n",
       "[144 rows x 2 columns]"
      ]
     },
     "execution_count": 23,
     "metadata": {},
     "output_type": "execute_result"
    }
   ],
   "source": [
    "data"
   ]
  },
  {
   "cell_type": "code",
   "execution_count": null,
   "metadata": {
    "pycharm": {
     "name": "#%%\n"
    }
   },
   "outputs": [],
   "source": [
    "\"\"\"\n",
    "To manually create data preparation and preprocessing processes;\n",
    "Each function has a \"mode\" parameter. It returns \"auto\" by default.\n",
    "Otherwise, it will be enough to give the parameter you want.\n",
    "\"\"\"\n",
    "\n",
    "\n",
    "\n",
    "#Analyzes and organizes Missing values.\n",
    "data = preprocess.missing_num(dataFrame=data,mode=\"auto\")\n",
    "\n",
    "#Finds outliers in data.\n",
    "data = preprocess.find_outliers(dataFrame=data,mode=\"auto\")\n",
    "\n",
    "#Performs encoding operations\n",
    "data = preprocess.encode_cat(dataFrame=data,mode=\"auto\")\n",
    "\n",
    "#\n",
    "data = preprocess.dublicates(dataFrame=data,mode=\"auto\")\n"
   ]
  },
  {
   "cell_type": "markdown",
   "metadata": {
    "pycharm": {
     "name": "#%% md\n"
    }
   },
   "source": [
    "Deep Learning create architect"
   ]
  },
  {
   "cell_type": "code",
   "execution_count": null,
   "metadata": {
    "pycharm": {
     "name": "#%%\n"
    }
   },
   "outputs": [],
   "source": [
    "from perlib.forecaster import req_info,dmodels\n",
    "from perlib.core.train import dTrain\n",
    "from perlib.core.tester import dTester\n",
    "\n",
    "layers = {\"unit\":[10,10,10]\n",
    "                  ,\"activation\":[\"tanh\",\"tanh\",\"tanh\"],\n",
    "                    \"dropout\"  :[0.1,0.1,0.1]\n",
    "                  }\n",
    "\n",
    "\n",
    "#layers = {\n",
    "#        \"CNNFilters\":100,\n",
    "#        \"CNNKernel\":6,\n",
    "#        \"GRUUnits\":50,\n",
    "#        \"skip\" : 25,\n",
    "#        \"highway\" : 1\n",
    "#          }\n",
    "\n",
    "req_info.layers = None\n",
    "req_info.modelname = \"lstm\"\n",
    "req_info.epoch  =  2\n",
    "#req_info.learning_rate = 0.001\n",
    "req_info.loss  = \"mse\"\n",
    "req_info.lookback = 30\n",
    "req_info.optimizer = \"adam\"\n",
    "req_info.targetCol = \"Values\"\n",
    "req_info.forecastingStartDate = \"2022-05-20\"\n",
    "#req_info.period = \"daily\"\n",
    "req_info.forecastNumber = 30\n",
    "req_info.scaler = \"standard\"\n",
    "s = dmodels(req_info)\n"
   ]
  },
  {
   "cell_type": "code",
   "execution_count": null,
   "metadata": {
    "pycharm": {
     "name": "#%%\n"
    }
   },
   "outputs": [],
   "source": [
    "from perlib.core.train import dTrain\n",
    "train = dTrain(dataFrame=data,object=s)\n",
    "train.fit()"
   ]
  },
  {
   "cell_type": "code",
   "execution_count": null,
   "metadata": {
    "jupyter": {
     "outputs_hidden": false
    },
    "pycharm": {
     "name": "#%%\n"
    }
   },
   "outputs": [],
   "source": []
  },
  {
   "cell_type": "code",
   "execution_count": null,
   "metadata": {
    "pycharm": {
     "name": "#%%\n"
    }
   },
   "outputs": [],
   "source": [
    "# models are saved in the ./models folder. Do not forget to give the correct model name you have trained.\n",
    "from perlib.core.tester import dTester\n",
    "t = dTester(dataFrame=data,object=s,path=\"/Users/ruzgarkanar/Documents/Myprojects/perlib_backup/models/Data-lstm-2024-03-08-14-33-25.h5\",metric=[\"mape\",\"mae\"])\n",
    "t.forecast()"
   ]
  },
  {
   "cell_type": "code",
   "execution_count": null,
   "metadata": {
    "pycharm": {
     "name": "#%%\n"
    }
   },
   "outputs": [],
   "source": [
    "t.evaluate()"
   ]
  },
  {
   "cell_type": "code",
   "execution_count": null,
   "metadata": {
    "jupyter": {
     "outputs_hidden": false
    },
    "pycharm": {
     "name": "#%%\n"
    }
   },
   "outputs": [],
   "source": []
  },
  {
   "cell_type": "code",
   "execution_count": null,
   "metadata": {
    "jupyter": {
     "outputs_hidden": false
    },
    "pycharm": {
     "name": "#%%\n"
    }
   },
   "outputs": [],
   "source": []
  }
 ],
 "metadata": {
  "kernelspec": {
   "display_name": "Python 3 (ipykernel)",
   "language": "python",
   "name": "python3"
  },
  "language_info": {
   "codemirror_mode": {
    "name": "ipython",
    "version": 3
   },
   "file_extension": ".py",
   "mimetype": "text/x-python",
   "name": "python",
   "nbconvert_exporter": "python",
   "pygments_lexer": "ipython3",
   "version": "3.10.8"
  }
 },
 "nbformat": 4,
 "nbformat_minor": 4
}
