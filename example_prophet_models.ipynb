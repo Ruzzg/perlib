{
 "cells": [
  {
   "cell_type": "code",
   "execution_count": 1,
   "metadata": {},
   "outputs": [],
   "source": [
    "import os \n",
    "os.chdir(\"..\")\n",
    "import pandas as pd\n",
    "from perlib.datasets import *\n",
    "from perlib.core.models import prophet as ph"
   ]
  },
  {
   "cell_type": "code",
   "execution_count": 2,
   "metadata": {},
   "outputs": [
    {
     "data": {
      "text/html": [
       "<div>\n",
       "<style scoped>\n",
       "    .dataframe tbody tr th:only-of-type {\n",
       "        vertical-align: middle;\n",
       "    }\n",
       "\n",
       "    .dataframe tbody tr th {\n",
       "        vertical-align: top;\n",
       "    }\n",
       "\n",
       "    .dataframe thead th {\n",
       "        text-align: right;\n",
       "    }\n",
       "</style>\n",
       "<table border=\"1\" class=\"dataframe\">\n",
       "  <thead>\n",
       "    <tr style=\"text-align: right;\">\n",
       "      <th></th>\n",
       "      <th>Tarih</th>\n",
       "      <th>Values</th>\n",
       "    </tr>\n",
       "  </thead>\n",
       "  <tbody>\n",
       "    <tr>\n",
       "      <th>0</th>\n",
       "      <td>2022-01-01</td>\n",
       "      <td>112.00</td>\n",
       "    </tr>\n",
       "    <tr>\n",
       "      <th>1</th>\n",
       "      <td>2022-01-02</td>\n",
       "      <td>118.00</td>\n",
       "    </tr>\n",
       "    <tr>\n",
       "      <th>2</th>\n",
       "      <td>2022-01-03</td>\n",
       "      <td>132.00</td>\n",
       "    </tr>\n",
       "    <tr>\n",
       "      <th>3</th>\n",
       "      <td>2022-01-04</td>\n",
       "      <td>129.00</td>\n",
       "    </tr>\n",
       "    <tr>\n",
       "      <th>4</th>\n",
       "      <td>2022-01-05</td>\n",
       "      <td>121.00</td>\n",
       "    </tr>\n",
       "    <tr>\n",
       "      <th>...</th>\n",
       "      <td>...</td>\n",
       "      <td>...</td>\n",
       "    </tr>\n",
       "    <tr>\n",
       "      <th>139</th>\n",
       "      <td>2022-05-20</td>\n",
       "      <td>606.00</td>\n",
       "    </tr>\n",
       "    <tr>\n",
       "      <th>140</th>\n",
       "      <td>2022-05-21</td>\n",
       "      <td>508.00</td>\n",
       "    </tr>\n",
       "    <tr>\n",
       "      <th>141</th>\n",
       "      <td>2022-05-22</td>\n",
       "      <td>461.00</td>\n",
       "    </tr>\n",
       "    <tr>\n",
       "      <th>142</th>\n",
       "      <td>2022-05-23</td>\n",
       "      <td>390.00</td>\n",
       "    </tr>\n",
       "    <tr>\n",
       "      <th>143</th>\n",
       "      <td>2022-05-24</td>\n",
       "      <td>432.00</td>\n",
       "    </tr>\n",
       "  </tbody>\n",
       "</table>\n",
       "<p>144 rows × 2 columns</p>\n",
       "</div>"
      ],
      "text/plain": [
       "         Tarih  Values\n",
       "0   2022-01-01  112.00\n",
       "1   2022-01-02  118.00\n",
       "2   2022-01-03  132.00\n",
       "3   2022-01-04  129.00\n",
       "4   2022-01-05  121.00\n",
       "..         ...     ...\n",
       "139 2022-05-20  606.00\n",
       "140 2022-05-21  508.00\n",
       "141 2022-05-22  461.00\n",
       "142 2022-05-23  390.00\n",
       "143 2022-05-24  432.00\n",
       "\n",
       "[144 rows x 2 columns]"
      ]
     },
     "execution_count": 2,
     "metadata": {},
     "output_type": "execute_result"
    }
   ],
   "source": [
    "dataset = load_airpassengers()\n",
    "data = pd.DataFrame(dataset)\n",
    "data.index = pd.date_range(start=\"2022-01-01\",periods=len(data),freq=\"d\")\n",
    "data.columns = [\"Values\"]\n",
    "data = data.reset_index(names=\"Tarih\")\n",
    "data"
   ]
  },
  {
   "cell_type": "code",
   "execution_count": 3,
   "metadata": {},
   "outputs": [],
   "source": [
    "import numpy as np\n",
    "#Generating multivariate test data\n",
    "np.random.seed(42)  \n",
    "data['Promosyon'] = np.random.randint(0, 2, size=data.shape[0])  \n",
    "data['Tatil'] = np.where(data['Tarih'].dt.dayofweek > 5, 1, 0)  \n"
   ]
  },
  {
   "cell_type": "code",
   "execution_count": 4,
   "metadata": {},
   "outputs": [],
   "source": [
    "trainData= data[:-5]"
   ]
  },
  {
   "cell_type": "code",
   "execution_count": 5,
   "metadata": {},
   "outputs": [],
   "source": [
    "testData = data[-5:]"
   ]
  },
  {
   "cell_type": "code",
   "execution_count": 6,
   "metadata": {},
   "outputs": [
    {
     "data": {
      "text/html": [
       "<div>\n",
       "<style scoped>\n",
       "    .dataframe tbody tr th:only-of-type {\n",
       "        vertical-align: middle;\n",
       "    }\n",
       "\n",
       "    .dataframe tbody tr th {\n",
       "        vertical-align: top;\n",
       "    }\n",
       "\n",
       "    .dataframe thead th {\n",
       "        text-align: right;\n",
       "    }\n",
       "</style>\n",
       "<table border=\"1\" class=\"dataframe\">\n",
       "  <thead>\n",
       "    <tr style=\"text-align: right;\">\n",
       "      <th></th>\n",
       "      <th>Tarih</th>\n",
       "      <th>Values</th>\n",
       "      <th>Promosyon</th>\n",
       "      <th>Tatil</th>\n",
       "    </tr>\n",
       "  </thead>\n",
       "  <tbody>\n",
       "    <tr>\n",
       "      <th>0</th>\n",
       "      <td>2022-01-01</td>\n",
       "      <td>112.00</td>\n",
       "      <td>0</td>\n",
       "      <td>0</td>\n",
       "    </tr>\n",
       "    <tr>\n",
       "      <th>1</th>\n",
       "      <td>2022-01-02</td>\n",
       "      <td>118.00</td>\n",
       "      <td>1</td>\n",
       "      <td>1</td>\n",
       "    </tr>\n",
       "    <tr>\n",
       "      <th>2</th>\n",
       "      <td>2022-01-03</td>\n",
       "      <td>132.00</td>\n",
       "      <td>0</td>\n",
       "      <td>0</td>\n",
       "    </tr>\n",
       "    <tr>\n",
       "      <th>3</th>\n",
       "      <td>2022-01-04</td>\n",
       "      <td>129.00</td>\n",
       "      <td>0</td>\n",
       "      <td>0</td>\n",
       "    </tr>\n",
       "    <tr>\n",
       "      <th>4</th>\n",
       "      <td>2022-01-05</td>\n",
       "      <td>121.00</td>\n",
       "      <td>0</td>\n",
       "      <td>0</td>\n",
       "    </tr>\n",
       "    <tr>\n",
       "      <th>...</th>\n",
       "      <td>...</td>\n",
       "      <td>...</td>\n",
       "      <td>...</td>\n",
       "      <td>...</td>\n",
       "    </tr>\n",
       "    <tr>\n",
       "      <th>134</th>\n",
       "      <td>2022-05-15</td>\n",
       "      <td>419.00</td>\n",
       "      <td>0</td>\n",
       "      <td>1</td>\n",
       "    </tr>\n",
       "    <tr>\n",
       "      <th>135</th>\n",
       "      <td>2022-05-16</td>\n",
       "      <td>461.00</td>\n",
       "      <td>0</td>\n",
       "      <td>0</td>\n",
       "    </tr>\n",
       "    <tr>\n",
       "      <th>136</th>\n",
       "      <td>2022-05-17</td>\n",
       "      <td>472.00</td>\n",
       "      <td>0</td>\n",
       "      <td>0</td>\n",
       "    </tr>\n",
       "    <tr>\n",
       "      <th>137</th>\n",
       "      <td>2022-05-18</td>\n",
       "      <td>535.00</td>\n",
       "      <td>0</td>\n",
       "      <td>0</td>\n",
       "    </tr>\n",
       "    <tr>\n",
       "      <th>138</th>\n",
       "      <td>2022-05-19</td>\n",
       "      <td>622.00</td>\n",
       "      <td>0</td>\n",
       "      <td>0</td>\n",
       "    </tr>\n",
       "  </tbody>\n",
       "</table>\n",
       "<p>139 rows × 4 columns</p>\n",
       "</div>"
      ],
      "text/plain": [
       "         Tarih  Values  Promosyon  Tatil\n",
       "0   2022-01-01  112.00          0      0\n",
       "1   2022-01-02  118.00          1      1\n",
       "2   2022-01-03  132.00          0      0\n",
       "3   2022-01-04  129.00          0      0\n",
       "4   2022-01-05  121.00          0      0\n",
       "..         ...     ...        ...    ...\n",
       "134 2022-05-15  419.00          0      1\n",
       "135 2022-05-16  461.00          0      0\n",
       "136 2022-05-17  472.00          0      0\n",
       "137 2022-05-18  535.00          0      0\n",
       "138 2022-05-19  622.00          0      0\n",
       "\n",
       "[139 rows x 4 columns]"
      ]
     },
     "execution_count": 6,
     "metadata": {},
     "output_type": "execute_result"
    }
   ],
   "source": [
    "trainData"
   ]
  },
  {
   "cell_type": "code",
   "execution_count": 7,
   "metadata": {},
   "outputs": [
    {
     "data": {
      "text/html": [
       "<div>\n",
       "<style scoped>\n",
       "    .dataframe tbody tr th:only-of-type {\n",
       "        vertical-align: middle;\n",
       "    }\n",
       "\n",
       "    .dataframe tbody tr th {\n",
       "        vertical-align: top;\n",
       "    }\n",
       "\n",
       "    .dataframe thead th {\n",
       "        text-align: right;\n",
       "    }\n",
       "</style>\n",
       "<table border=\"1\" class=\"dataframe\">\n",
       "  <thead>\n",
       "    <tr style=\"text-align: right;\">\n",
       "      <th></th>\n",
       "      <th>Tarih</th>\n",
       "      <th>Values</th>\n",
       "      <th>Promosyon</th>\n",
       "      <th>Tatil</th>\n",
       "    </tr>\n",
       "  </thead>\n",
       "  <tbody>\n",
       "    <tr>\n",
       "      <th>139</th>\n",
       "      <td>2022-05-20</td>\n",
       "      <td>606.00</td>\n",
       "      <td>0</td>\n",
       "      <td>0</td>\n",
       "    </tr>\n",
       "    <tr>\n",
       "      <th>140</th>\n",
       "      <td>2022-05-21</td>\n",
       "      <td>508.00</td>\n",
       "      <td>1</td>\n",
       "      <td>0</td>\n",
       "    </tr>\n",
       "    <tr>\n",
       "      <th>141</th>\n",
       "      <td>2022-05-22</td>\n",
       "      <td>461.00</td>\n",
       "      <td>0</td>\n",
       "      <td>1</td>\n",
       "    </tr>\n",
       "    <tr>\n",
       "      <th>142</th>\n",
       "      <td>2022-05-23</td>\n",
       "      <td>390.00</td>\n",
       "      <td>1</td>\n",
       "      <td>0</td>\n",
       "    </tr>\n",
       "    <tr>\n",
       "      <th>143</th>\n",
       "      <td>2022-05-24</td>\n",
       "      <td>432.00</td>\n",
       "      <td>1</td>\n",
       "      <td>0</td>\n",
       "    </tr>\n",
       "  </tbody>\n",
       "</table>\n",
       "</div>"
      ],
      "text/plain": [
       "         Tarih  Values  Promosyon  Tatil\n",
       "139 2022-05-20  606.00          0      0\n",
       "140 2022-05-21  508.00          1      0\n",
       "141 2022-05-22  461.00          0      1\n",
       "142 2022-05-23  390.00          1      0\n",
       "143 2022-05-24  432.00          1      0"
      ]
     },
     "execution_count": 7,
     "metadata": {},
     "output_type": "execute_result"
    }
   ],
   "source": [
    "testData"
   ]
  },
  {
   "cell_type": "code",
   "execution_count": null,
   "metadata": {},
   "outputs": [],
   "source": []
  },
  {
   "cell_type": "code",
   "execution_count": 11,
   "metadata": {},
   "outputs": [],
   "source": [
    "datetime_test_start = pd.to_datetime('2022-05-20')\n",
    "n_test_hours = 24  \n",
    "col_y = 'Values'\n",
    "col_ds = 'Tarih'\n",
    "cols_feat = ['Promosyon', 'Tatil'] \n",
    "metics = [\"mape\",\"mae\",\"mse\"]\n"
   ]
  },
  {
   "cell_type": "code",
   "execution_count": 12,
   "metadata": {},
   "outputs": [
    {
     "name": "stderr",
     "output_type": "stream",
     "text": [
      "DEBUG:cmdstanpy:input tempfile: /var/folders/ww/cmmyl1z12sz3qvbf_c52g5hc0000gn/T/tmpgzg8t__m/nqut9vpm.json\n",
      "DEBUG:cmdstanpy:input tempfile: /var/folders/ww/cmmyl1z12sz3qvbf_c52g5hc0000gn/T/tmpgzg8t__m/75_58lzj.json\n",
      "DEBUG:cmdstanpy:idx 0\n",
      "DEBUG:cmdstanpy:running CmdStan, num_threads: None\n",
      "DEBUG:cmdstanpy:CmdStan args: ['/Users/ruzgarkanar/miniforge3/lib/python3.10/site-packages/prophet/stan_model/prophet_model.bin', 'random', 'seed=5230', 'data', 'file=/var/folders/ww/cmmyl1z12sz3qvbf_c52g5hc0000gn/T/tmpgzg8t__m/nqut9vpm.json', 'init=/var/folders/ww/cmmyl1z12sz3qvbf_c52g5hc0000gn/T/tmpgzg8t__m/75_58lzj.json', 'output', 'file=/var/folders/ww/cmmyl1z12sz3qvbf_c52g5hc0000gn/T/tmpgzg8t__m/prophet_modelpo5xzwy2/prophet_model-20240313214203.csv', 'method=optimize', 'algorithm=lbfgs', 'iter=10000']\n",
      "21:42:03 - cmdstanpy - INFO - Chain [1] start processing\n",
      "INFO:cmdstanpy:Chain [1] start processing\n"
     ]
    },
    {
     "name": "stderr",
     "output_type": "stream",
     "text": [
      "21:42:03 - cmdstanpy - INFO - Chain [1] done processing\n",
      "INFO:cmdstanpy:Chain [1] done processing\n"
     ]
    },
    {
     "name": "stdout",
     "output_type": "stream",
     "text": [
      "Model saved as models/Data-Prophet-2024-03-13-21-42-03.pkl\n"
     ]
    }
   ],
   "source": [
    "\"\"\"\n",
    "Model training operations are performed with different parameters.\n",
    "\"\"\"\n",
    "from perlib.forecaster import get_result\n",
    "results =  get_result(dataFrame=data,\n",
    "                      y=col_y,\n",
    "                      modelName=\"prophet\",\n",
    "                      dateColumn=col_ds,\n",
    "                      process=False,\n",
    "                      forecastNumber=n_test_hours,\n",
    "                      metric=[\"mape\",\"mae\",\"mse\"],\n",
    "                      forecastingStartDate=datetime_test_start\n",
    "                      )"
   ]
  },
  {
   "cell_type": "code",
   "execution_count": 13,
   "metadata": {},
   "outputs": [
    {
     "data": {
      "text/plain": [
       "(          ds  actual   yhat  yhat_lower  yhat_upper\n",
       " 0 2022-05-20  606.00 524.55      474.83      574.59\n",
       " 1 2022-05-21  508.00 538.83      486.77      590.62\n",
       " 2 2022-05-22  461.00 554.60      501.39      604.52\n",
       " 3 2022-05-23  390.00 565.56      510.15      619.26\n",
       " 4 2022-05-24  432.00 579.68      528.45      631.81,\n",
       " {'mean_absolute_percentage_error': 23.802628547342817,\n",
       "  'mean_absolute_error': 105.82349148369708,\n",
       "  'mean_squared_error': 13795.120856587717})"
      ]
     },
     "execution_count": 13,
     "metadata": {},
     "output_type": "execute_result"
    }
   ],
   "source": [
    "results"
   ]
  },
  {
   "cell_type": "code",
   "execution_count": null,
   "metadata": {},
   "outputs": [],
   "source": []
  },
  {
   "cell_type": "code",
   "execution_count": null,
   "metadata": {},
   "outputs": [],
   "source": []
  },
  {
   "cell_type": "code",
   "execution_count": null,
   "metadata": {},
   "outputs": [],
   "source": []
  },
  {
   "cell_type": "code",
   "execution_count": 10,
   "metadata": {},
   "outputs": [],
   "source": [
    "prophet_model = ph.ProphetModel(dfnow=trainData, n_test_hours=n_test_hours,\n",
    "                             datetime_test_start=datetime_test_start,\n",
    "                             col_y=col_y, col_ds=col_ds, cols_feat=cols_feat,metric=metics)"
   ]
  },
  {
   "cell_type": "code",
   "execution_count": 11,
   "metadata": {},
   "outputs": [
    {
     "name": "stderr",
     "output_type": "stream",
     "text": [
      "DEBUG:cmdstanpy:input tempfile: /var/folders/ww/cmmyl1z12sz3qvbf_c52g5hc0000gn/T/tmp71ox3tt3/rbcn9j0q.json\n",
      "DEBUG:cmdstanpy:input tempfile: /var/folders/ww/cmmyl1z12sz3qvbf_c52g5hc0000gn/T/tmp71ox3tt3/6k3ujnwx.json\n",
      "DEBUG:cmdstanpy:idx 0\n"
     ]
    },
    {
     "name": "stderr",
     "output_type": "stream",
     "text": [
      "DEBUG:cmdstanpy:running CmdStan, num_threads: None\n",
      "DEBUG:cmdstanpy:CmdStan args: ['/Users/ruzgarkanar/miniforge3/lib/python3.10/site-packages/prophet/stan_model/prophet_model.bin', 'random', 'seed=9399', 'data', 'file=/var/folders/ww/cmmyl1z12sz3qvbf_c52g5hc0000gn/T/tmp71ox3tt3/rbcn9j0q.json', 'init=/var/folders/ww/cmmyl1z12sz3qvbf_c52g5hc0000gn/T/tmp71ox3tt3/6k3ujnwx.json', 'output', 'file=/var/folders/ww/cmmyl1z12sz3qvbf_c52g5hc0000gn/T/tmp71ox3tt3/prophet_modelzsszdkr_/prophet_model-20240313210139.csv', 'method=optimize', 'algorithm=lbfgs', 'iter=10000']\n",
      "21:01:39 - cmdstanpy - INFO - Chain [1] start processing\n",
      "INFO:cmdstanpy:Chain [1] start processing\n",
      "21:01:39 - cmdstanpy - INFO - Chain [1] done processing\n",
      "INFO:cmdstanpy:Chain [1] done processing\n"
     ]
    },
    {
     "name": "stdout",
     "output_type": "stream",
     "text": [
      "Model saved as models/Data-Prophet-2024-03-13-21-01-38.pkl\n"
     ]
    }
   ],
   "source": [
    "forecast,calc = prophet_model.validate_singletrain()"
   ]
  },
  {
   "cell_type": "code",
   "execution_count": 12,
   "metadata": {},
   "outputs": [],
   "source": [
    "forecast"
   ]
  },
  {
   "cell_type": "code",
   "execution_count": 13,
   "metadata": {},
   "outputs": [
    {
     "data": {
      "text/plain": [
       "'No test data and missing future values for additional regressors.'"
      ]
     },
     "execution_count": 13,
     "metadata": {},
     "output_type": "execute_result"
    }
   ],
   "source": [
    "calc"
   ]
  },
  {
   "cell_type": "code",
   "execution_count": 14,
   "metadata": {},
   "outputs": [],
   "source": [
    "testData = testData.rename(columns={\"Tarih\":\"ds\",\"Values\":\"y\"})"
   ]
  },
  {
   "cell_type": "code",
   "execution_count": 15,
   "metadata": {},
   "outputs": [
    {
     "data": {
      "text/html": [
       "<div>\n",
       "<style scoped>\n",
       "    .dataframe tbody tr th:only-of-type {\n",
       "        vertical-align: middle;\n",
       "    }\n",
       "\n",
       "    .dataframe tbody tr th {\n",
       "        vertical-align: top;\n",
       "    }\n",
       "\n",
       "    .dataframe thead th {\n",
       "        text-align: right;\n",
       "    }\n",
       "</style>\n",
       "<table border=\"1\" class=\"dataframe\">\n",
       "  <thead>\n",
       "    <tr style=\"text-align: right;\">\n",
       "      <th></th>\n",
       "      <th>ds</th>\n",
       "      <th>y</th>\n",
       "      <th>Promosyon</th>\n",
       "      <th>Tatil</th>\n",
       "    </tr>\n",
       "  </thead>\n",
       "  <tbody>\n",
       "    <tr>\n",
       "      <th>139</th>\n",
       "      <td>2022-05-20</td>\n",
       "      <td>606.00</td>\n",
       "      <td>0</td>\n",
       "      <td>0</td>\n",
       "    </tr>\n",
       "    <tr>\n",
       "      <th>140</th>\n",
       "      <td>2022-05-21</td>\n",
       "      <td>508.00</td>\n",
       "      <td>1</td>\n",
       "      <td>0</td>\n",
       "    </tr>\n",
       "    <tr>\n",
       "      <th>141</th>\n",
       "      <td>2022-05-22</td>\n",
       "      <td>461.00</td>\n",
       "      <td>0</td>\n",
       "      <td>1</td>\n",
       "    </tr>\n",
       "    <tr>\n",
       "      <th>142</th>\n",
       "      <td>2022-05-23</td>\n",
       "      <td>390.00</td>\n",
       "      <td>1</td>\n",
       "      <td>0</td>\n",
       "    </tr>\n",
       "    <tr>\n",
       "      <th>143</th>\n",
       "      <td>2022-05-24</td>\n",
       "      <td>432.00</td>\n",
       "      <td>1</td>\n",
       "      <td>0</td>\n",
       "    </tr>\n",
       "  </tbody>\n",
       "</table>\n",
       "</div>"
      ],
      "text/plain": [
       "            ds      y  Promosyon  Tatil\n",
       "139 2022-05-20 606.00          0      0\n",
       "140 2022-05-21 508.00          1      0\n",
       "141 2022-05-22 461.00          0      1\n",
       "142 2022-05-23 390.00          1      0\n",
       "143 2022-05-24 432.00          1      0"
      ]
     },
     "execution_count": 15,
     "metadata": {},
     "output_type": "execute_result"
    }
   ],
   "source": [
    "testData"
   ]
  },
  {
   "cell_type": "code",
   "execution_count": 16,
   "metadata": {},
   "outputs": [
    {
     "data": {
      "text/html": [
       "<div>\n",
       "<style scoped>\n",
       "    .dataframe tbody tr th:only-of-type {\n",
       "        vertical-align: middle;\n",
       "    }\n",
       "\n",
       "    .dataframe tbody tr th {\n",
       "        vertical-align: top;\n",
       "    }\n",
       "\n",
       "    .dataframe thead th {\n",
       "        text-align: right;\n",
       "    }\n",
       "</style>\n",
       "<table border=\"1\" class=\"dataframe\">\n",
       "  <thead>\n",
       "    <tr style=\"text-align: right;\">\n",
       "      <th></th>\n",
       "      <th>ds</th>\n",
       "      <th>yhat</th>\n",
       "      <th>yhat_lower</th>\n",
       "      <th>yhat_upper</th>\n",
       "    </tr>\n",
       "  </thead>\n",
       "  <tbody>\n",
       "    <tr>\n",
       "      <th>0</th>\n",
       "      <td>2022-05-20</td>\n",
       "      <td>538.74</td>\n",
       "      <td>484.39</td>\n",
       "      <td>591.91</td>\n",
       "    </tr>\n",
       "    <tr>\n",
       "      <th>1</th>\n",
       "      <td>2022-05-21</td>\n",
       "      <td>566.04</td>\n",
       "      <td>517.06</td>\n",
       "      <td>621.01</td>\n",
       "    </tr>\n",
       "    <tr>\n",
       "      <th>2</th>\n",
       "      <td>2022-05-22</td>\n",
       "      <td>581.02</td>\n",
       "      <td>526.75</td>\n",
       "      <td>629.76</td>\n",
       "    </tr>\n",
       "    <tr>\n",
       "      <th>3</th>\n",
       "      <td>2022-05-23</td>\n",
       "      <td>604.49</td>\n",
       "      <td>550.79</td>\n",
       "      <td>654.29</td>\n",
       "    </tr>\n",
       "    <tr>\n",
       "      <th>4</th>\n",
       "      <td>2022-05-24</td>\n",
       "      <td>624.67</td>\n",
       "      <td>576.42</td>\n",
       "      <td>677.79</td>\n",
       "    </tr>\n",
       "  </tbody>\n",
       "</table>\n",
       "</div>"
      ],
      "text/plain": [
       "          ds   yhat  yhat_lower  yhat_upper\n",
       "0 2022-05-20 538.74      484.39      591.91\n",
       "1 2022-05-21 566.04      517.06      621.01\n",
       "2 2022-05-22 581.02      526.75      629.76\n",
       "3 2022-05-23 604.49      550.79      654.29\n",
       "4 2022-05-24 624.67      576.42      677.79"
      ]
     },
     "execution_count": 16,
     "metadata": {},
     "output_type": "execute_result"
    }
   ],
   "source": [
    "prophet_model.make_future_predictions(model_or_path = prophet_model.model,testData=testData)"
   ]
  },
  {
   "cell_type": "code",
   "execution_count": null,
   "metadata": {},
   "outputs": [],
   "source": []
  }
 ],
 "metadata": {
  "kernelspec": {
   "display_name": "base",
   "language": "python",
   "name": "python3"
  },
  "language_info": {
   "codemirror_mode": {
    "name": "ipython",
    "version": 3
   },
   "file_extension": ".py",
   "mimetype": "text/x-python",
   "name": "python",
   "nbconvert_exporter": "python",
   "pygments_lexer": "ipython3",
   "version": "3.10.8"
  }
 },
 "nbformat": 4,
 "nbformat_minor": 2
}
